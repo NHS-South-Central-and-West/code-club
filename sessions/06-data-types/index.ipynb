{
  "cells": [
    {
      "cell_type": "markdown",
      "metadata": {},
      "source": [
        "# An Introduction to Data Types\n",
        "\n",
        "This session is the first in a series of programming fundamentals. We\n",
        "recognise that this content might be a bit more dry and abstract, but it\n",
        "is important background to know when you start to actually use Python in\n",
        "your day to day work.\n",
        "\n",
        "If you’ve used Excel and changed the data format for a cell, you’ve\n",
        "already come across data types! It is important to understand how Python\n",
        "stores values in variables and the pitfalls, gotchas and errors you may\n",
        "come across when working with data. The slide deck below gives a\n",
        "(*little*) bit of history before giving an overview of how data types\n",
        "work in Python. On the last slides are some links to useful resources on\n",
        "the web, which you may want to make note of for the future. Below the\n",
        "slides is a live notebook that demonstrates this, with some exercises at\n",
        "the end to check your understanding.\n",
        "\n",
        "# Slides\n",
        "\n",
        "Use the left ⬅️ and right ➡️ arrow keys to navigate through the slides\n",
        "below. To view in a separate tab/window,\n",
        "<a href=\"slides.html\" target=\"_blank\">follow this link</a>."
      ],
      "id": "15fbc0b7-ebc3-4edb-85d3-361204e63cbd"
    },
    {
      "cell_type": "raw",
      "metadata": {
        "raw_mimetype": "text/html"
      },
      "source": [
        "<iframe src=\"slides.html\" height=\"500\" width=\"100%\">"
      ],
      "id": "55265e7a-3f18-45f8-af6f-e4fae2fe7f5e"
    },
    {
      "cell_type": "raw",
      "metadata": {
        "raw_mimetype": "text/html"
      },
      "source": [
        "</iframe>"
      ],
      "id": "2b2728f5-eb9e-4a72-a1f2-bf7d4a010979"
    },
    {
      "cell_type": "markdown",
      "metadata": {},
      "source": [
        "# Assigning types to variables\n",
        "\n",
        "## Automatically\n",
        "\n",
        "Python automatically assigns a type to a variable based on the value we\n",
        "put into it when we use the `=` assignment operator."
      ],
      "id": "1d085ea8-23af-4e46-b468-539d347311c1"
    },
    {
      "cell_type": "code",
      "execution_count": 1,
      "metadata": {},
      "outputs": [],
      "source": [
        "our_integer = 1\n",
        "our_float = 2.2\n",
        "our_integer_turned_into_a_float = float(our_integer)\n",
        "our_string=\"Hello SCW!\""
      ],
      "id": "022f2262"
    },
    {
      "cell_type": "markdown",
      "metadata": {},
      "source": [
        "## Manually\n",
        "\n",
        "If we need to, we can use a *constructor function* named after the data\n",
        "type, like `int()` or `str()` to force a variable to be the specific\n",
        "type we need it to be."
      ],
      "id": "f697561b-6868-452f-ad52-799fb0518483"
    },
    {
      "cell_type": "code",
      "execution_count": 2,
      "metadata": {},
      "outputs": [],
      "source": [
        "a = str(\"123\") # a will contain the string 123 rather than the numeric value\n",
        "b = float(2) # b will contain the decimal value 2.0\n",
        "c = int(1.9) # just throws away the .9; not rounded!"
      ],
      "id": "9b736371"
    },
    {
      "cell_type": "markdown",
      "metadata": {},
      "source": [
        "## Finding out what type a variable is"
      ],
      "id": "375ee995-1d38-4c60-a460-a33c871eac79"
    },
    {
      "cell_type": "code",
      "execution_count": 3,
      "metadata": {},
      "outputs": [],
      "source": [
        "print (type(a)) # output: <class 'str'>\n",
        "print (type(b)) # output: <class 'float'>\n",
        "print (type(c)) # output: <class 'int'>"
      ],
      "id": "d65bef50"
    },
    {
      "cell_type": "markdown",
      "metadata": {},
      "source": [
        "# Data types\n",
        "\n",
        "## Booleans\n",
        "\n",
        "Bools are often an intermediate - they are an output of evaluations like\n",
        "`1 == 2`. Booleans may sound very basic, but they are crucial in\n",
        "understanding control flow, which we’ll be covering in a future session!"
      ],
      "id": "cc7daeed-5cc7-4b52-b01e-0c6fd65cc1a7"
    },
    {
      "cell_type": "code",
      "execution_count": 4,
      "metadata": {},
      "outputs": [],
      "source": [
        "z = True            # you'll rarely ever assign a boolean directly like this, but do note they are\n",
        "                    # case sensitive; z = true wouldn't have worked here.\n",
        "print(type(z))      # output: <class 'bool'>\n",
        "print (10>9)        # output: True\n",
        "print (1 == 2)      # output: False\n",
        " \n",
        "print(bool(123))    # output: True\n",
        "print(bool(\"abc\"))  # output: True\n",
        "print(bool(None))   # output: False\n",
        "print(bool(0))      # output: False"
      ],
      "id": "f11960cd"
    },
    {
      "cell_type": "markdown",
      "metadata": {},
      "source": [
        "## Numeric types\n",
        "\n",
        "Python supports different kinds of numbers, including integers (`int`),\n",
        "floating point numbers (`float`). You can do basic arithmetic (+, -, \\*,\n",
        "/), exponentiation (\\*\\*), and use built-in functions like `round()`,\n",
        "`abs()`, and `pow()`."
      ],
      "id": "e80c6c19-d663-473c-998c-8bc5e764daa9"
    },
    {
      "cell_type": "code",
      "execution_count": 5,
      "metadata": {},
      "outputs": [],
      "source": [
        "a = 10              # int\n",
        "b = 3               # int\n",
        "c = 2.5             # float\n",
        "d = -2              # int\n",
        "\n",
        "print(a+b)          # output: 13, an int\n",
        "print(a+c)          # output: 12.5, a float\n",
        "print(a ** (1/2))   # taking the square root of an int returns a float\n",
        " \n",
        "print(float(a))     # output: 10.0\n",
        "print(int(2.88))    # output: 2; just throws away the decimal part\n",
        " \n",
        "print(round(2.88))  # output: 3\n",
        "print(round(2.88,1))# output: 2.9"
      ],
      "id": "e0ce6436"
    },
    {
      "cell_type": "markdown",
      "metadata": {},
      "source": [
        "## Strings\n",
        "\n",
        "Strings are sequences of characters enclosed in quotes. They support\n",
        "indexing, slicing, and a range of methods like `.lower()`, `.replace()`,\n",
        "`.split()`, and .`join()`."
      ],
      "id": "40721724-771d-4ca3-9845-fe356a9dca0c"
    },
    {
      "cell_type": "code",
      "execution_count": 6,
      "metadata": {},
      "outputs": [],
      "source": [
        "str_a = \"Hello\"              # string\n",
        "str_b = \"SCW!\"               # string\n",
        "\n",
        "str_ab = str_a + \" \" + str_b # python repurposes the \"+\" to mean string concatenation as well as addition\n",
        "print(str_ab)                # output: Hello SCW!\n",
        " \n",
        "print(str_ab.find(\"SCW\"))    # output:6 (the location in the string of the substring \"SCW\". Starts from 0!)\n",
        " \n",
        "str_repeated = str_ab * 3 \n",
        "print(str_repeated)          # output: Hello SCW!Hello SCW!Hello SCW!\n",
        " \n",
        "print(len(str_a))            # output: 5\n",
        "print(str_a[0])              # output: H\n",
        "print(str_a[0:3])            # output: Hel (give me 3 characters starting at 0)\n",
        "print(str_a[3:])             # output: lo (give me everything starting at 3)\n",
        "print(str_a[:5])             # output: Hello (give me the first 5 characters)"
      ],
      "id": "2d37f5df"
    },
    {
      "cell_type": "markdown",
      "metadata": {},
      "source": [
        "## Lists\n",
        "\n",
        "Lists are ordered, mutable (changeable) collections. They can hold any\n",
        "type of data and support operations like appending (`.append()`),\n",
        "removing (`.remove()`), and slicing (`our_list[1:4]`)."
      ],
      "id": "357669b5-83af-402d-b550-08c0cb59971d"
    },
    {
      "cell_type": "code",
      "execution_count": 7,
      "metadata": {},
      "outputs": [],
      "source": [
        "fruits = [\"banana\", \"lychee\", \"raspberry\", \"apple\"]\n",
        "print(fruits[0])          # output: banana (string)\n",
        "print(fruits[0:2])        # output: ['banana','lychee'] (list!)\n",
        "print(fruits[-1])         # output: apple (string)\n",
        " \n",
        "fruits.append(\"orange\") \n",
        "print(fruits)             # output: ['banana', 'lychee', 'raspberry', 'apple', 'orange']\n",
        " \n",
        "print(\"orange\" in fruits) # output: True\n",
        "print(\"tomato\" in fruits) # output: False\n",
        " \n",
        "fruits.sort() \n",
        "print(fruits)             # output: ['apple', 'banana', 'lychee', 'orange', 'raspberry']"
      ],
      "id": "ea3d7a8c"
    },
    {
      "cell_type": "markdown",
      "metadata": {},
      "source": [
        "Lists can contain any combination of other data types."
      ],
      "id": "c862e274-10de-443e-b179-dc1634b55436"
    },
    {
      "cell_type": "code",
      "execution_count": 8,
      "metadata": {},
      "outputs": [],
      "source": [
        "mixed_list = [\"blue\", \"green\", False, 2, 2.55]\n",
        "for item in mixed_list: # we're using a loop here; don't worry if you don't recognise this syntax\n",
        "    print(type(item))   # output:<class 'str'> <class 'str'> <class 'bool'> <class 'int'> <class 'float'>"
      ],
      "id": "eb307b6d"
    },
    {
      "cell_type": "markdown",
      "metadata": {},
      "source": [
        "## Dicts\n",
        "\n",
        "Dictionaries store key-value pairs and are optimized for lookups. Keys\n",
        "must be unique and are immutable, but values are mutable. You can add,\n",
        "update, or delete items using `dict[key] = value`, `dict.get(key)`, or\n",
        "`del dict[key]`."
      ],
      "id": "e39a4252-6211-4c46-98a2-4ca25f10e504"
    },
    {
      "cell_type": "code",
      "execution_count": 9,
      "metadata": {},
      "outputs": [],
      "source": [
        "SCW_basic_info={\n",
        "    \"org_code\"      : \"0DF\",\n",
        "    \"short_name\"    : \"SCW CSU\",\n",
        "    \"long_name\"     : \"NHS South, Central and West Commissioning Support Unit\",\n",
        "    \"year_opened\"   : 2014,\n",
        "    \"active\"        : True,\n",
        "    \"postcode\"      : \"SO50 5PB\"\n",
        "}\n",
        "\n",
        "print(type(SCW_basic_info[\"active\"]))       # output: <class 'bool'>\n",
        "print(type(SCW_basic_info[\"year_opened\"]))  # output: <class 'int'>\n",
        " \n",
        "print(SCW_basic_info[\"org_code\"])           # output: \"0DF\"\n",
        "print(len(SCW_basic_info))                  # output: 6\n",
        " \n",
        "SCW_basic_info[\"number_of_staff\"] = 1000    # we can easily add a new key and value at the same time\n",
        " \n",
        "print(len(SCW_basic_info))                  # output: 7\n",
        " \n",
        "SCW_basic_info[\"number_of_staff\"] += 1      # we hired a new member of staff\n",
        "print(SCW_basic_info[\"number_of_staff\"])    # output: 1001"
      ],
      "id": "ab0e92c8"
    },
    {
      "cell_type": "markdown",
      "metadata": {},
      "source": [
        "# Manipulating data types\n",
        "\n",
        "We can use our constructor functions (`str()`, `int()`, etc) to convert\n",
        "between types in a generally intuitive way - think `CAST()` from SQL but\n",
        "a little less clunky."
      ],
      "id": "b274f29c-c1f4-4208-ae01-75b591bee378"
    },
    {
      "cell_type": "code",
      "execution_count": 10,
      "metadata": {},
      "outputs": [],
      "source": [
        "str_number = \"123\"          # creating a variable that has a number stored as a string\n",
        "print(type(str_number))     # output:<class 'str'>\n",
        "\n",
        "str_number=int(str_number)  # using the int() constructor function\n",
        "print(type(str_number))     # output:<class 'int'>\n",
        "\n",
        "a = 321                     # we didn't use a decimal point, so python assumes we want an int\n",
        "print(type(a))              # output:<class 'int'>\n",
        "a = float(a)                # turning it into a float and overwriting itself this time\n",
        "print(type(a))              # output:<class 'float'>"
      ],
      "id": "5b5e1d59"
    },
    {
      "cell_type": "markdown",
      "metadata": {},
      "source": [
        "If we try to do something silly, we get an error."
      ],
      "id": "c3c1838a-b7f5-4f4e-9929-0756cb15ffe1"
    },
    {
      "cell_type": "code",
      "execution_count": 11,
      "metadata": {},
      "outputs": [],
      "source": [
        "b = int(\"kiwi\")             # output: ValueError: invalid literal for int() with base 10: 'kiwi'"
      ],
      "id": "247b5766"
    },
    {
      "cell_type": "markdown",
      "metadata": {},
      "source": [
        "# Exercises\n",
        "\n",
        "1.  Create a new variable with the name one_two_three, and assign it the\n",
        "    value “123” as a string.\n",
        "\n",
        "> **Solution**\n",
        ">\n",
        "> ``` python\n",
        "> one_two_three = \"123\" \n",
        "> ```\n",
        ">\n",
        "> Using the double quotes is enough to force it to be a string, but you\n",
        "> also could have done `one_two_three=str(123)`.\n",
        "\n",
        "1.  Prove that it is indeed a string, before converting it to an\n",
        "    integer, putting the result in a new variable and keeping the old\n",
        "    one the same.\n",
        "\n",
        "> **Solution**\n",
        ">\n",
        "> ``` python\n",
        "> print(type(one_two_three))\n",
        "> one_two_three_number = int(one_two_three)\n",
        "> ```\n",
        ">\n",
        ">     <class 'str'>\n",
        "\n",
        "1.  If you tried to add the string and int together (using the +\n",
        "    operator) what would happen?\n",
        "\n",
        "> **Solution**\n",
        ">\n",
        "> You’d get an error - which exact error depends on whether you tried to\n",
        "> add the string to the int, or the other way around. Python doesn’t let\n",
        "> you do this.\n",
        "\n",
        "1.  Create a list that contains the names of your three favourite films.\n",
        "\n",
        "> **Solution**\n",
        ">\n",
        "> ``` python\n",
        "> top_three = [\"The Sound of Music\", \"Back to the Future\", \"Finding Nemo\"]\n",
        "> ```\n",
        ">\n",
        "> Of course, any set of films would have been fine :)\n",
        "\n",
        "1.  Print the second film in your list.\n",
        "\n",
        "> **Solution**\n",
        ">\n",
        "> ``` python\n",
        "> print( top_three[1] )\n",
        "> ```\n",
        ">\n",
        ">     Back to the Future\n",
        ">\n",
        "> Remember that array indices start at 0, so number 1 is the second\n",
        "> element.\n",
        "\n",
        "1.  We only have time to watch two films. Print the first two items in\n",
        "    your list.\n",
        "\n",
        "> **Solution**\n",
        ">\n",
        "> ``` python\n",
        "> print( top_three[0:2])\n",
        "> ```\n",
        ">\n",
        ">     ['The Sound of Music', 'Back to the Future']\n",
        ">\n",
        "> This syntax is (in my opinion) slightly confusing - it doesn’t mean\n",
        "> “from 0 to 2”, it means “start at 0 and give me two elements from the\n",
        "> list”.\n",
        ">\n",
        "> Alternatively:\n",
        ">\n",
        "> ``` python\n",
        "> print( top_three[:2])\n",
        "> ```\n",
        ">\n",
        ">     ['The Sound of Music', 'Back to the Future']\n",
        ">\n",
        "> Does the same thing - omitting the `0` results in starting from the\n",
        "> beginning by default\n",
        "\n",
        "1.  Sort your list alphabetically, and then print it out to make sure\n",
        "    it’s worked. You may need to do a quick web search along the lines\n",
        "    of “python sort list”.\n",
        "\n",
        "> **Solution**\n",
        ">\n",
        "> ``` python\n",
        "> top_three.sort()\n",
        "> print( top_three )\n",
        "> ```\n",
        ">\n",
        ">     ['Back to the Future', 'Finding Nemo', 'The Sound of Music']\n",
        ">\n",
        "> Alternatively, you could have used `sorted()`, like this:\n",
        ">\n",
        "> ``` python\n",
        "> top_three_sorted = sorted(top_three)\n",
        "> print( top_three_sorted )\n",
        "> ```\n",
        ">\n",
        ">     ['Back to the Future', 'Finding Nemo', 'The Sound of Music']\n",
        "\n",
        "1.  What is the result of doing `3 + 1.5` and what type is this result?\n",
        "\n",
        "> **Solution**\n",
        ">\n",
        "> Adding an `int` to a `float` in Python results in a `float`. The\n",
        "> result of this calculation is `4.5`.\n",
        ">\n",
        "> ``` python\n",
        "> print (3 + 1.5)\n",
        "> print(type(3 + 1.5)) # <class 'float'>\n",
        "> ```\n",
        ">\n",
        ">     4.5\n",
        ">     <class 'float'>\n",
        "\n",
        "1.  What’s the problem with the following code, and how would you\n",
        "    correct it?"
      ],
      "id": "8bd4d146-6d58-48c2-a7ba-17482fc7dabf"
    },
    {
      "cell_type": "code",
      "execution_count": 21,
      "metadata": {},
      "outputs": [],
      "source": [
        "a = 1 + 2/3 # 1.66666...\n",
        "b = int(a)  # we only want whole numbers!"
      ],
      "id": "09ff838a"
    },
    {
      "cell_type": "markdown",
      "metadata": {},
      "source": [
        "> **Solution**\n",
        ">\n",
        "> The problem is that changing a `float` into an `int` doesn’t actually\n",
        "> round the number, it just throws away the bit after the decimal point.\n",
        "> Unless this is what we want, we should do this instead:\n",
        ">\n",
        "> ``` python\n",
        "> a = 1 + 2/3   # 1.66666...\n",
        "> b = round(a)  # round to the nearest whole number\n",
        "> ```\n",
        "\n",
        "1.  Create two strings, `first_name` and `last_name` and assign them to\n",
        "    your first and last name, and then create a new string called\n",
        "    `full_name` with your first and last name with a space in between.\n",
        "    Print it to make sure it’s worked.\n",
        "\n",
        "> **Solution**\n",
        ">\n",
        "> ``` python\n",
        "> first_name = \"Jane\"\n",
        "> last_name = \"Bloggs\"\n",
        "> full_name = first_name + \" \" + last_name\n",
        "> print(full_name)\n",
        "> ```\n",
        ">\n",
        ">     Jane Bloggs\n",
        "\n",
        "1.  We have a `dict` that we created as follows:"
      ],
      "id": "8b749c66-88ff-428f-8336-7efc07d8188a"
    },
    {
      "cell_type": "code",
      "execution_count": 24,
      "metadata": {},
      "outputs": [],
      "source": [
        "person = {\"first_name\": \"Jane\", \"last_name\": \"Bloggs\", \"year_of_birth\": 1967, \"post_code\": \"SO50 5PB\", \"person_number\": 122333}"
      ],
      "id": "adcfb59f"
    },
    {
      "cell_type": "markdown",
      "metadata": {},
      "source": [
        "Print out Jane Bloggs’ age, assuming she’s already had her birthday this\n",
        "year.\n",
        "\n",
        "> **Solution**\n",
        ">\n",
        "> ``` python\n",
        "> person = {\"first_name\": \"Jane\", \"last_name\": \"Bloggs\", \"year_of_birth\": 1967, \"post_code\": \"SO50 5PB\", \"person_number\": 122333}\n",
        ">\n",
        "> age = 2025-person[\"year_of_birth\"]\n",
        "> print(age)\n",
        "> ```\n",
        ">\n",
        ">     58"
      ],
      "id": "dcf46f1d-06f2-4e7c-92f1-d1a73f808711"
    }
  ],
  "nbformat": 4,
  "nbformat_minor": 5,
  "metadata": {
    "kernelspec": {
      "name": "python3",
      "display_name": "Python 3 (ipykernel)",
      "language": "python",
      "path": "C:.willemsen-club.venv"
    },
    "language_info": {
      "name": "python",
      "codemirror_mode": {
        "name": "ipython",
        "version": "3"
      },
      "file_extension": ".py",
      "mimetype": "text/x-python",
      "nbconvert_exporter": "python",
      "pygments_lexer": "ipython3",
      "version": "3.12.9"
    }
  }
}