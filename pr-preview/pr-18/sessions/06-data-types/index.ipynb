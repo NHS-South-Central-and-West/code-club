{
  "cells": [
    {
      "cell_type": "markdown",
      "metadata": {},
      "source": [
        "# An Introduction to Data Types\n",
        "\n",
        "Intro paragraph\n",
        "\n",
        "# Slides\n",
        "\n",
        "Use the left ⬅️ and right ➡️ arrow keys to navigate through the slides\n",
        "below. To view in a separate tab/window,\n",
        "<a href=\"slides.html\" target=\"_blank\">follow this link</a>."
      ],
      "id": "2ec12006-1fd2-43cc-8f2e-1f3a8e3410b1"
    },
    {
      "cell_type": "raw",
      "metadata": {
        "raw_mimetype": "text/html"
      },
      "source": [
        "<iframe src=\"slides.html\" height=\"500\" width=\"100%\">"
      ],
      "id": "6aab7815-fd83-499b-8e74-f63c1dc94973"
    },
    {
      "cell_type": "raw",
      "metadata": {
        "raw_mimetype": "text/html"
      },
      "source": [
        "</iframe>"
      ],
      "id": "a36d204b-3815-4a4b-8583-c7bdf037c946"
    },
    {
      "cell_type": "markdown",
      "metadata": {},
      "source": [
        "# Assigning types to variables\n",
        "\n",
        "## Automatically\n",
        "\n",
        "Python automatically assigns a type to a variable based on the value we\n",
        "put into it. We can use the `type()` function to see what type has been\n",
        "given to each variable."
      ],
      "id": "9b630770-13c8-4afd-93a4-7ea3102298b8"
    },
    {
      "cell_type": "code",
      "execution_count": 1,
      "metadata": {},
      "outputs": [],
      "source": [
        "our_integer = 1\n",
        "our_float = 2.2\n",
        "our_integer_turned_into_a_float = float(our_integer)\n",
        "our_string=\"Hello SCW!\""
      ],
      "id": "7789e76b"
    },
    {
      "cell_type": "markdown",
      "metadata": {},
      "source": [
        "## Manually\n",
        "\n",
        "If we need to, we can use a *constructor function* named after the data\n",
        "type, like `int()` or `str()` to force a variable to be the specific\n",
        "type we need it to be."
      ],
      "id": "a0bc8aaa-8c4f-40a9-a569-2ff97f258d44"
    },
    {
      "cell_type": "code",
      "execution_count": 2,
      "metadata": {},
      "outputs": [
        {
          "output_type": "stream",
          "name": "stdout",
          "text": [
            "a is a <class 'str'> with the value 123\n",
            "b is a <class 'float'> with the value 2.0\n",
            "c is a <class 'int'> with the value 1"
          ]
        }
      ],
      "source": [
        "a = str(\"123\")\n",
        "b = float(2)\n",
        "c = int(1.9) # just throws away the .9; not rounded!\n",
        "print ('a is a ' + str(type(a))+' with the value ' + str(a))\n",
        "print ('b is a ' + str(type(b))+' with the value ' + str(b))\n",
        "print ('c is a ' + str(type(c))+' with the value ' + str(c))"
      ],
      "id": "f4da0891"
    },
    {
      "cell_type": "markdown",
      "metadata": {},
      "source": [
        "## Finding out what type a variable is"
      ],
      "id": "2d187a0b-7da6-4e19-a1f9-77243d80f725"
    },
    {
      "cell_type": "code",
      "execution_count": 3,
      "metadata": {},
      "outputs": [
        {
          "output_type": "stream",
          "name": "stdout",
          "text": [
            "<class 'str'>\n",
            "<class 'float'>\n",
            "<class 'int'>"
          ]
        }
      ],
      "source": [
        "print (type(a))\n",
        "print (type(b))\n",
        "print (type(c))"
      ],
      "id": "8193cf0f"
    },
    {
      "cell_type": "markdown",
      "metadata": {},
      "source": [
        "# Data types\n",
        "\n",
        "## Booleans\n",
        "\n",
        "Bools are often an intermediate - they are an output of evaluations like\n",
        "`1 == 2`. Booleans may sound very basic, but they are crucial in\n",
        "understanding control flow, which we’ll be covering in a future session!"
      ],
      "id": "ee475727-506f-4150-9b2c-7eac083e462b"
    },
    {
      "cell_type": "code",
      "execution_count": 4,
      "metadata": {},
      "outputs": [
        {
          "output_type": "stream",
          "name": "stdout",
          "text": [
            "<class 'bool'>\n",
            "True\n",
            "False\n",
            "True\n",
            "True\n",
            "False\n",
            "False"
          ]
        }
      ],
      "source": [
        "z = True            # you'll rarely ever assign a boolean directly like this, but do note they are\n",
        "                    # case sensitive; z = true wouldn't have worked here.\n",
        "print(type(z))      # output: <class 'bool'>\n",
        "print (10>9)        # output: True\n",
        "print (1 == 2)      # output: False\n",
        " \n",
        "print(bool(123))    # output: True\n",
        "print(bool(\"abc\"))  # output: True\n",
        "print(bool(None))   # output: False\n",
        "print(bool(0))      # output: False"
      ],
      "id": "fbe7007f"
    },
    {
      "cell_type": "markdown",
      "metadata": {},
      "source": [
        "## Numeric types"
      ],
      "id": "678fa944-a071-4330-9a2c-2f227832a9bf"
    },
    {
      "cell_type": "code",
      "execution_count": 5,
      "metadata": {},
      "outputs": [
        {
          "output_type": "stream",
          "name": "stdout",
          "text": [
            "13\n",
            "12.5\n",
            "10.0\n",
            "2\n",
            "3\n",
            "2.9"
          ]
        }
      ],
      "source": [
        "a = 10              # int\n",
        "b = 3               # int\n",
        "c = 2.5             # float\n",
        "d = -2              # int\n",
        "\n",
        "print(a+b)          # output: 13, an int\n",
        "print(a+c)          # output: 12.5, a float\n",
        " \n",
        "print(float(a))     # output: 10.0\n",
        "print(int(2.88))    # output: 2; just throws away the decimal part\n",
        " \n",
        "print(round(2.88))  # output: 3\n",
        "print(round(2.88,1))# output: 2.9"
      ],
      "id": "5f4e50c3"
    },
    {
      "cell_type": "markdown",
      "metadata": {},
      "source": [
        "## Strings"
      ],
      "id": "af96a135-bd2a-4f1c-b384-d23eaf8c2624"
    },
    {
      "cell_type": "code",
      "execution_count": 6,
      "metadata": {},
      "outputs": [
        {
          "output_type": "stream",
          "name": "stdout",
          "text": [
            "Hello SCW!\n",
            "6\n",
            "Hello SCW!Hello SCW!Hello SCW!\n",
            "5\n",
            "H\n",
            "Hel\n",
            "lo\n",
            "Hello"
          ]
        }
      ],
      "source": [
        "str_a = \"Hello\"              # string\n",
        "str_b = \"SCW!\"               # string\n",
        "\n",
        "str_ab = str_a + \" \" + str_b # python repurposes the \"+\" to mean string concatenation as well as addition\n",
        "print(str_ab)                # output: Hello SCW!\n",
        " \n",
        "print(str_ab.find(\"SCW\"))    # output:6 (the location in the string of the substring \"SCW\". Starts from 0!)\n",
        " \n",
        "str_repeated = str_ab * 3 \n",
        "print(str_repeated)          # output: Hello SCW!Hello SCW!Hello SCW!\n",
        " \n",
        "print(len(str_a))            # output: 5\n",
        "print(str_a[0])              # output: H\n",
        "print(str_a[0:3])            # output: Hel (give me 3 characters starting at 0)\n",
        "print(str_a[3:])             # output: lo (give me everything starting at 3)\n",
        "print(str_a[:5])             # output: Hello (give me the first 5 characters)"
      ],
      "id": "ca76c5d5"
    },
    {
      "cell_type": "markdown",
      "metadata": {},
      "source": [
        "## Lists"
      ],
      "id": "b4b65456-8bfa-4d13-aae3-75882c7152db"
    },
    {
      "cell_type": "code",
      "execution_count": 7,
      "metadata": {},
      "outputs": [
        {
          "output_type": "stream",
          "name": "stdout",
          "text": [
            "banana\n",
            "['banana', 'lychee']\n",
            "apple\n",
            "['banana', 'lychee', 'raspberry', 'apple', 'orange']\n",
            "True\n",
            "False\n",
            "['apple', 'banana', 'lychee', 'orange', 'raspberry']\n",
            "<class 'str'>\n",
            "<class 'str'>\n",
            "<class 'bool'>\n",
            "<class 'int'>\n",
            "<class 'float'>\n",
            "<class 'str'>\n",
            "<class 'int'>\n",
            "<class 'int'>\n",
            "<class 'float'>"
          ]
        }
      ],
      "source": [
        "fruits = [\"banana\", \"lychee\", \"raspberry\", \"apple\"]\n",
        "print(fruits[0])        #output: banana (string)\n",
        "print(fruits[0:2])      #output: ['banana','lychee'] (list!)\n",
        "print(fruits[-1])       #output: apple (string)\n",
        "\n",
        "fruits.append(\"orange\")\n",
        "print(fruits)           #output: ['banana', 'lychee', 'raspberry', 'apple', 'orange']\n",
        "\n",
        "print(\"orange\" in fruits) #output: True\n",
        "print(\"tomato\" in fruits) #output: False\n",
        "\n",
        "fruits.sort()\n",
        "print(fruits)           #output: ['apple', 'banana', 'lychee', 'orange', 'raspberry']\n",
        "\n",
        "mixed_list = [\"blue\", \"green\", False, 2, 2.55] #each item in a list can be a different data type!\n",
        "for item in mixed_list:\n",
        "    print(type(item))   #output:<class 'str'> <class 'str'> <class 'bool'> <class 'int'> <class 'float'>\n",
        "\n",
        "str_number = \"123\"\n",
        "print(type(str_number)) #output:<class 'str'>\n",
        "str_number=int(str_number)\n",
        "print(type(str_number)) #output:<class 'int'>\n",
        "\n",
        "a = 321\n",
        "print(type(a))          #output:<class 'int'>\n",
        "a = float(a)\n",
        "print(type(a))          #output:<class 'float'>\n",
        "\n",
        "#b = int(\"kiwi\")        #output: ValueError: invalid literal for int() with base 10: 'kiwi'"
      ],
      "id": "086889b1"
    },
    {
      "cell_type": "markdown",
      "metadata": {},
      "source": [
        "## Dicts"
      ],
      "id": "fac03c2a-c121-4eeb-83a5-548b31010d92"
    },
    {
      "cell_type": "code",
      "execution_count": 8,
      "metadata": {},
      "outputs": [
        {
          "output_type": "stream",
          "name": "stdout",
          "text": [
            "<class 'bool'>\n",
            "<class 'int'>\n",
            "0DF\n",
            "6\n",
            "7\n",
            "1001"
          ]
        }
      ],
      "source": [
        "SCW_basic_info={\n",
        "    \"org_code\": \"0DF\",\n",
        "    \"short_name\": \"SCW CSU\",\n",
        "    \"long_name\": \"NHS South, Central and West Commissioning Support Unit\",\n",
        "    \"year_opened\": 2014,\n",
        "    \"active\":True,\n",
        "    \"postcode\":\"SO50 5PB\"\n",
        "}\n",
        "\n",
        "print(type(SCW_basic_info[\"active\"]))       #output: <class 'bool'>\n",
        "print(type(SCW_basic_info[\"year_opened\"]))  #output: <class 'int'>\n",
        "\n",
        "print(SCW_basic_info[\"org_code\"])           #output: \"0DF\"\n",
        "print(len(SCW_basic_info))                  #output: 6\n",
        "\n",
        "SCW_basic_info[\"number_of_staff\"] = 1000    #we can easily add a new key and value at the same time\n",
        "\n",
        "print(len(SCW_basic_info))                  #output: 7\n",
        "\n",
        "SCW_basic_info[\"number_of_staff\"] += 1      #we hired a new member of staff\n",
        "print(SCW_basic_info[\"number_of_staff\"])    #output: 1001"
      ],
      "id": "5072af7b"
    },
    {
      "cell_type": "markdown",
      "metadata": {},
      "source": [
        "# Exercises"
      ],
      "id": "62bb3109-e428-4da6-8d32-382c0cdf1975"
    }
  ],
  "nbformat": 4,
  "nbformat_minor": 5,
  "metadata": {
    "kernelspec": {
      "name": "python3",
      "display_name": "Python 3 (ipykernel)",
      "language": "python",
      "path": "C:.willemsen-club.venv"
    }
  }
}