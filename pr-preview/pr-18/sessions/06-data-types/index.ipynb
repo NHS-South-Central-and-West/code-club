{
  "cells": [
    {
      "cell_type": "markdown",
      "metadata": {},
      "source": [
        "# An Introduction to Data Types\n",
        "\n",
        "Intro paragraph\n",
        "\n",
        "# Slides\n",
        "\n",
        "Use the left ⬅️ and right ➡️ arrow keys to navigate through the slides\n",
        "below. To view in a separate tab/window,\n",
        "<a href=\"slides.html\" target=\"_blank\">follow this link</a>."
      ],
      "id": "3e1ec788-6850-4cd5-8e6e-75a78e82b717"
    },
    {
      "cell_type": "raw",
      "metadata": {
        "raw_mimetype": "text/html"
      },
      "source": [
        "<iframe src=\"slides.html\" height=\"500\" width=\"100%\">"
      ],
      "id": "a4bbd4e8-4c25-48d6-afef-52e8f99f319e"
    },
    {
      "cell_type": "raw",
      "metadata": {
        "raw_mimetype": "text/html"
      },
      "source": [
        "</iframe>"
      ],
      "id": "ddceab42-d662-40ee-9cf0-c0822cc324db"
    },
    {
      "cell_type": "markdown",
      "metadata": {},
      "source": [
        "# Assigning types to variables\n",
        "\n",
        "## Automatically\n",
        "\n",
        "Python automatically assigns a type to a variable based on the value we\n",
        "put into it when we use the `=` assignment operator."
      ],
      "id": "7e11739a-7e75-424b-a96a-3ff8f7e5ec3c"
    },
    {
      "cell_type": "code",
      "execution_count": 1,
      "metadata": {},
      "outputs": [],
      "source": [
        "our_integer = 1\n",
        "our_float = 2.2\n",
        "our_integer_turned_into_a_float = float(our_integer)\n",
        "our_string=\"Hello SCW!\""
      ],
      "id": "e26335fd"
    },
    {
      "cell_type": "markdown",
      "metadata": {},
      "source": [
        "## Manually\n",
        "\n",
        "If we need to, we can use a *constructor function* named after the data\n",
        "type, like `int()` or `str()` to force a variable to be the specific\n",
        "type we need it to be."
      ],
      "id": "c3ac40d4-f66b-4593-9001-51d5d0a8fb1b"
    },
    {
      "cell_type": "code",
      "execution_count": 2,
      "metadata": {},
      "outputs": [],
      "source": [
        "a = str(\"123\") # a will contain the string 123 rather than the numeric value\n",
        "b = float(2) # b will contain the decimal value 2.0\n",
        "c = int(1.9) # just throws away the .9; not rounded!"
      ],
      "id": "8656f5c1"
    },
    {
      "cell_type": "markdown",
      "metadata": {},
      "source": [
        "## Finding out what type a variable is"
      ],
      "id": "ddb5e0a7-ae14-4a67-bb22-21e8321d0c3e"
    },
    {
      "cell_type": "code",
      "execution_count": 3,
      "metadata": {},
      "outputs": [
        {
          "output_type": "stream",
          "name": "stdout",
          "text": [
            "<class 'str'>\n",
            "<class 'float'>\n",
            "<class 'int'>"
          ]
        }
      ],
      "source": [
        "print (type(a))\n",
        "print (type(b))\n",
        "print (type(c))"
      ],
      "id": "c8595c35"
    },
    {
      "cell_type": "markdown",
      "metadata": {},
      "source": [
        "# Data types\n",
        "\n",
        "## Booleans\n",
        "\n",
        "Bools are often an intermediate - they are an output of evaluations like\n",
        "`1 == 2`. Booleans may sound very basic, but they are crucial in\n",
        "understanding control flow, which we’ll be covering in a future session!"
      ],
      "id": "fa23559f-41ea-456a-810f-227035c89b59"
    },
    {
      "cell_type": "code",
      "execution_count": 4,
      "metadata": {},
      "outputs": [
        {
          "output_type": "stream",
          "name": "stdout",
          "text": [
            "<class 'bool'>\n",
            "True\n",
            "False\n",
            "True\n",
            "True\n",
            "False\n",
            "False"
          ]
        }
      ],
      "source": [
        "z = True            # you'll rarely ever assign a boolean directly like this, but do note they are\n",
        "                    # case sensitive; z = true wouldn't have worked here.\n",
        "print(type(z))      # output: <class 'bool'>\n",
        "print (10>9)        # output: True\n",
        "print (1 == 2)      # output: False\n",
        " \n",
        "print(bool(123))    # output: True\n",
        "print(bool(\"abc\"))  # output: True\n",
        "print(bool(None))   # output: False\n",
        "print(bool(0))      # output: False"
      ],
      "id": "9b671375"
    },
    {
      "cell_type": "markdown",
      "metadata": {},
      "source": [
        "## Numeric types\n",
        "\n",
        "Python supports different kinds of numbers, including integers (int),\n",
        "floating point numbers (float). You can do basic arithmetic (+, -, \\*,\n",
        "/), exponentiation (\\*\\*), and use built-in functions like round(),\n",
        "abs(), and pow()."
      ],
      "id": "0a5ce394-26a0-4ea9-8101-259abe198185"
    },
    {
      "cell_type": "code",
      "execution_count": 5,
      "metadata": {},
      "outputs": [
        {
          "output_type": "stream",
          "name": "stdout",
          "text": [
            "13\n",
            "12.5\n",
            "3.1622776601683795\n",
            "10.0\n",
            "2\n",
            "3\n",
            "2.9"
          ]
        }
      ],
      "source": [
        "a = 10              # int\n",
        "b = 3               # int\n",
        "c = 2.5             # float\n",
        "d = -2              # int\n",
        "\n",
        "print(a+b)          # output: 13, an int\n",
        "print(a+c)          # output: 12.5, a float\n",
        "print(a ** (1/2))   # taking the square root of an int returns a float\n",
        " \n",
        "print(float(a))     # output: 10.0\n",
        "print(int(2.88))    # output: 2; just throws away the decimal part\n",
        " \n",
        "print(round(2.88))  # output: 3\n",
        "print(round(2.88,1))# output: 2.9"
      ],
      "id": "aead40a0"
    },
    {
      "cell_type": "markdown",
      "metadata": {},
      "source": [
        "## Strings\n",
        "\n",
        "Strings are sequences of characters enclosed in quotes. They support\n",
        "indexing, slicing, and a wide range of methods like .lower(),\n",
        ".replace(), .split(), and .join()."
      ],
      "id": "40a9b726-c02e-48fa-b245-95878eac57ab"
    },
    {
      "cell_type": "code",
      "execution_count": 6,
      "metadata": {},
      "outputs": [
        {
          "output_type": "stream",
          "name": "stdout",
          "text": [
            "Hello SCW!\n",
            "6\n",
            "Hello SCW!Hello SCW!Hello SCW!\n",
            "5\n",
            "H\n",
            "Hel\n",
            "lo\n",
            "Hello"
          ]
        }
      ],
      "source": [
        "str_a = \"Hello\"              # string\n",
        "str_b = \"SCW!\"               # string\n",
        "\n",
        "str_ab = str_a + \" \" + str_b # python repurposes the \"+\" to mean string concatenation as well as addition\n",
        "print(str_ab)                # output: Hello SCW!\n",
        " \n",
        "print(str_ab.find(\"SCW\"))    # output:6 (the location in the string of the substring \"SCW\". Starts from 0!)\n",
        " \n",
        "str_repeated = str_ab * 3 \n",
        "print(str_repeated)          # output: Hello SCW!Hello SCW!Hello SCW!\n",
        " \n",
        "print(len(str_a))            # output: 5\n",
        "print(str_a[0])              # output: H\n",
        "print(str_a[0:3])            # output: Hel (give me 3 characters starting at 0)\n",
        "print(str_a[3:])             # output: lo (give me everything starting at 3)\n",
        "print(str_a[:5])             # output: Hello (give me the first 5 characters)"
      ],
      "id": "b800cc99"
    },
    {
      "cell_type": "markdown",
      "metadata": {},
      "source": [
        "## Lists\n",
        "\n",
        "Lists are ordered, mutable (changeable) collections. They can hold any\n",
        "type of data and support operations like appending (`.append()`),\n",
        "removing (`.remove()`), and slicing (`our_list[1:4]`)."
      ],
      "id": "bbc4b60a-bb64-4224-8f45-16c7d12389e5"
    },
    {
      "cell_type": "code",
      "execution_count": 7,
      "metadata": {},
      "outputs": [
        {
          "output_type": "stream",
          "name": "stdout",
          "text": [
            "banana\n",
            "['banana', 'lychee']\n",
            "apple\n",
            "['banana', 'lychee', 'raspberry', 'apple', 'orange']\n",
            "True\n",
            "False\n",
            "['apple', 'banana', 'lychee', 'orange', 'raspberry']\n",
            "<class 'str'>\n",
            "<class 'str'>\n",
            "<class 'bool'>\n",
            "<class 'int'>\n",
            "<class 'float'>\n",
            "<class 'str'>\n",
            "<class 'int'>\n",
            "<class 'int'>\n",
            "<class 'float'>"
          ]
        }
      ],
      "source": [
        "fruits = [\"banana\", \"lychee\", \"raspberry\", \"apple\"]\n",
        "print(fruits[0])        #output: banana (string)\n",
        "print(fruits[0:2])      #output: ['banana','lychee'] (list!)\n",
        "print(fruits[-1])       #output: apple (string)\n",
        "\n",
        "fruits.append(\"orange\")\n",
        "print(fruits)           #output: ['banana', 'lychee', 'raspberry', 'apple', 'orange']\n",
        "\n",
        "print(\"orange\" in fruits) #output: True\n",
        "print(\"tomato\" in fruits) #output: False\n",
        "\n",
        "fruits.sort()\n",
        "print(fruits)           #output: ['apple', 'banana', 'lychee', 'orange', 'raspberry']\n",
        "\n",
        "mixed_list = [\"blue\", \"green\", False, 2, 2.55] #each item in a list can be a different data type!\n",
        "for item in mixed_list:\n",
        "    print(type(item))   #output:<class 'str'> <class 'str'> <class 'bool'> <class 'int'> <class 'float'>\n",
        "\n",
        "str_number = \"123\"\n",
        "print(type(str_number)) #output:<class 'str'>\n",
        "str_number=int(str_number)\n",
        "print(type(str_number)) #output:<class 'int'>\n",
        "\n",
        "a = 321\n",
        "print(type(a))          #output:<class 'int'>\n",
        "a = float(a)\n",
        "print(type(a))          #output:<class 'float'>\n",
        "\n",
        "#b = int(\"kiwi\")        #output: ValueError: invalid literal for int() with base 10: 'kiwi'"
      ],
      "id": "17d21f9d"
    },
    {
      "cell_type": "markdown",
      "metadata": {},
      "source": [
        "## Dicts\n",
        "\n",
        "Dictionaries store key-value pairs and are optimized for lookups. Keys\n",
        "must be unique and are immutable, but values are mutable. You can add,\n",
        "update, or delete items using dict\\[key\\] = value, dict.get(key), or del\n",
        "dict\\[key\\]."
      ],
      "id": "2b67023d-30a1-4e29-8bbd-b6d628d18d16"
    },
    {
      "cell_type": "code",
      "execution_count": 8,
      "metadata": {},
      "outputs": [
        {
          "output_type": "stream",
          "name": "stdout",
          "text": [
            "<class 'bool'>\n",
            "<class 'int'>\n",
            "0DF\n",
            "6\n",
            "7\n",
            "1001"
          ]
        }
      ],
      "source": [
        "SCW_basic_info={\n",
        "    \"org_code\"      : \"0DF\",\n",
        "    \"short_name\"    : \"SCW CSU\",\n",
        "    \"long_name\"     : \"NHS South, Central and West Commissioning Support Unit\",\n",
        "    \"year_opened\"   : 2014,\n",
        "    \"active\"        : True,\n",
        "    \"postcode\"      : \"SO50 5PB\"\n",
        "}\n",
        "\n",
        "print(type(SCW_basic_info[\"active\"]))       #output: <class 'bool'>\n",
        "print(type(SCW_basic_info[\"year_opened\"]))  #output: <class 'int'>\n",
        "\n",
        "print(SCW_basic_info[\"org_code\"])           #output: \"0DF\"\n",
        "print(len(SCW_basic_info))                  #output: 6\n",
        "\n",
        "SCW_basic_info[\"number_of_staff\"] = 1000    #we can easily add a new key and value at the same time\n",
        "\n",
        "print(len(SCW_basic_info))                  #output: 7\n",
        "\n",
        "SCW_basic_info[\"number_of_staff\"] += 1      #we hired a new member of staff\n",
        "print(SCW_basic_info[\"number_of_staff\"])    #output: 1001"
      ],
      "id": "83c05730"
    },
    {
      "cell_type": "markdown",
      "metadata": {},
      "source": [
        "# Exercises"
      ],
      "id": "89e5e0a9-3dcb-4663-a8fc-7d30810f821e"
    }
  ],
  "nbformat": 4,
  "nbformat_minor": 5,
  "metadata": {
    "kernelspec": {
      "name": "python3",
      "display_name": "Python 3 (ipykernel)",
      "language": "python",
      "path": "C:.willemsen-club.venv"
    }
  }
}