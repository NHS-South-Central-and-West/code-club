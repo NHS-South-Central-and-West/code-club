{
  "cells": [
    {
      "cell_type": "markdown",
      "metadata": {},
      "source": [
        "# Exploring Data Using Pandas\n",
        "\n",
        "This is the first of four sessions looking at how to explore data in\n",
        "Python. This session will focus on introducing the Python library,\n",
        "[pandas](https://pandas.pydata.org/docs/). We will use pandas to import,\n",
        "inspect, summarise, and transform the data, illustrating a typical\n",
        "exploratory data analysis workflow.\n",
        "\n",
        "We are using [Australian weather\n",
        "data](https://www.kaggle.com/datasets/jsphyg/weather-dataset-rattle-package),\n",
        "taken from [Kaggle](https://kaggle.com). This dataset is used to build\n",
        "machine learning models that predict whether it will rain tomorrow,\n",
        "using data about the weather every day from 2007 to 2017. To download\n",
        "the data, click <a href=\"data/weatherAUS.csv\" download>here</a>."
      ],
      "id": "5ae58d21-08a2-4303-b5c6-519abe4c2eaa"
    },
    {
      "cell_type": "code",
      "execution_count": 1,
      "metadata": {},
      "outputs": [],
      "source": [
        "# install necessary packages\n",
        "# !uv add skimpy\n",
        "\n",
        "# import packages\n",
        "import matplotlib.pyplot as plt\n",
        "import numpy as np\n",
        "import pandas as pd\n",
        "import seaborn as sns\n",
        "\n",
        "from skimpy import skim"
      ],
      "id": "setup"
    },
    {
      "cell_type": "code",
      "execution_count": 2,
      "metadata": {},
      "outputs": [],
      "source": [
        "# import the dataset\n",
        "df = pd.read_csv('data/weatherAUS.csv')"
      ],
      "id": "import-data"
    },
    {
      "cell_type": "markdown",
      "metadata": {},
      "source": [
        "## Setting the Scene\n",
        "\n",
        "Before we start to explore any dataset, we need to establish what we are\n",
        "looking to do with the data. This should inform our decisions wwith any\n",
        "exploration, and any analysis that follows.\n",
        "\n",
        "**Questions:**\n",
        "\n",
        "-   What are we trying to achieve?\n",
        "-   How do our goals impact our analysis?\n",
        "-   What should we take into consideration before we write any code?\n",
        "-   What sort of questions might we be interested in with this dataset?\n",
        "\n",
        "### What Our Data Can Tell Us (And What it Can’t)\n",
        "\n",
        "We also need to consider what the data is and where it came from.\n",
        "\n",
        "**Questions:**\n",
        "\n",
        "-   How was the data collected?\n",
        "-   What is it missing?\n",
        "-   What do the variables in our dataset actually mean, and are they a\n",
        "    good approximation of the concepts we are interested in?\n",
        "\n",
        "## Exploring the Dataset\n",
        "\n",
        "First, we should start with dataset-wide operations.\n",
        "\n",
        "**Questions:**\n",
        "\n",
        "-   What do we want to know about a dataset when we first encounter it?\n",
        "-   How do we get a quick overview of the data that can help us in our\n",
        "    next steps?\n",
        "-   We need to get a “feel” for the data before we can really make any\n",
        "    decisions about how to analyse it. How do we get there with a new\n",
        "    dataset?\n",
        "\n",
        "We can start by getting a quick glance at the data. The starting point\n",
        "when you have just imported a new dataset is usually the pandas function\n",
        "`pd.DataFrame.head()`, which shows the top $n$ rows of the dataset (by\n",
        "default it shows the top five rows)."
      ],
      "id": "c56b74c0-e4f8-4473-94ee-caa1d0780f77"
    },
    {
      "cell_type": "code",
      "execution_count": 3,
      "metadata": {},
      "outputs": [
        {
          "output_type": "display_data",
          "metadata": {},
          "data": {
            "text/html": [
              "\n",
              "<p>5 rows × 23 columns</p>\n",
              "</div>"
            ]
          }
        }
      ],
      "source": [
        "# view the top five rows\n",
        "df.head()"
      ],
      "id": "cell-inspect-data-head"
    },
    {
      "cell_type": "markdown",
      "metadata": {},
      "source": [
        "You can also look at the bottom rows of the dataset, using\n",
        "`pd.DataFrame.tail()`. This might be useful if you are dealing with\n",
        "time-series data. Below, we specify that we want to look at the bottom\n",
        "ten rows."
      ],
      "id": "3970ab6b-089f-40f3-943e-b8145433f5a2"
    },
    {
      "cell_type": "code",
      "execution_count": 4,
      "metadata": {},
      "outputs": [
        {
          "output_type": "display_data",
          "metadata": {},
          "data": {
            "text/html": [
              "\n",
              "<p>10 rows × 23 columns</p>\n",
              "</div>"
            ]
          }
        }
      ],
      "source": [
        "# view the bottom ten rows\n",
        "df.tail(10)"
      ],
      "id": "cell-inspect-data-tail"
    },
    {
      "cell_type": "markdown",
      "metadata": {},
      "source": [
        "A quick glimpse at the data is useful, but we may also want to get quick\n",
        "descriptions of several aspects of the data. Such as the length of the\n",
        "dataset (`len()`, which can also be used to get the length of various\n",
        "Python objects), which tells us how many observations we have."
      ],
      "id": "ad6d5c62-f7d0-435d-ab96-4b6b7c8a8713"
    },
    {
      "cell_type": "code",
      "execution_count": 5,
      "metadata": {},
      "outputs": [
        {
          "output_type": "display_data",
          "metadata": {},
          "data": {
            "text/plain": [
              "145460"
            ]
          }
        }
      ],
      "source": [
        "# get the object length\n",
        "len(df)"
      ],
      "id": "cell-data-length"
    },
    {
      "cell_type": "markdown",
      "metadata": {},
      "source": [
        "Another option is `pd.DataFrame.shape()`, which shows the length (number\n",
        "of rows) and width (number of columns)."
      ],
      "id": "4420367f-e810-4154-a761-315a35576475"
    },
    {
      "cell_type": "code",
      "execution_count": 6,
      "metadata": {},
      "outputs": [
        {
          "output_type": "display_data",
          "metadata": {},
          "data": {
            "text/plain": [
              "(145460, 23)"
            ]
          }
        }
      ],
      "source": [
        "# get the object shape (number of rows, number of columns)\n",
        "df.shape"
      ],
      "id": "cell-data-shape"
    },
    {
      "cell_type": "markdown",
      "metadata": {},
      "source": [
        "Speaking of columns, if we want a quick list of the column names, we can\n",
        "get this using `pd.DataFrame.columns()`."
      ],
      "id": "c008bc9f-930f-4226-b352-eb45a3719007"
    },
    {
      "cell_type": "code",
      "execution_count": 7,
      "metadata": {},
      "outputs": [
        {
          "output_type": "display_data",
          "metadata": {},
          "data": {
            "text/plain": [
              "Index(['Date', 'Location', 'MinTemp', 'MaxTemp', 'Rainfall', 'Evaporation',\n",
              "       'Sunshine', 'WindGustDir', 'WindGustSpeed', 'WindDir9am', 'WindDir3pm',\n",
              "       'WindSpeed9am', 'WindSpeed3pm', 'Humidity9am', 'Humidity3pm',\n",
              "       'Pressure9am', 'Pressure3pm', 'Cloud9am', 'Cloud3pm', 'Temp9am',\n",
              "       'Temp3pm', 'RainToday', 'RainTomorrow'],\n",
              "      dtype='object')"
            ]
          }
        }
      ],
      "source": [
        "# get all column names\n",
        "df.columns"
      ],
      "id": "cell-col-names"
    },
    {
      "cell_type": "markdown",
      "metadata": {},
      "source": [
        "A quick and easy way to get some valuable information about the dataset\n",
        "is `pd.DataFrame.info()`, including the total non-null observations and\n",
        "data type[1] of each column.\n",
        "\n",
        "[1] For more information about pandas data types, check out the pandas\n",
        "documentation on\n",
        "[dtypes](https://pandas.pydata.org/pandas-docs/stable/user_guide/basics.html#basics-dtypes)."
      ],
      "id": "d9890545-0528-47c6-acad-8b24b7eeb779"
    },
    {
      "cell_type": "code",
      "execution_count": 8,
      "metadata": {},
      "outputs": [
        {
          "output_type": "stream",
          "name": "stdout",
          "text": [
            "<class 'pandas.core.frame.DataFrame'>\n",
            "RangeIndex: 145460 entries, 0 to 145459\n",
            "Data columns (total 23 columns):\n",
            " #   Column         Non-Null Count   Dtype  \n",
            "---  ------         --------------   -----  \n",
            " 0   Date           145460 non-null  object \n",
            " 1   Location       145460 non-null  object \n",
            " 2   MinTemp        143975 non-null  float64\n",
            " 3   MaxTemp        144199 non-null  float64\n",
            " 4   Rainfall       142199 non-null  float64\n",
            " 5   Evaporation    82670 non-null   float64\n",
            " 6   Sunshine       75625 non-null   float64\n",
            " 7   WindGustDir    135134 non-null  object \n",
            " 8   WindGustSpeed  135197 non-null  float64\n",
            " 9   WindDir9am     134894 non-null  object \n",
            " 10  WindDir3pm     141232 non-null  object \n",
            " 11  WindSpeed9am   143693 non-null  float64\n",
            " 12  WindSpeed3pm   142398 non-null  float64\n",
            " 13  Humidity9am    142806 non-null  float64\n",
            " 14  Humidity3pm    140953 non-null  float64\n",
            " 15  Pressure9am    130395 non-null  float64\n",
            " 16  Pressure3pm    130432 non-null  float64\n",
            " 17  Cloud9am       89572 non-null   float64\n",
            " 18  Cloud3pm       86102 non-null   float64\n",
            " 19  Temp9am        143693 non-null  float64\n",
            " 20  Temp3pm        141851 non-null  float64\n",
            " 21  RainToday      142199 non-null  object \n",
            " 22  RainTomorrow   142193 non-null  object \n",
            "dtypes: float64(16), object(7)\n",
            "memory usage: 25.5+ MB"
          ]
        }
      ],
      "source": [
        "# get dataframe info (column indices, non-null counts, data types)\n",
        "df.info()"
      ],
      "id": "data-info"
    },
    {
      "cell_type": "markdown",
      "metadata": {},
      "source": [
        "If we wanted to get a better sense of the null values in each column, we\n",
        "could calculate the percentage of null values by capturing whether each\n",
        "row of each column is null (`pd.DataFrame.isnull()`), summing the total\n",
        "null values in each column (`pd.DataFrame.sum()`), and then dividing by\n",
        "the length of the dataframe (`/len()`)."
      ],
      "id": "2f99a100-e109-46e5-988f-7793f10768f3"
    },
    {
      "cell_type": "code",
      "execution_count": 9,
      "metadata": {},
      "outputs": [
        {
          "output_type": "display_data",
          "metadata": {},
          "data": {
            "text/plain": [
              "Date             0.000000\n",
              "Location         0.000000\n",
              "MinTemp          0.010209\n",
              "MaxTemp          0.008669\n",
              "Rainfall         0.022419\n",
              "Evaporation      0.431665\n",
              "Sunshine         0.480098\n",
              "WindGustDir      0.070989\n",
              "WindGustSpeed    0.070555\n",
              "WindDir9am       0.072639\n",
              "WindDir3pm       0.029066\n",
              "WindSpeed9am     0.012148\n",
              "WindSpeed3pm     0.021050\n",
              "Humidity9am      0.018246\n",
              "Humidity3pm      0.030984\n",
              "Pressure9am      0.103568\n",
              "Pressure3pm      0.103314\n",
              "Cloud9am         0.384216\n",
              "Cloud3pm         0.408071\n",
              "Temp9am          0.012148\n",
              "Temp3pm          0.024811\n",
              "RainToday        0.022419\n",
              "RainTomorrow     0.022460\n",
              "dtype: float64"
            ]
          }
        }
      ],
      "source": [
        "# calculate the percentage of null values in each column\n",
        "df.isnull().sum()/len(df)"
      ],
      "id": "cell-null-values-percent"
    },
    {
      "cell_type": "markdown",
      "metadata": {},
      "source": [
        "If we want a quick summary of all the numeric columns in the dataset, we\n",
        "can use `pd.DataFrame.describe()`."
      ],
      "id": "ab58b323-335f-4f45-8d06-027b8dd1baa0"
    },
    {
      "cell_type": "code",
      "execution_count": 10,
      "metadata": {},
      "outputs": [
        {
          "output_type": "display_data",
          "metadata": {},
          "data": {
            "text/html": [
              "\n",
              "</div>"
            ]
          }
        }
      ],
      "source": [
        "# quick summary of numeric variables\n",
        "df.describe()"
      ],
      "id": "cell-describe-data"
    },
    {
      "cell_type": "markdown",
      "metadata": {},
      "source": [
        "However, I prefer to bring in another package, skimpy, that does all of\n",
        "this very quickly and cleanly. We can get a detailed description of the\n",
        "entire dataset using `skim()`."
      ],
      "id": "808a9807-1a0e-480b-88d0-ee9b977b3059"
    },
    {
      "cell_type": "code",
      "execution_count": 11,
      "metadata": {},
      "outputs": [
        {
          "output_type": "display_data",
          "metadata": {},
          "data": {
            "text/html": [
              "<pre style=\"white-space:pre;overflow-x:auto;line-height:normal;font-family:Menlo,'DejaVu Sans Mono',consolas,'Courier New',monospace\">╭──────────────────────────────────────────────── skimpy summary ─────────────────────────────────────────────────╮\n",
              "│ <span style=\"font-style: italic\">         Data Summary         </span> <span style=\"font-style: italic\">      Data Types       </span>                                                          │\n",
              "│ ┏━━━━━━━━━━━━━━━━━━━┳━━━━━━━━┓ ┏━━━━━━━━━━━━━┳━━━━━━━┓                                                          │\n",
              "│ ┃<span style=\"color: #008080; text-decoration-color: #008080; font-weight: bold\"> Dataframe         </span>┃<span style=\"color: #008080; text-decoration-color: #008080; font-weight: bold\"> Values </span>┃ ┃<span style=\"color: #008080; text-decoration-color: #008080; font-weight: bold\"> Column Type </span>┃<span style=\"color: #008080; text-decoration-color: #008080; font-weight: bold\"> Count </span>┃                                                          │\n",
              "│ ┡━━━━━━━━━━━━━━━━━━━╇━━━━━━━━┩ ┡━━━━━━━━━━━━━╇━━━━━━━┩                                                          │\n",
              "│ │ Number of rows    │ 145460 │ │ float64     │ 16    │                                                          │\n",
              "│ │ Number of columns │ 23     │ │ string      │ 7     │                                                          │\n",
              "│ └───────────────────┴────────┘ └─────────────┴───────┘                                                          │\n",
              "│ <span style=\"font-style: italic\">                                                    number                                                    </span>  │\n",
              "│ ┏━━━━━━━━━━━━━━━━┳━━━━━━━━┳━━━━━━━━━━━━━━━━━━━━━┳━━━━━━━┳━━━━━━━┳━━━━━━━┳━━━━━━┳━━━━━━┳━━━━━━┳━━━━━━┳━━━━━━━━┓  │\n",
              "│ ┃<span style=\"font-weight: bold\"> column         </span>┃<span style=\"font-weight: bold\"> NA     </span>┃<span style=\"font-weight: bold\"> NA %                </span>┃<span style=\"font-weight: bold\"> mean  </span>┃<span style=\"font-weight: bold\"> sd    </span>┃<span style=\"font-weight: bold\"> p0    </span>┃<span style=\"font-weight: bold\"> p25  </span>┃<span style=\"font-weight: bold\"> p50  </span>┃<span style=\"font-weight: bold\"> p75  </span>┃<span style=\"font-weight: bold\"> p100 </span>┃<span style=\"font-weight: bold\"> hist   </span>┃  │\n",
              "│ ┡━━━━━━━━━━━━━━━━╇━━━━━━━━╇━━━━━━━━━━━━━━━━━━━━━╇━━━━━━━╇━━━━━━━╇━━━━━━━╇━━━━━━╇━━━━━━╇━━━━━━╇━━━━━━╇━━━━━━━━┩  │\n",
              "│ │ <span style=\"color: #af87ff; text-decoration-color: #af87ff\">MinTemp       </span> │ <span style=\"color: #008080; text-decoration-color: #008080\">  1485</span> │ <span style=\"color: #008080; text-decoration-color: #008080\"> 1.0208992162793895</span> │ <span style=\"color: #008080; text-decoration-color: #008080\">12.19</span> │ <span style=\"color: #008080; text-decoration-color: #008080\">6.398</span> │ <span style=\"color: #008080; text-decoration-color: #008080\"> -8.5</span> │ <span style=\"color: #008080; text-decoration-color: #008080\"> 7.6</span> │ <span style=\"color: #008080; text-decoration-color: #008080\">  12</span> │ <span style=\"color: #008080; text-decoration-color: #008080\">16.9</span> │ <span style=\"color: #008080; text-decoration-color: #008080\">33.9</span> │ <span style=\"color: #008000; text-decoration-color: #008000\"> ▃▇▇▃ </span> │  │\n",
              "│ │ <span style=\"color: #af87ff; text-decoration-color: #af87ff\">MaxTemp       </span> │ <span style=\"color: #008080; text-decoration-color: #008080\">  1261</span> │ <span style=\"color: #008080; text-decoration-color: #008080\"> 0.8669049910628351</span> │ <span style=\"color: #008080; text-decoration-color: #008080\">23.22</span> │ <span style=\"color: #008080; text-decoration-color: #008080\">7.119</span> │ <span style=\"color: #008080; text-decoration-color: #008080\"> -4.8</span> │ <span style=\"color: #008080; text-decoration-color: #008080\">17.9</span> │ <span style=\"color: #008080; text-decoration-color: #008080\">22.6</span> │ <span style=\"color: #008080; text-decoration-color: #008080\">28.2</span> │ <span style=\"color: #008080; text-decoration-color: #008080\">48.1</span> │ <span style=\"color: #008000; text-decoration-color: #008000\"> ▁▇▇▃ </span> │  │\n",
              "│ │ <span style=\"color: #af87ff; text-decoration-color: #af87ff\">Rainfall      </span> │ <span style=\"color: #008080; text-decoration-color: #008080\">  3261</span> │ <span style=\"color: #008080; text-decoration-color: #008080\">  2.241853430496356</span> │ <span style=\"color: #008080; text-decoration-color: #008080\">2.361</span> │ <span style=\"color: #008080; text-decoration-color: #008080\">8.478</span> │ <span style=\"color: #008080; text-decoration-color: #008080\">    0</span> │ <span style=\"color: #008080; text-decoration-color: #008080\">   0</span> │ <span style=\"color: #008080; text-decoration-color: #008080\">   0</span> │ <span style=\"color: #008080; text-decoration-color: #008080\"> 0.8</span> │ <span style=\"color: #008080; text-decoration-color: #008080\"> 371</span> │ <span style=\"color: #008000; text-decoration-color: #008000\">  ▇   </span> │  │\n",
              "│ │ <span style=\"color: #af87ff; text-decoration-color: #af87ff\">Evaporation   </span> │ <span style=\"color: #008080; text-decoration-color: #008080\"> 62790</span> │ <span style=\"color: #008080; text-decoration-color: #008080\">   43.1665062560154</span> │ <span style=\"color: #008080; text-decoration-color: #008080\">5.468</span> │ <span style=\"color: #008080; text-decoration-color: #008080\">4.194</span> │ <span style=\"color: #008080; text-decoration-color: #008080\">    0</span> │ <span style=\"color: #008080; text-decoration-color: #008080\"> 2.6</span> │ <span style=\"color: #008080; text-decoration-color: #008080\"> 4.8</span> │ <span style=\"color: #008080; text-decoration-color: #008080\"> 7.4</span> │ <span style=\"color: #008080; text-decoration-color: #008080\"> 145</span> │ <span style=\"color: #008000; text-decoration-color: #008000\">  ▇   </span> │  │\n",
              "│ │ <span style=\"color: #af87ff; text-decoration-color: #af87ff\">Sunshine      </span> │ <span style=\"color: #008080; text-decoration-color: #008080\"> 69835</span> │ <span style=\"color: #008080; text-decoration-color: #008080\">  48.00976213391998</span> │ <span style=\"color: #008080; text-decoration-color: #008080\">7.611</span> │ <span style=\"color: #008080; text-decoration-color: #008080\">3.785</span> │ <span style=\"color: #008080; text-decoration-color: #008080\">    0</span> │ <span style=\"color: #008080; text-decoration-color: #008080\"> 4.8</span> │ <span style=\"color: #008080; text-decoration-color: #008080\"> 8.4</span> │ <span style=\"color: #008080; text-decoration-color: #008080\">10.6</span> │ <span style=\"color: #008080; text-decoration-color: #008080\">14.5</span> │ <span style=\"color: #008000; text-decoration-color: #008000\">▃▃▅▆▇▃</span> │  │\n",
              "│ │ <span style=\"color: #af87ff; text-decoration-color: #af87ff\">WindGustSpeed </span> │ <span style=\"color: #008080; text-decoration-color: #008080\"> 10263</span> │ <span style=\"color: #008080; text-decoration-color: #008080\">  7.055547916953114</span> │ <span style=\"color: #008080; text-decoration-color: #008080\">40.04</span> │ <span style=\"color: #008080; text-decoration-color: #008080\">13.61</span> │ <span style=\"color: #008080; text-decoration-color: #008080\">    6</span> │ <span style=\"color: #008080; text-decoration-color: #008080\">  31</span> │ <span style=\"color: #008080; text-decoration-color: #008080\">  39</span> │ <span style=\"color: #008080; text-decoration-color: #008080\">  48</span> │ <span style=\"color: #008080; text-decoration-color: #008080\"> 135</span> │ <span style=\"color: #008000; text-decoration-color: #008000\"> ▂▇▂  </span> │  │\n",
              "│ │ <span style=\"color: #af87ff; text-decoration-color: #af87ff\">WindSpeed9am  </span> │ <span style=\"color: #008080; text-decoration-color: #008080\">  1767</span> │ <span style=\"color: #008080; text-decoration-color: #008080\">  1.214766946239516</span> │ <span style=\"color: #008080; text-decoration-color: #008080\">14.04</span> │ <span style=\"color: #008080; text-decoration-color: #008080\">8.915</span> │ <span style=\"color: #008080; text-decoration-color: #008080\">    0</span> │ <span style=\"color: #008080; text-decoration-color: #008080\">   7</span> │ <span style=\"color: #008080; text-decoration-color: #008080\">  13</span> │ <span style=\"color: #008080; text-decoration-color: #008080\">  19</span> │ <span style=\"color: #008080; text-decoration-color: #008080\"> 130</span> │ <span style=\"color: #008000; text-decoration-color: #008000\">  ▇▂  </span> │  │\n",
              "│ │ <span style=\"color: #af87ff; text-decoration-color: #af87ff\">WindSpeed3pm  </span> │ <span style=\"color: #008080; text-decoration-color: #008080\">  3062</span> │ <span style=\"color: #008080; text-decoration-color: #008080\">  2.105046060772721</span> │ <span style=\"color: #008080; text-decoration-color: #008080\">18.66</span> │ <span style=\"color: #008080; text-decoration-color: #008080\"> 8.81</span> │ <span style=\"color: #008080; text-decoration-color: #008080\">    0</span> │ <span style=\"color: #008080; text-decoration-color: #008080\">  13</span> │ <span style=\"color: #008080; text-decoration-color: #008080\">  19</span> │ <span style=\"color: #008080; text-decoration-color: #008080\">  24</span> │ <span style=\"color: #008080; text-decoration-color: #008080\">  87</span> │ <span style=\"color: #008000; text-decoration-color: #008000\"> ▅▇▂  </span> │  │\n",
              "│ │ <span style=\"color: #af87ff; text-decoration-color: #af87ff\">Humidity9am   </span> │ <span style=\"color: #008080; text-decoration-color: #008080\">  2654</span> │ <span style=\"color: #008080; text-decoration-color: #008080\"> 1.8245565791282827</span> │ <span style=\"color: #008080; text-decoration-color: #008080\">68.88</span> │ <span style=\"color: #008080; text-decoration-color: #008080\">19.03</span> │ <span style=\"color: #008080; text-decoration-color: #008080\">    0</span> │ <span style=\"color: #008080; text-decoration-color: #008080\">  57</span> │ <span style=\"color: #008080; text-decoration-color: #008080\">  70</span> │ <span style=\"color: #008080; text-decoration-color: #008080\">  83</span> │ <span style=\"color: #008080; text-decoration-color: #008080\"> 100</span> │ <span style=\"color: #008000; text-decoration-color: #008000\"> ▁▂▇▇▆</span> │  │\n",
              "│ │ <span style=\"color: #af87ff; text-decoration-color: #af87ff\">Humidity3pm   </span> │ <span style=\"color: #008080; text-decoration-color: #008080\">  4507</span> │ <span style=\"color: #008080; text-decoration-color: #008080\">   3.09844630826344</span> │ <span style=\"color: #008080; text-decoration-color: #008080\">51.54</span> │ <span style=\"color: #008080; text-decoration-color: #008080\"> 20.8</span> │ <span style=\"color: #008080; text-decoration-color: #008080\">    0</span> │ <span style=\"color: #008080; text-decoration-color: #008080\">  37</span> │ <span style=\"color: #008080; text-decoration-color: #008080\">  52</span> │ <span style=\"color: #008080; text-decoration-color: #008080\">  66</span> │ <span style=\"color: #008080; text-decoration-color: #008080\"> 100</span> │ <span style=\"color: #008000; text-decoration-color: #008000\">▁▅▆▇▅▂</span> │  │\n",
              "│ │ <span style=\"color: #af87ff; text-decoration-color: #af87ff\">Pressure9am   </span> │ <span style=\"color: #008080; text-decoration-color: #008080\"> 15065</span> │ <span style=\"color: #008080; text-decoration-color: #008080\">    10.356799120033</span> │ <span style=\"color: #008080; text-decoration-color: #008080\"> 1018</span> │ <span style=\"color: #008080; text-decoration-color: #008080\">7.107</span> │ <span style=\"color: #008080; text-decoration-color: #008080\">980.5</span> │ <span style=\"color: #008080; text-decoration-color: #008080\">1013</span> │ <span style=\"color: #008080; text-decoration-color: #008080\">1018</span> │ <span style=\"color: #008080; text-decoration-color: #008080\">1022</span> │ <span style=\"color: #008080; text-decoration-color: #008080\">1041</span> │ <span style=\"color: #008000; text-decoration-color: #008000\">  ▂▇▅ </span> │  │\n",
              "│ │ <span style=\"color: #af87ff; text-decoration-color: #af87ff\">Pressure3pm   </span> │ <span style=\"color: #008080; text-decoration-color: #008080\"> 15028</span> │ <span style=\"color: #008080; text-decoration-color: #008080\"> 10.331362573903478</span> │ <span style=\"color: #008080; text-decoration-color: #008080\"> 1015</span> │ <span style=\"color: #008080; text-decoration-color: #008080\">7.037</span> │ <span style=\"color: #008080; text-decoration-color: #008080\">977.1</span> │ <span style=\"color: #008080; text-decoration-color: #008080\">1010</span> │ <span style=\"color: #008080; text-decoration-color: #008080\">1015</span> │ <span style=\"color: #008080; text-decoration-color: #008080\">1020</span> │ <span style=\"color: #008080; text-decoration-color: #008080\">1040</span> │ <span style=\"color: #008000; text-decoration-color: #008000\">  ▂▇▅ </span> │  │\n",
              "│ │ <span style=\"color: #af87ff; text-decoration-color: #af87ff\">Cloud9am      </span> │ <span style=\"color: #008080; text-decoration-color: #008080\"> 55888</span> │ <span style=\"color: #008080; text-decoration-color: #008080\">  38.42155919153032</span> │ <span style=\"color: #008080; text-decoration-color: #008080\">4.447</span> │ <span style=\"color: #008080; text-decoration-color: #008080\">2.887</span> │ <span style=\"color: #008080; text-decoration-color: #008080\">    0</span> │ <span style=\"color: #008080; text-decoration-color: #008080\">   1</span> │ <span style=\"color: #008080; text-decoration-color: #008080\">   5</span> │ <span style=\"color: #008080; text-decoration-color: #008080\">   7</span> │ <span style=\"color: #008080; text-decoration-color: #008080\">   9</span> │ <span style=\"color: #008000; text-decoration-color: #008000\">▇▂▃▂▇▅</span> │  │\n",
              "│ │ <span style=\"color: #af87ff; text-decoration-color: #af87ff\">Cloud3pm      </span> │ <span style=\"color: #008080; text-decoration-color: #008080\"> 59358</span> │ <span style=\"color: #008080; text-decoration-color: #008080\">  40.80709473394748</span> │ <span style=\"color: #008080; text-decoration-color: #008080\"> 4.51</span> │ <span style=\"color: #008080; text-decoration-color: #008080\"> 2.72</span> │ <span style=\"color: #008080; text-decoration-color: #008080\">    0</span> │ <span style=\"color: #008080; text-decoration-color: #008080\">   2</span> │ <span style=\"color: #008080; text-decoration-color: #008080\">   5</span> │ <span style=\"color: #008080; text-decoration-color: #008080\">   7</span> │ <span style=\"color: #008080; text-decoration-color: #008080\">   9</span> │ <span style=\"color: #008000; text-decoration-color: #008000\">▆▂▃▂▇▃</span> │  │\n",
              "│ │ <span style=\"color: #af87ff; text-decoration-color: #af87ff\">Temp9am       </span> │ <span style=\"color: #008080; text-decoration-color: #008080\">  1767</span> │ <span style=\"color: #008080; text-decoration-color: #008080\">  1.214766946239516</span> │ <span style=\"color: #008080; text-decoration-color: #008080\">16.99</span> │ <span style=\"color: #008080; text-decoration-color: #008080\">6.489</span> │ <span style=\"color: #008080; text-decoration-color: #008080\"> -7.2</span> │ <span style=\"color: #008080; text-decoration-color: #008080\">12.3</span> │ <span style=\"color: #008080; text-decoration-color: #008080\">16.7</span> │ <span style=\"color: #008080; text-decoration-color: #008080\">21.6</span> │ <span style=\"color: #008080; text-decoration-color: #008080\">40.2</span> │ <span style=\"color: #008000; text-decoration-color: #008000\"> ▂▇▇▃ </span> │  │\n",
              "│ │ <span style=\"color: #af87ff; text-decoration-color: #af87ff\">Temp3pm       </span> │ <span style=\"color: #008080; text-decoration-color: #008080\">  3609</span> │ <span style=\"color: #008080; text-decoration-color: #008080\"> 2.4810944589577892</span> │ <span style=\"color: #008080; text-decoration-color: #008080\">21.68</span> │ <span style=\"color: #008080; text-decoration-color: #008080\">6.937</span> │ <span style=\"color: #008080; text-decoration-color: #008080\"> -5.4</span> │ <span style=\"color: #008080; text-decoration-color: #008080\">16.6</span> │ <span style=\"color: #008080; text-decoration-color: #008080\">21.1</span> │ <span style=\"color: #008080; text-decoration-color: #008080\">26.4</span> │ <span style=\"color: #008080; text-decoration-color: #008080\">46.7</span> │ <span style=\"color: #008000; text-decoration-color: #008000\"> ▁▇▇▃ </span> │  │\n",
              "│ └────────────────┴────────┴─────────────────────┴───────┴───────┴───────┴──────┴──────┴──────┴──────┴────────┘  │\n",
              "│ <span style=\"font-style: italic\">                                                    string                                                    </span>  │\n",
              "│ ┏━━━━━━━━━━┳━━━━━━━┳━━━━━━━━━━┳━━━━━━━━━━┳━━━━━━━━━━┳━━━━━━━━━━┳━━━━━━━━━━┳━━━━━━━━━━━┳━━━━━━━━━━┳━━━━━━━━━━━┓  │\n",
              "│ ┃<span style=\"font-weight: bold\">          </span>┃<span style=\"font-weight: bold\">       </span>┃<span style=\"font-weight: bold\">          </span>┃<span style=\"font-weight: bold\">          </span>┃<span style=\"font-weight: bold\">          </span>┃<span style=\"font-weight: bold\">          </span>┃<span style=\"font-weight: bold\">          </span>┃<span style=\"font-weight: bold\"> chars per </span>┃<span style=\"font-weight: bold\"> words    </span>┃<span style=\"font-weight: bold\"> total     </span>┃  │\n",
              "│ ┃<span style=\"font-weight: bold\"> column   </span>┃<span style=\"font-weight: bold\"> NA    </span>┃<span style=\"font-weight: bold\"> NA %     </span>┃<span style=\"font-weight: bold\"> shortest </span>┃<span style=\"font-weight: bold\"> longest  </span>┃<span style=\"font-weight: bold\"> min      </span>┃<span style=\"font-weight: bold\"> max      </span>┃<span style=\"font-weight: bold\"> row       </span>┃<span style=\"font-weight: bold\"> per row  </span>┃<span style=\"font-weight: bold\"> words     </span>┃  │\n",
              "│ ┡━━━━━━━━━━╇━━━━━━━╇━━━━━━━━━━╇━━━━━━━━━━╇━━━━━━━━━━╇━━━━━━━━━━╇━━━━━━━━━━╇━━━━━━━━━━━╇━━━━━━━━━━╇━━━━━━━━━━━┩  │\n",
              "│ │ <span style=\"color: #af87ff; text-decoration-color: #af87ff\">Date    </span> │ <span style=\"color: #008080; text-decoration-color: #008080\">    0</span> │ <span style=\"color: #008080; text-decoration-color: #008080\">       0</span> │ <span style=\"color: #af87ff; text-decoration-color: #af87ff\">2008-12-</span> │ <span style=\"color: #af87ff; text-decoration-color: #af87ff\">2008-12-</span> │ <span style=\"color: #af87ff; text-decoration-color: #af87ff\">2007-11-</span> │ <span style=\"color: #af87ff; text-decoration-color: #af87ff\">2017-06-</span> │ <span style=\"color: #008080; text-decoration-color: #008080\">       10</span> │ <span style=\"color: #008080; text-decoration-color: #008080\">       1</span> │ <span style=\"color: #008080; text-decoration-color: #008080\">   145460</span> │  │\n",
              "│ │          │       │          │ <span style=\"color: #af87ff; text-decoration-color: #af87ff\">01      </span> │ <span style=\"color: #af87ff; text-decoration-color: #af87ff\">01      </span> │ <span style=\"color: #af87ff; text-decoration-color: #af87ff\">01      </span> │ <span style=\"color: #af87ff; text-decoration-color: #af87ff\">25      </span> │           │          │           │  │\n",
              "│ │ <span style=\"color: #af87ff; text-decoration-color: #af87ff\">Location</span> │ <span style=\"color: #008080; text-decoration-color: #008080\">    0</span> │ <span style=\"color: #008080; text-decoration-color: #008080\">       0</span> │ <span style=\"color: #af87ff; text-decoration-color: #af87ff\">Sale    </span> │ <span style=\"color: #af87ff; text-decoration-color: #af87ff\">Melbourn</span> │ <span style=\"color: #af87ff; text-decoration-color: #af87ff\">Adelaide</span> │ <span style=\"color: #af87ff; text-decoration-color: #af87ff\">Woomera </span> │ <span style=\"color: #008080; text-decoration-color: #008080\">     8.71</span> │ <span style=\"color: #008080; text-decoration-color: #008080\">       1</span> │ <span style=\"color: #008080; text-decoration-color: #008080\">   145460</span> │  │\n",
              "│ │          │       │          │          │ <span style=\"color: #af87ff; text-decoration-color: #af87ff\">eAirport</span> │          │          │           │          │           │  │\n",
              "│ │ <span style=\"color: #af87ff; text-decoration-color: #af87ff\">WindGust</span> │ <span style=\"color: #008080; text-decoration-color: #008080\">10326</span> │ <span style=\"color: #008080; text-decoration-color: #008080\">7.098858</span> │ <span style=\"color: #af87ff; text-decoration-color: #af87ff\">W       </span> │ <span style=\"color: #af87ff; text-decoration-color: #af87ff\">WNW     </span> │ <span style=\"color: #af87ff; text-decoration-color: #af87ff\">E       </span> │ <span style=\"color: #af87ff; text-decoration-color: #af87ff\">WSW     </span> │ <span style=\"color: #008080; text-decoration-color: #008080\">     2.19</span> │ <span style=\"color: #008080; text-decoration-color: #008080\">    0.93</span> │ <span style=\"color: #008080; text-decoration-color: #008080\">   135134</span> │  │\n",
              "│ │ <span style=\"color: #af87ff; text-decoration-color: #af87ff\">Dir     </span> │       │ <span style=\"color: #008080; text-decoration-color: #008080\">79279527</span> │          │          │          │          │           │          │           │  │\n",
              "│ │ <span style=\"color: #af87ff; text-decoration-color: #af87ff\">WindDir9</span> │ <span style=\"color: #008080; text-decoration-color: #008080\">10566</span> │ <span style=\"color: #008080; text-decoration-color: #008080\">7.263852</span> │ <span style=\"color: #af87ff; text-decoration-color: #af87ff\">W       </span> │ <span style=\"color: #af87ff; text-decoration-color: #af87ff\">NNW     </span> │ <span style=\"color: #af87ff; text-decoration-color: #af87ff\">E       </span> │ <span style=\"color: #af87ff; text-decoration-color: #af87ff\">WSW     </span> │ <span style=\"color: #008080; text-decoration-color: #008080\">     2.18</span> │ <span style=\"color: #008080; text-decoration-color: #008080\">    0.93</span> │ <span style=\"color: #008080; text-decoration-color: #008080\">   134894</span> │  │\n",
              "│ │ <span style=\"color: #af87ff; text-decoration-color: #af87ff\">am      </span> │       │ <span style=\"color: #008080; text-decoration-color: #008080\">60552729</span> │          │          │          │          │           │          │           │  │\n",
              "│ │          │       │ <span style=\"color: #008080; text-decoration-color: #008080\">       2</span> │          │          │          │          │           │          │           │  │\n",
              "│ │ <span style=\"color: #af87ff; text-decoration-color: #af87ff\">WindDir3</span> │ <span style=\"color: #008080; text-decoration-color: #008080\"> 4228</span> │ <span style=\"color: #008080; text-decoration-color: #008080\">2.906641</span> │ <span style=\"color: #af87ff; text-decoration-color: #af87ff\">E       </span> │ <span style=\"color: #af87ff; text-decoration-color: #af87ff\">WNW     </span> │ <span style=\"color: #af87ff; text-decoration-color: #af87ff\">E       </span> │ <span style=\"color: #af87ff; text-decoration-color: #af87ff\">WSW     </span> │ <span style=\"color: #008080; text-decoration-color: #008080\">     2.21</span> │ <span style=\"color: #008080; text-decoration-color: #008080\">    0.97</span> │ <span style=\"color: #008080; text-decoration-color: #008080\">   141232</span> │  │\n",
              "│ │ <span style=\"color: #af87ff; text-decoration-color: #af87ff\">pm      </span> │       │ <span style=\"color: #008080; text-decoration-color: #008080\">00096246</span> │          │          │          │          │           │          │           │  │\n",
              "│ │          │       │ <span style=\"color: #008080; text-decoration-color: #008080\">       4</span> │          │          │          │          │           │          │           │  │\n",
              "│ │ <span style=\"color: #af87ff; text-decoration-color: #af87ff\">RainToda</span> │ <span style=\"color: #008080; text-decoration-color: #008080\"> 3261</span> │ <span style=\"color: #008080; text-decoration-color: #008080\">2.241853</span> │ <span style=\"color: #af87ff; text-decoration-color: #af87ff\">No      </span> │ <span style=\"color: #af87ff; text-decoration-color: #af87ff\">Yes     </span> │ <span style=\"color: #af87ff; text-decoration-color: #af87ff\">No      </span> │ <span style=\"color: #af87ff; text-decoration-color: #af87ff\">Yes     </span> │ <span style=\"color: #008080; text-decoration-color: #008080\">     2.22</span> │ <span style=\"color: #008080; text-decoration-color: #008080\">    0.98</span> │ <span style=\"color: #008080; text-decoration-color: #008080\">   142199</span> │  │\n",
              "│ │ <span style=\"color: #af87ff; text-decoration-color: #af87ff\">y       </span> │       │ <span style=\"color: #008080; text-decoration-color: #008080\">43049635</span> │          │          │          │          │           │          │           │  │\n",
              "│ │          │       │ <span style=\"color: #008080; text-decoration-color: #008080\">       6</span> │          │          │          │          │           │          │           │  │\n",
              "│ │ <span style=\"color: #af87ff; text-decoration-color: #af87ff\">RainTomo</span> │ <span style=\"color: #008080; text-decoration-color: #008080\"> 3267</span> │ <span style=\"color: #008080; text-decoration-color: #008080\">2.245978</span> │ <span style=\"color: #af87ff; text-decoration-color: #af87ff\">No      </span> │ <span style=\"color: #af87ff; text-decoration-color: #af87ff\">Yes     </span> │ <span style=\"color: #af87ff; text-decoration-color: #af87ff\">No      </span> │ <span style=\"color: #af87ff; text-decoration-color: #af87ff\">Yes     </span> │ <span style=\"color: #008080; text-decoration-color: #008080\">     2.22</span> │ <span style=\"color: #008080; text-decoration-color: #008080\">    0.98</span> │ <span style=\"color: #008080; text-decoration-color: #008080\">   142193</span> │  │\n",
              "│ │ <span style=\"color: #af87ff; text-decoration-color: #af87ff\">rrow    </span> │       │ <span style=\"color: #008080; text-decoration-color: #008080\">27581465</span> │          │          │          │          │           │          │           │  │\n",
              "│ │          │       │ <span style=\"color: #008080; text-decoration-color: #008080\">       7</span> │          │          │          │          │           │          │           │  │\n",
              "│ └──────────┴───────┴──────────┴──────────┴──────────┴──────────┴──────────┴───────────┴──────────┴───────────┘  │\n",
              "╰────────────────────────────────────────────────────── End ──────────────────────────────────────────────────────╯\n",
              "</pre>"
            ]
          }
        }
      ],
      "source": [
        "# a more informative summary function from the skimpy package\n",
        "skim(df)"
      ],
      "id": "cell-summarise-data"
    },
    {
      "cell_type": "markdown",
      "metadata": {},
      "source": [
        "## Exploring Variables (Columns) & Observations (Rows)\n",
        "\n",
        "If we are going to narrow our focus to specific variables or groups of\n",
        "observations, we need to know how to select columns, filter values, and\n",
        "group the data. There are lots of different ways we can slice up the\n",
        "data. We won’t cover all of them here[1], but we will try to cover a\n",
        "range that helps illustrate how pandas works and will help you build the\n",
        "intuition for working with data in pandas.\n",
        "\n",
        "We can select columns in a variety of ways, but the “correct” way to\n",
        "select columns in most circumstances is using selection brackets (the\n",
        "square brackets `[]`), also known as the indexing operator.\n",
        "\n",
        "[1] For more information, I’d recommend the [pandas\n",
        "documentation](https://pandas.pydata.org/docs/), and this pandas\n",
        "tutorial on [subsetting\n",
        "data](https://pandas.pydata.org/docs/getting_started/intro_tutorials/03_subset_data.html)."
      ],
      "id": "a949b9b5-63a7-4c32-85d0-cd36c0d1a559"
    },
    {
      "cell_type": "code",
      "execution_count": 12,
      "metadata": {},
      "outputs": [
        {
          "output_type": "display_data",
          "metadata": {},
          "data": {
            "text/plain": [
              "0         2008-12-01\n",
              "1         2008-12-02\n",
              "2         2008-12-03\n",
              "3         2008-12-04\n",
              "4         2008-12-05\n",
              "             ...    \n",
              "145455    2017-06-21\n",
              "145456    2017-06-22\n",
              "145457    2017-06-23\n",
              "145458    2017-06-24\n",
              "145459    2017-06-25\n",
              "Name: Date, Length: 145460, dtype: object"
            ]
          }
        }
      ],
      "source": [
        "# selecting a single column by name\n",
        "df['Date']\n",
        "\n",
        "# alternative ways to select columns\n",
        "# df.loc[:, 'Date']\n",
        "# df.Date"
      ],
      "id": "cell-select-col"
    },
    {
      "cell_type": "markdown",
      "metadata": {},
      "source": [
        "If we want to select multiple columns, we can use double squared\n",
        "brackets (`[[ ]]`). This is the same process as before, but the inner\n",
        "brackets define a list, and the outer are the selection brackets."
      ],
      "id": "58e70a21-2db1-4267-89ee-3670e9efdea0"
    },
    {
      "cell_type": "code",
      "execution_count": 13,
      "metadata": {},
      "outputs": [
        {
          "output_type": "display_data",
          "metadata": {},
          "data": {
            "text/html": [
              "\n",
              "<p>145460 rows × 3 columns</p>\n",
              "</div>"
            ]
          }
        }
      ],
      "source": [
        "# selecting multiple columns (and all rows) by name\n",
        "df[['Date', 'Location', 'Rainfall']]\n",
        "# df.loc[:, ['Date', 'Location', 'Rainfall']]"
      ],
      "id": "cell-select-multiple-cols"
    },
    {
      "cell_type": "markdown",
      "metadata": {},
      "source": [
        "While selection brackets are a quick and easy solution if we want to\n",
        "grab a subset of variables in the dataset, it is realy only intended to\n",
        "be used for simple operations using only column selection.\n",
        "\n",
        "For row selection, we should use `pd.DataFrame.iloc[]`. The `iloc`\n",
        "function is used for “integer position” selection, which means you can\n",
        "select rows or columns using their integer position. For rows 10-15, you\n",
        "can select them using the following:"
      ],
      "id": "883c7358-eab4-4bd1-b9ec-ffabca63584a"
    },
    {
      "cell_type": "code",
      "execution_count": 14,
      "metadata": {},
      "outputs": [
        {
          "output_type": "display_data",
          "metadata": {},
          "data": {
            "text/html": [
              "\n",
              "<p>6 rows × 23 columns</p>\n",
              "</div>"
            ]
          }
        }
      ],
      "source": [
        "# slicing by rows\n",
        "df.iloc[10:16]"
      ],
      "id": "cell-subset-rows"
    },
    {
      "cell_type": "markdown",
      "metadata": {},
      "source": [
        "We can do similar using a column’s integer position, but we have to\n",
        "select all rows (`:`) first:"
      ],
      "id": "f8e975c0-e294-4f18-9571-2be5400e59f8"
    },
    {
      "cell_type": "code",
      "execution_count": 15,
      "metadata": {},
      "outputs": [
        {
          "output_type": "display_data",
          "metadata": {},
          "data": {
            "text/plain": [
              "0         21.8\n",
              "1         24.3\n",
              "2         23.2\n",
              "3         26.5\n",
              "4         29.7\n",
              "          ... \n",
              "145455    22.4\n",
              "145456    24.5\n",
              "145457    26.1\n",
              "145458    26.0\n",
              "145459    20.9\n",
              "Name: Temp3pm, Length: 145460, dtype: float64"
            ]
          }
        }
      ],
      "source": [
        "# using iloc with columns\n",
        "df.iloc[:, 20]"
      ],
      "id": "cell-col-iloc"
    },
    {
      "cell_type": "markdown",
      "metadata": {},
      "source": [
        "Finally, we can put both together to take a subset of both rows and\n",
        "columns:"
      ],
      "id": "4ae00cc8-51dd-44d1-9075-bba21acacab1"
    },
    {
      "cell_type": "code",
      "execution_count": 16,
      "metadata": {},
      "outputs": [
        {
          "output_type": "display_data",
          "metadata": {},
          "data": {
            "text/plain": [
              "10    28.8\n",
              "11    17.0\n",
              "12    15.8\n",
              "13    19.8\n",
              "14    23.5\n",
              "15    26.2\n",
              "Name: Temp3pm, dtype: float64"
            ]
          }
        }
      ],
      "source": [
        "# using iloc with rows and columns\n",
        "df.iloc[10:16, 20]"
      ],
      "id": "cell-col-rows-iloc"
    },
    {
      "cell_type": "markdown",
      "metadata": {},
      "source": [
        "However, selecting by integer position is relatively limited. It is more\n",
        "likely we would want to subset the data based on the values of certain\n",
        "columns. We can filter rows by condition using `pd.DataFrame.loc[]`. The\n",
        "`loc` function slices by label, instead of integer position.\n",
        "\n",
        "For example, we might want to look at a subset of the data based on\n",
        "location."
      ],
      "id": "3d0fa6d4-cdaa-47cf-8e07-5ebe6683e63f"
    },
    {
      "cell_type": "code",
      "execution_count": 17,
      "metadata": {},
      "outputs": [
        {
          "output_type": "display_data",
          "metadata": {},
          "data": {
            "text/html": [
              "\n",
              "<p>3193 rows × 23 columns</p>\n",
              "</div>"
            ]
          }
        }
      ],
      "source": [
        "# select all observations in Perth\n",
        "df.loc[df['Location'] == 'Perth']"
      ],
      "id": "cell-filter-location"
    },
    {
      "cell_type": "markdown",
      "metadata": {},
      "source": [
        "We can also filter by multiple values, such as location and rainfall."
      ],
      "id": "dfee33d2-4187-4538-8965-69b55fe8a44c"
    },
    {
      "cell_type": "code",
      "execution_count": 18,
      "metadata": {},
      "outputs": [
        {
          "output_type": "display_data",
          "metadata": {},
          "data": {
            "text/html": [
              "\n",
              "<p>2293 rows × 23 columns</p>\n",
              "</div>"
            ]
          }
        }
      ],
      "source": [
        "df.loc[(df['Rainfall'] == 0) & (df['Location'] == 'Perth')]"
      ],
      "id": "cell-filter-multiple-vals"
    },
    {
      "cell_type": "markdown",
      "metadata": {},
      "source": [
        "For any complex process for subsetting the data, including multiple\n",
        "conditions, `pd.DataFrame.loc[]` is the best bet.\n",
        "\n",
        "### Summarising Data\n",
        "\n",
        "Now that we know how to select the variables or observations we are\n",
        "interested in, we can start doing some descriptive analysis. The\n",
        "operations we use will depend on the questions we are trying to answer,\n",
        "and the possibilities will be almost endless.\n",
        "\n",
        "**Questions:**\n",
        "\n",
        "-   What “functions” might we need to carry out on our data when we are\n",
        "    exploring it?\n",
        "\n",
        "We know that the weather data includes observations from all over the\n",
        "country, but we might want to check exactly how many different locations\n",
        "there are. We can use `pd.DataFrame.nunique()` to do this."
      ],
      "id": "06025b34-2605-45a7-a09d-076c550f0f14"
    },
    {
      "cell_type": "code",
      "execution_count": 19,
      "metadata": {},
      "outputs": [
        {
          "output_type": "display_data",
          "metadata": {},
          "data": {
            "text/plain": [
              "49"
            ]
          }
        }
      ],
      "source": [
        "# count unique values\n",
        "df['Location'].nunique()"
      ],
      "id": "cell-count-unique"
    },
    {
      "cell_type": "markdown",
      "metadata": {},
      "source": [
        "We may also be interested in the locations themselves, which may tell us\n",
        "more about the spatial distribution of our data. In this case, we can\n",
        "use `pd.DataFrame.unique()`."
      ],
      "id": "8b547df0-c228-4130-81cf-743e2ab2e049"
    },
    {
      "cell_type": "code",
      "execution_count": 20,
      "metadata": {},
      "outputs": [
        {
          "output_type": "display_data",
          "metadata": {},
          "data": {
            "text/plain": [
              "array(['Albury', 'BadgerysCreek', 'Cobar', 'CoffsHarbour', 'Moree',\n",
              "       'Newcastle', 'NorahHead', 'NorfolkIsland', 'Penrith', 'Richmond',\n",
              "       'Sydney', 'SydneyAirport', 'WaggaWagga', 'Williamtown',\n",
              "       'Wollongong', 'Canberra', 'Tuggeranong', 'MountGinini', 'Ballarat',\n",
              "       'Bendigo', 'Sale', 'MelbourneAirport', 'Melbourne', 'Mildura',\n",
              "       'Nhil', 'Portland', 'Watsonia', 'Dartmoor', 'Brisbane', 'Cairns',\n",
              "       'GoldCoast', 'Townsville', 'Adelaide', 'MountGambier', 'Nuriootpa',\n",
              "       'Woomera', 'Albany', 'Witchcliffe', 'PearceRAAF', 'PerthAirport',\n",
              "       'Perth', 'SalmonGums', 'Walpole', 'Hobart', 'Launceston',\n",
              "       'AliceSprings', 'Darwin', 'Katherine', 'Uluru'], dtype=object)"
            ]
          }
        }
      ],
      "source": [
        "# get unique values\n",
        "df['Location'].unique()"
      ],
      "id": "cell-unique-vals"
    },
    {
      "cell_type": "markdown",
      "metadata": {},
      "source": [
        "Another common operation we might look to do is calculating the mean\n",
        "value (`pd.DataFrame.mean()`) of a certain variable. What is the average\n",
        "value of sunshine across the entire dataset?"
      ],
      "id": "9a750a86-99ae-4fac-bba3-9f4b62f1d4c5"
    },
    {
      "cell_type": "code",
      "execution_count": 21,
      "metadata": {},
      "outputs": [
        {
          "output_type": "display_data",
          "metadata": {},
          "data": {
            "text/plain": [
              "np.float64(7.6111775206611565)"
            ]
          }
        }
      ],
      "source": [
        "# calculate variable mean\n",
        "df['Sunshine'].mean()"
      ],
      "id": "cell-simple-mean"
    },
    {
      "cell_type": "markdown",
      "metadata": {},
      "source": [
        "This gives us the mean to many decimal places, and we probably don’t\n",
        "need to know the average sunshine hours to this level of precision. We\n",
        "can use the `pd.DataFrame.round()` function to round to two decimal\n",
        "places."
      ],
      "id": "3f13e21e-3b8d-4ebc-bbf4-71d6e6a7ff7e"
    },
    {
      "cell_type": "code",
      "execution_count": 22,
      "metadata": {},
      "outputs": [
        {
          "output_type": "display_data",
          "metadata": {},
          "data": {
            "text/plain": [
              "np.float64(7.61)"
            ]
          }
        }
      ],
      "source": [
        "# round mean value\n",
        "df['Sunshine'].mean().round(2)"
      ],
      "id": "cell-rounded-mean"
    },
    {
      "cell_type": "markdown",
      "metadata": {},
      "source": [
        "Many operations will return the value with information about the\n",
        "object’s type included. The above values are wrapped in `np.float64()`\n",
        "because `pd.DataFrame.mean()` uses numpy to calculate the mean value.\n",
        "However, if you want to strip this information out so you only see the\n",
        "value itself, you can use `print()`."
      ],
      "id": "efda9ad7-621e-4e65-baa0-cbad5b3e185f"
    },
    {
      "cell_type": "code",
      "execution_count": 23,
      "metadata": {},
      "outputs": [
        {
          "output_type": "stream",
          "name": "stdout",
          "text": [
            "7.61"
          ]
        }
      ],
      "source": [
        "# print mean value\n",
        "print(df['Sunshine'].mean().round(2))"
      ],
      "id": "print-values"
    },
    {
      "cell_type": "markdown",
      "metadata": {},
      "source": [
        "While we are often interested in the mean value when we talk about\n",
        "averages, we might want to know the median instead\n",
        "(`pd.DataFrame.median()`)."
      ],
      "id": "13b1e5b2-984c-4c34-ba16-65622963c0cf"
    },
    {
      "cell_type": "code",
      "execution_count": 24,
      "metadata": {},
      "outputs": [
        {
          "output_type": "stream",
          "name": "stdout",
          "text": [
            "8.4"
          ]
        }
      ],
      "source": [
        "# calculate other summary statistics\n",
        "print(df['Sunshine'].median())"
      ],
      "id": "median"
    },
    {
      "cell_type": "markdown",
      "metadata": {},
      "source": [
        "Another common calculation is summing values (`pd.DataFrame.sum()`). We\n",
        "can use `sum()` to see the total hours of sunshine in our dataset, and\n",
        "we can use `int()` to convert this value to an integer (which also means\n",
        "we don’t need to use `print()`[1]).\n",
        "\n",
        "[1] Some functions should be wrapped in `print()` in order to return a\n",
        "value that is easy to read, but others won’t. There will be an internal\n",
        "logic for which is which, but it’s not of huge importance to us. You are\n",
        "better off just testing functions out and wrapping them in `print()` if\n",
        "necessary."
      ],
      "id": "defa17fa-c187-4d50-8e63-d49759d5d84b"
    },
    {
      "cell_type": "code",
      "execution_count": 25,
      "metadata": {},
      "outputs": [
        {
          "output_type": "display_data",
          "metadata": {},
          "data": {
            "text/plain": [
              "575595"
            ]
          }
        }
      ],
      "source": [
        "# calculate sum value and return an integer\n",
        "int(df['Sunshine'].sum())"
      ],
      "id": "cell-sum"
    },
    {
      "cell_type": "markdown",
      "metadata": {},
      "source": [
        "We can also apply these summary operations on multiple variables, using\n",
        "the same selection logic as before (using double squared brackets)."
      ],
      "id": "114b9b42-989e-4227-bd6e-abbf180778a1"
    },
    {
      "cell_type": "code",
      "execution_count": 26,
      "metadata": {},
      "outputs": [
        {
          "output_type": "stream",
          "name": "stdout",
          "text": [
            "Sunshine    7.611178\n",
            "Rainfall    2.360918\n",
            "dtype: float64"
          ]
        }
      ],
      "source": [
        "print(df[['Sunshine', 'Rainfall']].mean())"
      ],
      "id": "summarise-multiple-cols"
    },
    {
      "cell_type": "markdown",
      "metadata": {},
      "source": [
        "And we can apply multiple functions, using `pd.DataFrame.agg()`."
      ],
      "id": "c39e68b9-925d-479b-b244-54ecc08a53e9"
    },
    {
      "cell_type": "code",
      "execution_count": 27,
      "metadata": {},
      "outputs": [
        {
          "output_type": "display_data",
          "metadata": {},
          "data": {
            "text/plain": [
              "mean           7.6\n",
              "median         8.4\n",
              "sum       575595.3\n",
              "Name: Sunshine, dtype: float64"
            ]
          }
        }
      ],
      "source": [
        "df['Sunshine'].agg(['mean', 'median', 'sum']).round(1)"
      ],
      "id": "cell-agg"
    },
    {
      "cell_type": "markdown",
      "metadata": {},
      "source": [
        "The next step when exploring specific variables will often be\n",
        "group-level summaries. The average amount of sunshine across the whole\n",
        "dataset has limited utility, but the average hours of sunshine in each\n",
        "location allows us to compare between locations and start to understand\n",
        "how different variables are related to each other. If we want to do a\n",
        "group-level operation, we have to use `pd.DataFrame.groupby()`."
      ],
      "id": "7cedda5b-be10-48eb-b8ee-d881bb562f87"
    },
    {
      "cell_type": "code",
      "execution_count": 28,
      "metadata": {},
      "outputs": [
        {
          "output_type": "display_data",
          "metadata": {},
          "data": {
            "text/plain": [
              "Location\n",
              "Adelaide            7.7\n",
              "Albany              6.7\n",
              "Albury              NaN\n",
              "AliceSprings        9.6\n",
              "BadgerysCreek       NaN\n",
              "Ballarat            NaN\n",
              "Bendigo             NaN\n",
              "Brisbane            8.1\n",
              "Cairns              7.6\n",
              "Canberra            7.4\n",
              "Cobar               8.7\n",
              "CoffsHarbour        7.4\n",
              "Dartmoor            6.5\n",
              "Darwin              8.5\n",
              "GoldCoast           NaN\n",
              "Hobart              6.6\n",
              "Katherine           NaN\n",
              "Launceston          NaN\n",
              "Melbourne           6.4\n",
              "MelbourneAirport    6.4\n",
              "Mildura             8.5\n",
              "Moree               8.9\n",
              "MountGambier        6.5\n",
              "MountGinini         NaN\n",
              "Newcastle           NaN\n",
              "Nhil                NaN\n",
              "NorahHead           NaN\n",
              "NorfolkIsland       7.0\n",
              "Nuriootpa           7.7\n",
              "PearceRAAF          8.8\n",
              "Penrith             NaN\n",
              "Perth               8.8\n",
              "PerthAirport        8.8\n",
              "Portland            6.5\n",
              "Richmond            NaN\n",
              "Sale                6.7\n",
              "SalmonGums          NaN\n",
              "Sydney              7.2\n",
              "SydneyAirport       7.2\n",
              "Townsville          8.5\n",
              "Tuggeranong         NaN\n",
              "Uluru               NaN\n",
              "WaggaWagga          8.2\n",
              "Walpole             NaN\n",
              "Watsonia            6.4\n",
              "Williamtown         7.2\n",
              "Witchcliffe         NaN\n",
              "Wollongong          NaN\n",
              "Woomera             9.0\n",
              "Name: Sunshine, dtype: float64"
            ]
          }
        }
      ],
      "source": [
        "# calculate group means\n",
        "df.groupby(by='Location')['Sunshine'].mean().round(1)"
      ],
      "id": "cell-group-means"
    },
    {
      "cell_type": "markdown",
      "metadata": {},
      "source": [
        "The `groupby(by='Location')` function tells us the grouping variable\n",
        "(location), then we select the variable we want to summarise by location\n",
        "(sunshine), and then we specify the operation (mean).\n",
        "\n",
        "There are multiple locations that return `NaN` (**N**ot **a**\n",
        "**N**umber). This indicates that numpy was unable to calculate a mean\n",
        "value for those locations. This is likely to be because all sunshine\n",
        "values for those locations are null.\n",
        "\n",
        "We can check this using `pd.DataFrame.count()`, which counts the total\n",
        "non-null values (whereas `pd.DataFrame.size()` counts the total values)."
      ],
      "id": "4443927b-aeb8-4bba-bfe2-c41a4b21d53b"
    },
    {
      "cell_type": "code",
      "execution_count": 29,
      "metadata": {},
      "outputs": [
        {
          "output_type": "display_data",
          "metadata": {},
          "data": {
            "text/plain": [
              "Location\n",
              "Adelaide            1769\n",
              "Albany              2520\n",
              "Albury                 0\n",
              "AliceSprings        2520\n",
              "BadgerysCreek          0\n",
              "Ballarat               0\n",
              "Bendigo                0\n",
              "Brisbane            3144\n",
              "Cairns              2564\n",
              "Canberra            1521\n",
              "Cobar                550\n",
              "CoffsHarbour        1494\n",
              "Dartmoor            2566\n",
              "Darwin              3189\n",
              "GoldCoast              0\n",
              "Hobart              3179\n",
              "Katherine              0\n",
              "Launceston             0\n",
              "Melbourne           3192\n",
              "MelbourneAirport    3008\n",
              "Mildura             2876\n",
              "Moree               2055\n",
              "MountGambier        2597\n",
              "MountGinini            0\n",
              "Newcastle              0\n",
              "Nhil                   0\n",
              "NorahHead              0\n",
              "NorfolkIsland       2570\n",
              "Nuriootpa           2848\n",
              "PearceRAAF          3004\n",
              "Penrith                0\n",
              "Perth               3188\n",
              "PerthAirport        3004\n",
              "Portland            2566\n",
              "Richmond               0\n",
              "Sale                1818\n",
              "SalmonGums             0\n",
              "Sydney              3328\n",
              "SydneyAirport       2993\n",
              "Townsville          2617\n",
              "Tuggeranong            0\n",
              "Uluru                  0\n",
              "WaggaWagga          2575\n",
              "Walpole                0\n",
              "Watsonia            3008\n",
              "Williamtown         1355\n",
              "Witchcliffe            0\n",
              "Wollongong             0\n",
              "Woomera             2007\n",
              "Name: Sunshine, dtype: int64"
            ]
          }
        }
      ],
      "source": [
        "# group by location and count non-null sunshine values\n",
        "df.groupby('Location')['Sunshine'].count()"
      ],
      "id": "cell-count-group-non-nulls"
    },
    {
      "cell_type": "markdown",
      "metadata": {},
      "source": [
        "The results show that all the locations that return `NaN` in our group\n",
        "mean calculation have zero non-null values.\n",
        "\n",
        "## Transforming Data\n",
        "\n",
        "Datasets are rarely perfectly clean and\n",
        "[tidy](https://vita.had.co.nz/papers/tidy-data.pdf). We often need to\n",
        "transform the data before we can get the most out of it.\n",
        "\n",
        "**Questions:**\n",
        "\n",
        "-   What sort of transformations would help us get the most out of the\n",
        "    analysis of the Australian weather data?\n",
        "\n",
        "The first step with any analysis is often converting columns to the\n",
        "correct types. With a longitudinal (time-series) dataset,the date column\n",
        "is a good place to start. We can use `pd.DataFrame.dtypes` to check the\n",
        "data type, either of a single column (using the selector brackets) or\n",
        "all columns in the dataset."
      ],
      "id": "95878475-9053-402b-8b6e-2c4d09d6b52a"
    },
    {
      "cell_type": "code",
      "execution_count": 30,
      "metadata": {},
      "outputs": [
        {
          "output_type": "stream",
          "name": "stdout",
          "text": [
            "Date              object\n",
            "Location          object\n",
            "MinTemp          float64\n",
            "MaxTemp          float64\n",
            "Rainfall         float64\n",
            "Evaporation      float64\n",
            "Sunshine         float64\n",
            "WindGustDir       object\n",
            "WindGustSpeed    float64\n",
            "WindDir9am        object\n",
            "WindDir3pm        object\n",
            "WindSpeed9am     float64\n",
            "WindSpeed3pm     float64\n",
            "Humidity9am      float64\n",
            "Humidity3pm      float64\n",
            "Pressure9am      float64\n",
            "Pressure3pm      float64\n",
            "Cloud9am         float64\n",
            "Cloud3pm         float64\n",
            "Temp9am          float64\n",
            "Temp3pm          float64\n",
            "RainToday         object\n",
            "RainTomorrow      object\n",
            "dtype: object"
          ]
        }
      ],
      "source": [
        "print(df.dtypes)"
      ],
      "id": "data-types"
    },
    {
      "cell_type": "markdown",
      "metadata": {},
      "source": [
        "All columns are either stored as `object` or `float64`. The `object`\n",
        "data type is for generic non-numeric data, but from the columns that are\n",
        "stored as objects, we can tell this is mostly categorical variables\n",
        "where the categories are represented as text. The float64 data type\n",
        "refers to data that is numeric and includes decimals (float64 = 64-bit\n",
        "floating point number).\n",
        "\n",
        "The date column is stored as an object, but pandas can store dates as\n",
        "`datetime64`. We can convert dates using `pd.to_datetime()`. When\n",
        "transforming data, if we want to keep those transformations, we have to\n",
        "store those changes, using `=`. In this case, we want to convert the\n",
        "date column but we don’t want to create an entirely new dataframe to\n",
        "handle this change, so we can overwrite the current date column by using\n",
        "the selection brackets to identify the column we want to apply this\n",
        "change to."
      ],
      "id": "484059e5-3b03-444c-a72c-c0c0abb3eb3d"
    },
    {
      "cell_type": "code",
      "execution_count": 31,
      "metadata": {},
      "outputs": [],
      "source": [
        "# convert date column to datetime\n",
        "df['Date'] = pd.to_datetime(df['Date'])"
      ],
      "id": "convert-to-datetime"
    },
    {
      "cell_type": "markdown",
      "metadata": {},
      "source": [
        "The remaining `object` columns can be converted to categorical, which\n",
        "makes them easier to work with in subsequent analyses. We can use\n",
        "`pd.DataFrame.astype()` to convert column data types."
      ],
      "id": "63248c69-8a8e-42ec-a58a-583945d72a0d"
    },
    {
      "cell_type": "code",
      "execution_count": 32,
      "metadata": {},
      "outputs": [],
      "source": [
        "# create a list of all object columns\n",
        "object_cols = ['Location', 'WindGustDir', 'WindDir9am', 'WindDir3pm', 'RainToday', 'RainTomorrow']\n",
        "\n",
        "# convert object columns to category\n",
        "df[object_cols] = df[object_cols].astype('category')"
      ],
      "id": "convert-cols"
    },
    {
      "cell_type": "markdown",
      "metadata": {},
      "source": [
        "A more efficient, though synactically more complex, way of doing this is\n",
        "using lamda functions. We won’t cover lambda functons in this session\n",
        "(they will be discussed in detail in a future session), but below is how\n",
        "we can use them to convert objects to categories."
      ],
      "id": "f53c0c99-4fa3-4039-86d6-da66b9093120"
    },
    {
      "cell_type": "code",
      "execution_count": 33,
      "metadata": {},
      "outputs": [],
      "source": [
        "# convert object columns to category data type\n",
        "df = df.apply(lambda x: x.astype('category') if x.dtype == 'object' else x)"
      ],
      "id": "convert-to-cat"
    },
    {
      "cell_type": "markdown",
      "metadata": {},
      "source": [
        "Another choice we might make is to remove missing values, using\n",
        "`pd.DataFrame.dropna()` to filter the null values and keep only the\n",
        "non-null values. We can use this to drop all null values across the\n",
        "entire dataset, or we can apply it to a subset of columns, using the\n",
        "`subset` argument."
      ],
      "id": "ee0c691d-b426-439f-adca-e0d62a3ee7bd"
    },
    {
      "cell_type": "code",
      "execution_count": 34,
      "metadata": {},
      "outputs": [
        {
          "output_type": "display_data",
          "metadata": {},
          "data": {
            "text/html": [
              "\n",
              "<p>75625 rows × 23 columns</p>\n",
              "</div>"
            ]
          }
        }
      ],
      "source": [
        "# filter observations where sunshine is NA\n",
        "df.dropna(subset='Sunshine')"
      ],
      "id": "cell-filter-not-null"
    },
    {
      "cell_type": "markdown",
      "metadata": {},
      "source": [
        "We haven’t stored this transformation, because filtering nulls without\n",
        "careful consideration is a bad idea, but it’s useful to know,\n",
        "nonetheless.\n",
        "\n",
        "There are lots of ways we could transform the data, but the final\n",
        "example we will consider here is reshaping the data using\n",
        "`pd.DataFrame.pivot()`, which transforms the data from long to wide\n",
        "format data, and `pd.DataFrame.melt()`, which transforms it from wide to\n",
        "long format.\n",
        "\n",
        "Perhaps we want to focus on the maximum temperature per day in each\n",
        "location in 2015. We can use `pd.Series.dt.year` to get the year from\n",
        "the date column, and filter for the year 2015, before reshaping the\n",
        "data."
      ],
      "id": "1498aef5-1065-4a4a-9e1a-03194055a2f1"
    },
    {
      "cell_type": "code",
      "execution_count": 35,
      "metadata": {},
      "outputs": [
        {
          "output_type": "display_data",
          "metadata": {},
          "data": {
            "text/html": [
              "\n",
              "<p>5 rows × 49 columns</p>\n",
              "</div>"
            ]
          }
        }
      ],
      "source": [
        "df2015 = df.loc[df['Date'].dt.year == 2015]\n",
        "df_wide = df2015.pivot(index='Date', columns='Location', values='MaxTemp')\n",
        "\n",
        "df_wide.head()"
      ],
      "id": "cell-pivot"
    },
    {
      "cell_type": "markdown",
      "metadata": {},
      "source": [
        "Perhaps we want to look at the maximum and minimum temperatures in each\n",
        "location, together. We can reshape the data to support this[1].\n",
        "\n",
        "[1] This is often very useful when we need to visualise data, for\n",
        "example plotting the max and min temp for each location, is easier if\n",
        "the values are organised in the same column and differentiated using\n",
        "another column."
      ],
      "id": "a53a24e1-d00f-4830-8eb7-fbbb30c12b2b"
    },
    {
      "cell_type": "code",
      "execution_count": 36,
      "metadata": {},
      "outputs": [
        {
          "output_type": "display_data",
          "metadata": {},
          "data": {
            "text/html": [
              "\n",
              "</div>"
            ]
          }
        }
      ],
      "source": [
        "df_long = df2015.melt(\n",
        "    id_vars=['Date', 'Location'],\n",
        "    value_vars=['MaxTemp', 'MinTemp'],\n",
        "    var_name='Variable',\n",
        "    value_name='Value'\n",
        ")\n",
        "\n",
        "df_long.head()"
      ],
      "id": "cell-melt"
    },
    {
      "cell_type": "markdown",
      "metadata": {},
      "source": [
        "## Exercises\n",
        "\n",
        "Some of these questions are easily answered by scrolling up and finding\n",
        "the answer in the output of the above code, however, the goal is to find\n",
        "the answer using code. No one actually cares what the answer to any of\n",
        "these questions is, it’s the process that matters!\n",
        "\n",
        "**Remember, if you don’t know the answer, it’s okay to Google it (or\n",
        "speak to others, including me, for help)!**"
      ],
      "id": "1d34db07-f0ff-4461-8082-d5c53d32e8b9"
    },
    {
      "cell_type": "code",
      "execution_count": 37,
      "metadata": {},
      "outputs": [],
      "source": [
        "# import the dataset\n",
        "df = pd.read_csv('data/weatherAUS.csv')"
      ],
      "id": "reset-data"
    },
    {
      "cell_type": "markdown",
      "metadata": {},
      "source": [
        "1.  What is the ‘Sunshine’ column’s data type?\n",
        "\n",
        "> **Solution**\n",
        ">\n",
        "> ``` python\n",
        "> # What is the 'Sunshine' column's data type?\n",
        "> print(df['Sunshine'].dtypes)\n",
        "> ```\n",
        ">\n",
        ">     float64\n",
        "\n",
        "1.  Identify all the columns that are of dtype ‘object’.\n",
        "\n",
        "> **Solution**\n",
        ">\n",
        "> ``` python\n",
        "> # Identify all the columns that are of dtype 'object'\n",
        "> print(list(df.select_dtypes(include=['object'])))\n",
        "> ```\n",
        ">\n",
        ">     ['Date', 'Location', 'WindGustDir', 'WindDir9am', 'WindDir3pm', 'RainToday', 'RainTomorrow']\n",
        "\n",
        "1.  How many of the dataframe’s columns are of dtype ‘object’?\n",
        "\n",
        "> **Solution**\n",
        ">\n",
        "> ``` python\n",
        "> # How many of the dataframe's columns are of dtype 'object'?\n",
        "> len(list(df.select_dtypes(include=['object'])))\n",
        "> ```\n",
        ">\n",
        ">     7\n",
        "\n",
        "1.  How many of the ‘Rainfall’ column values are NAs?\n",
        "\n",
        "> **Solution**\n",
        ">\n",
        "> ``` python\n",
        "> # How many of the 'Rainfall' column values are NAs?\n",
        "> print(df['Rainfall'].isna().sum())\n",
        "> ```\n",
        ">\n",
        ">     3261\n",
        "\n",
        "1.  Create a new dataframe which only includes the ‘Date’, ‘Location,\n",
        "    ’Sunshine’, ‘Rainfall’, and ‘RainTomorrow’ columns.\n",
        "\n",
        "> **Solution**\n",
        ">\n",
        "> ``` python\n",
        "> new_df = df[['Date', 'Location', 'Sunshine', 'Rainfall', 'RainTomorrow']]\n",
        "> new_df.head()\n",
        "> ```\n",
        ">\n",
        "> <div>\n",
        "> <style scoped>\n",
        ">     .dataframe tbody tr th:only-of-type {\n",
        ">         vertical-align: middle;\n",
        ">     }\n",
        ">\n",
        ">     .dataframe tbody tr th {\n",
        ">         vertical-align: top;\n",
        ">     }\n",
        ">\n",
        ">     .dataframe thead th {\n",
        ">         text-align: right;\n",
        ">     }\n",
        "> </style>\n",
        ">\n",
        "> |     | Date       | Location | Sunshine | Rainfall | RainTomorrow |\n",
        "> |-----|------------|----------|----------|----------|--------------|\n",
        "> | 0   | 2008-12-01 | Albury   | NaN      | 0.6      | No           |\n",
        "> | 1   | 2008-12-02 | Albury   | NaN      | 0.0      | No           |\n",
        "> | 2   | 2008-12-03 | Albury   | NaN      | 0.0      | No           |\n",
        "> | 3   | 2008-12-04 | Albury   | NaN      | 0.0      | No           |\n",
        "> | 4   | 2008-12-05 | Albury   | NaN      | 1.0      | No           |\n",
        ">\n",
        "> </div>\n",
        "\n",
        "1.  Convert ‘RainTomorrow’ to a numeric variable, where ‘Yes’ = 1 and\n",
        "    ‘No’ = 0.\n",
        "\n",
        "> **Solution**\n",
        ">\n",
        "> ``` python\n",
        "> # df['Location'].astype('category').cat.codes\n",
        "> # df['RainTomorrow'].astype('category').cat.codes\n",
        "> df['RainTomorrow'].map({'Yes': 1, 'No': 0})\n",
        "> ```\n",
        ">\n",
        ">     0         0.0\n",
        ">     1         0.0\n",
        ">     2         0.0\n",
        ">     3         0.0\n",
        ">     4         0.0\n",
        ">              ... \n",
        ">     145455    0.0\n",
        ">     145456    0.0\n",
        ">     145457    0.0\n",
        ">     145458    0.0\n",
        ">     145459    NaN\n",
        ">     Name: RainTomorrow, Length: 145460, dtype: float64\n",
        "\n",
        "1.  What is the average amount of rainfall for each location?\n",
        "\n",
        "> **Solution**\n",
        ">\n",
        "> ``` python\n",
        "> # average rainfall by location, sorted by value\n",
        "> df.groupby('Location')['Rainfall'].mean().sort_values(ascending=False)\n",
        "> ```\n",
        ">\n",
        ">     Location\n",
        ">     Cairns              5.742035\n",
        ">     Darwin              5.092452\n",
        ">     CoffsHarbour        5.061497\n",
        ">     GoldCoast           3.769396\n",
        ">     Wollongong          3.594903\n",
        ">     Williamtown         3.591108\n",
        ">     Townsville          3.485592\n",
        ">     NorahHead           3.387299\n",
        ">     Sydney              3.324543\n",
        ">     MountGinini         3.292260\n",
        ">     Katherine           3.201090\n",
        ">     Newcastle           3.183892\n",
        ">     Brisbane            3.144891\n",
        ">     NorfolkIsland       3.127665\n",
        ">     SydneyAirport       3.009917\n",
        ">     Walpole             2.906846\n",
        ">     Witchcliffe         2.895664\n",
        ">     Portland            2.530374\n",
        ">     Albany              2.263859\n",
        ">     BadgerysCreek       2.193101\n",
        ">     Penrith             2.175304\n",
        ">     Tuggeranong         2.164043\n",
        ">     Dartmoor            2.146567\n",
        ">     Richmond            2.138462\n",
        ">     MountGambier        2.087562\n",
        ">     Launceston          2.011988\n",
        ">     Albury              1.914115\n",
        ">     Perth               1.906295\n",
        ">     Melbourne           1.870062\n",
        ">     Watsonia            1.860820\n",
        ">     PerthAirport        1.761648\n",
        ">     Canberra            1.741720\n",
        ">     Ballarat            1.740026\n",
        ">     WaggaWagga          1.709946\n",
        ">     PearceRAAF          1.669080\n",
        ">     Moree               1.630203\n",
        ">     Bendigo             1.619380\n",
        ">     Hobart              1.601819\n",
        ">     Adelaide            1.566354\n",
        ">     Sale                1.510167\n",
        ">     MelbourneAirport    1.451977\n",
        ">     Nuriootpa           1.390343\n",
        ">     Cobar               1.127309\n",
        ">     SalmonGums          1.034382\n",
        ">     Mildura             0.945062\n",
        ">     Nhil                0.934863\n",
        ">     AliceSprings        0.882850\n",
        ">     Uluru               0.784363\n",
        ">     Woomera             0.490405\n",
        ">     Name: Rainfall, dtype: float64\n",
        "\n",
        "1.  What is the average amount of rainfall for days that it will rain\n",
        "    tomorrow?\n",
        "\n",
        "> **Solution**\n",
        ">\n",
        "> ``` python\n",
        "> # average rainfall depending on whether it will rain tomorrow or not\n",
        "> df.groupby('RainTomorrow')['Rainfall'].mean()\n",
        "> ```\n",
        ">\n",
        ">     RainTomorrow\n",
        ">     No     1.270290\n",
        ">     Yes    6.142104\n",
        ">     Name: Rainfall, dtype: float64\n",
        "\n",
        "1.  What is the average amount of sunshine in Perth when it will not\n",
        "    rain tomorrow?\n",
        "\n",
        "> **Solution**\n",
        ">\n",
        "> ``` python\n",
        "> # average sunshine in Perth when it won't rain tomorrow\n",
        "> df.loc[(df['Location'] == 'Perth') & (df['RainTomorrow'] == 'No'), 'Sunshine'].mean()\n",
        "> # df[(df['Location']=='Perth') & (df['RainTomorrow']=='No')]['Sunshine'].mean()\n",
        "> ```\n",
        ">\n",
        ">     np.float64(9.705306603773584)\n",
        "\n",
        "1.  We want to understand the role that time plays in the dataset. Using\n",
        "    the original dataframe, carry the following tasks and answer the\n",
        "    corresponding questions:\n",
        "    -   Create columns representing the year and month from the ‘Date’\n",
        "        column. How many years of data are in the dataset?\n",
        "    -   Examine the distribution of the ‘Sunshine’ NAs over time. Is\n",
        "        time a component in the ‘Sunshine’ data quality issues?\n",
        "    -   Calculate the average rainfall and sunshine by month. How do\n",
        "        rainfall and sunshine vary through the year?\n",
        "    -   Calculate the average rainfall and sunshine by year. How have\n",
        "        rainfall and sunshine changed over time?\n",
        "\n",
        "> **Solution**\n",
        ">\n",
        "> ``` python\n",
        "> # get year and month columns\n",
        "> df = (\n",
        ">     df.assign(Date=pd.to_datetime(df['Date']))\n",
        ">     .assign(\n",
        ">         Year=lambda x: x['Date'].dt.year,\n",
        ">         Month=lambda x: x['Date'].dt.month\n",
        ">     )\n",
        "> )\n",
        ">\n",
        "> # count unique years\n",
        "> df['Year'].nunique()\n",
        "> ```\n",
        ">\n",
        ">     11\n",
        ">\n",
        "> ``` python\n",
        "> # lambda function counting nulls by year\n",
        "> df.groupby('Year')['Sunshine'].apply(lambda x: x.isna().sum())\n",
        "> ```\n",
        ">\n",
        ">     Year\n",
        ">     2007        0\n",
        ">     2008      323\n",
        ">     2009     6146\n",
        ">     2010     6220\n",
        ">     2011     6053\n",
        ">     2012     6539\n",
        ">     2013     7570\n",
        ">     2014     9157\n",
        ">     2015     9441\n",
        ">     2016    11994\n",
        ">     2017     6392\n",
        ">     Name: Sunshine, dtype: int64\n",
        ">\n",
        "> ``` python\n",
        "> # rainfall and sunshine by month\n",
        "> df.groupby('Month')[['Rainfall', 'Sunshine']].mean().round(1)\n",
        "> ```\n",
        ">\n",
        "> <div>\n",
        "> <style scoped>\n",
        ">     .dataframe tbody tr th:only-of-type {\n",
        ">         vertical-align: middle;\n",
        ">     }\n",
        ">\n",
        ">     .dataframe tbody tr th {\n",
        ">         vertical-align: top;\n",
        ">     }\n",
        ">\n",
        ">     .dataframe thead th {\n",
        ">         text-align: right;\n",
        ">     }\n",
        "> </style>\n",
        ">\n",
        "> |       | Rainfall | Sunshine |\n",
        "> |-------|----------|----------|\n",
        "> | Month |          |          |\n",
        "> | 1     | 2.7      | 9.2      |\n",
        "> | 2     | 3.2      | 8.6      |\n",
        "> | 3     | 2.8      | 7.6      |\n",
        "> | 4     | 2.3      | 7.1      |\n",
        "> | 5     | 2.0      | 6.3      |\n",
        "> | 6     | 2.8      | 5.6      |\n",
        "> | 7     | 2.2      | 6.1      |\n",
        "> | 8     | 2.0      | 7.1      |\n",
        "> | 9     | 1.9      | 7.7      |\n",
        "> | 10    | 1.6      | 8.5      |\n",
        "> | 11    | 2.3      | 8.7      |\n",
        "> | 12    | 2.5      | 9.0      |\n",
        ">\n",
        "> </div>\n",
        ">\n",
        "> ``` python\n",
        "> # rainfall and sunshine by year\n",
        "> df.groupby('Year')[['Rainfall', 'Sunshine']].mean().round(1)\n",
        "> ```\n",
        ">\n",
        "> <div>\n",
        "> <style scoped>\n",
        ">     .dataframe tbody tr th:only-of-type {\n",
        ">         vertical-align: middle;\n",
        ">     }\n",
        ">\n",
        ">     .dataframe tbody tr th {\n",
        ">         vertical-align: top;\n",
        ">     }\n",
        ">\n",
        ">     .dataframe thead th {\n",
        ">         text-align: right;\n",
        ">     }\n",
        "> </style>\n",
        ">\n",
        "> |      | Rainfall | Sunshine |\n",
        "> |------|----------|----------|\n",
        "> | Year |          |          |\n",
        "> | 2007 | 3.2      | 8.1      |\n",
        "> | 2008 | 2.3      | 7.8      |\n",
        "> | 2009 | 2.2      | 7.9      |\n",
        "> | 2010 | 2.7      | 7.3      |\n",
        "> | 2011 | 2.8      | 7.3      |\n",
        "> | 2012 | 2.4      | 7.6      |\n",
        "> | 2013 | 2.3      | 7.7      |\n",
        "> | 2014 | 2.0      | 7.8      |\n",
        "> | 2015 | 2.2      | 7.7      |\n",
        "> | 2016 | 2.4      | 7.6      |\n",
        "> | 2017 | 2.5      | 7.7      |\n",
        ">\n",
        "> </div>"
      ],
      "id": "aa33e980-eef5-4aa6-9d52-fc247ec7af1c"
    }
  ],
  "nbformat": 4,
  "nbformat_minor": 5,
  "metadata": {
    "kernelspec": {
      "name": "python3",
      "display_name": "Python 3 (ipykernel)",
      "language": "python",
      "path": "c:.johnson-club.venv"
    },
    "language_info": {
      "name": "python",
      "codemirror_mode": {
        "name": "ipython",
        "version": "3"
      },
      "file_extension": ".py",
      "mimetype": "text/x-python",
      "nbconvert_exporter": "python",
      "pygments_lexer": "ipython3",
      "version": "3.12.5"
    }
  }
}