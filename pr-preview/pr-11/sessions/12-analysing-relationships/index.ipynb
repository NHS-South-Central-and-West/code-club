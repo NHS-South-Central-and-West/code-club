{
  "cells": [
    {
      "cell_type": "markdown",
      "metadata": {},
      "source": [
        "# Regression Fundamentals: Analysing ~~Penguins~~ Relationships\n",
        "\n",
        "This is the second in our series of sessions that builds the regression\n",
        "foundations. Here we will look at how to explore relationships in data,\n",
        "using both quantitative measures such as correlation and a range of\n",
        "visualisations methods.\n",
        "\n",
        "This session discusses what it means to analyse relationships between\n",
        "variables, what is possible with different types of variables (and how\n",
        "this links to the previous session that looked at [comparing\n",
        "samples](../../sessions/11-comparing-samples)), and what these methods\n",
        "can and cannot tell us.\n",
        "\n",
        "We will use the [**Palmer\n",
        "Penguins**](https://github.com/rfordatascience/tidytuesday/blob/main/data/2025/2025-04-15/readme.md)\n",
        "dataset throughout this session, taken from the\n",
        "[TidyTuesday](https://github.com/rfordatascience/tidytuesday/) GitHub\n",
        "repository (originally from the\n",
        "[palmerpenguins](https://allisonhorst.github.io/palmerpenguins/) R\n",
        "package[1]). We will import the data directly from GitHub, but if you\n",
        "would prefer to download it instead, click\n",
        "<a href=\"https://raw.githubusercontent.com/rfordatascience/tidytuesday/main/data/2025/2025-04-15/penguins.csv\" download>here</a>.\n",
        "\n",
        "## Why Analyse Relationships?\n",
        "\n",
        "In the [first session](../../sessions/11-comparing-samples) in the\n",
        "regression foundations series we considered how to compare samples, and\n",
        "what comparisons between groups can tell us. We compared fatalities from\n",
        "car crashes between 4/20 and other days. But what if we wanted to\n",
        "examine how the number of fatalities changes as temperature increases or\n",
        "decreases? Or maybe we want to account for the number of cars on the\n",
        "road at different times of year? These questions require different\n",
        "tools.\n",
        "\n",
        "### From Categorical to Continuous\n",
        "\n",
        "The type of variables you are dealing with dictates what you can do to\n",
        "make inferences from your data. In our previous session, comparing\n",
        "samples, we were making comparisons by splitting our data into groups\n",
        "and comparing those groups. We compared the average number of car crash\n",
        "fatalities on 4/20 with the avearage number of car crash fatalities on\n",
        "all other days of the year. This is comparing the value of a continuous\n",
        "variable (fatalities) but split into categorical groups (4/20 and not\n",
        "4/20). Here we will compare two continuous variables, considering how\n",
        "one variable (the outcome) changes in response to changes in the other\n",
        "variable (the predictor).\n",
        "\n",
        "There is only a subtle difference between the idea of comparing samples\n",
        "and analysing relationships. You can frame a comparison between groups\n",
        "as analysing the relationship between the groups and the continuous\n",
        "variable, but you are still comparing the average value and dispersion\n",
        "for each group and inferring the relationship (or association) from\n",
        "this. When comparing two continuous variables, you can’t reduce either\n",
        "to their average, and are instead making statements about the way they\n",
        "vary together.\n",
        "\n",
        "#### Variable Types\n",
        "\n",
        "At this point, it might be necessary to walk through variable types and\n",
        "what continuous and categorical variables really mean.\n",
        "\n",
        "| Variable Type             | Example Values       | Typical Question        |\n",
        "|---------------------------|----------------------|-------------------------|\n",
        "| **Continuous**            | 5.2, 7.8, 102.3      | *How much?*             |\n",
        "| **Discrete**              | 1, 2, 3, 10          | *How many?*             |\n",
        "| **Categorical (Nominal)** | Red, Blue, Green     | *Which type?*           |\n",
        "| **Categorical (Ordinal)** | Low, Medium, High    | *Which level?*          |\n",
        "| **Binary (Dichotomous)**  | Yes/No, Pass/Fail    | *Yes or no?*            |\n",
        "| **Time/Date**             | 2025-06-10, 12:30 PM | *When?*                 |\n",
        "| **Identifier**            | ID12345, username987 | *Who or what? (unique)* |\n",
        "\n",
        "A nominal category has no natural order, while ordinal categories do.\n",
        "\n",
        "### From Comparing Groups to Estimating Associations\n",
        "\n",
        "Group comparison tells us whether Group A’s sample mean is meaningfully\n",
        "different from Group B’s, but this comparison doesn’t really tell us the\n",
        "size of the difference or the pattern in which the differences occur. If\n",
        "two samples are not drawn from the same population distribution, what\n",
        "does this really tell us? It is possible to structure our analysis such\n",
        "that this could be quite meaningful, but in many cases it won’t be.\n",
        "\n",
        "This is why we need to take the next step, to analysing relationships.\n",
        "How do two variables move together? Strictly speaking, what we will be\n",
        "analysing today is less “relationships”, which implies causality, and\n",
        "more “associations”. We are unable to make claims about causality with\n",
        "the methods we are using, because we are only considering how variables\n",
        "vary together, and not directly estimating how one variable causes\n",
        "changes in another. Still, the methods we will discuss here get us one\n",
        "step closer to being able to measure effects and infer causality.\n",
        "\n",
        "In this session, we’ll explore the penguins dataset to see how body mass\n",
        "relates to flipper length, how bill length relates to bill depth, and\n",
        "how to identify relationships between continuous traits.\n",
        "\n",
        "## Penguins with Long Characteristics\n",
        "\n",
        "We will use the [**Palmer\n",
        "Penguins**](https://github.com/rfordatascience/tidytuesday/blob/main/data/2025/2025-04-15/readme.md)\n",
        "dataset to analyse how the length of penguins’ body mass changes with\n",
        "flipper length and how penguin bill length is associated with bill\n",
        "depth. We can’t draw conclusions about causality from our data, but we\n",
        "are able to move from identifying differences to quantifying those\n",
        "differences. This takes us one step closer to making meaningful\n",
        "inferences.\n",
        "\n",
        "### Import & Process Data\n",
        "\n",
        "[1] And now a part of the Base R datasets package included as default in\n",
        "R installations (R \\>= 4.5.0)."
      ],
      "id": "ecba6344-7d72-4f76-b98e-2a2022c4d6c7"
    },
    {
      "cell_type": "code",
      "execution_count": 1,
      "metadata": {},
      "outputs": [
        {
          "output_type": "display_data",
          "metadata": {},
          "data": {
            "text/html": [
              "\n",
              "</div>"
            ]
          }
        }
      ],
      "source": [
        "import pandas as pd\n",
        "\n",
        "# load penguins data from TidyTuesday URL\n",
        "url = 'https://raw.githubusercontent.com/rfordatascience/tidytuesday/main/data/2025/2025-04-15/penguins.csv'\n",
        "penguins_raw = pd.read_csv(url)\n",
        "penguins_raw.head()"
      ],
      "id": "cell-import-data"
    },
    {
      "cell_type": "markdown",
      "metadata": {},
      "source": [
        "There are several missing values in this dataset. While we should\n",
        "generally be a little careful when discarding missing values, we will do\n",
        "so here just to simplify the process."
      ],
      "id": "5d060430-7ab6-40e8-bce4-8a95a15fc8d0"
    },
    {
      "cell_type": "code",
      "execution_count": 2,
      "metadata": {},
      "outputs": [
        {
          "output_type": "display_data",
          "metadata": {},
          "data": {
            "text/plain": [
              "(333, 8)"
            ]
          }
        }
      ],
      "source": [
        "# drop missing values\n",
        "df = penguins_raw.dropna()\n",
        "df.shape"
      ],
      "id": "cell-clean-data"
    },
    {
      "cell_type": "markdown",
      "metadata": {},
      "source": [
        "### Visualing Relationships\n",
        "\n",
        "Lets start by visualising how body mass varies by flipper length. We\n",
        "will split the data by species as well, in order to identify whether\n",
        "penguin species is a confounding factor."
      ],
      "id": "d39e615e-7cf6-4c7d-92ca-b5b3f42fd5fa"
    },
    {
      "cell_type": "code",
      "execution_count": 3,
      "metadata": {},
      "outputs": [
        {
          "output_type": "display_data",
          "metadata": {},
          "data": {}
        }
      ],
      "source": [
        "import matplotlib.pyplot as plt\n",
        "import seaborn as sns\n",
        "\n",
        "plt.rcParams['figure.figsize'] = [8,6]\n",
        "\n",
        "# scatter of flipper length vs. body mass\n",
        "sns.scatterplot(\n",
        "    data=df,\n",
        "    x='flipper_len',\n",
        "    y='body_mass',\n",
        "    hue='species',\n",
        "    alpha=0.7\n",
        ")\n",
        "\n",
        "plt.xlabel('Flipper Length (mm)')\n",
        "plt.ylabel('Body Mass (g)')\n",
        "plt.show()"
      ],
      "id": "cell-fig-flipper-mass-scatter-plot"
    },
    {
      "cell_type": "markdown",
      "metadata": {},
      "source": [
        "What patterns do you see in <a href=\"#fig-flipper-mass-scatter-plot\"\n",
        "class=\"quarto-xref\">Figure 1</a>? How does body mass change when flipper\n",
        "length increases? And how does species moderate the association between\n",
        "flipper length and body mass?\n",
        "\n",
        "<a href=\"#fig-flipper-mass-scatter-plot\"\n",
        "class=\"quarto-xref\">Figure 1</a> shows that, when flipper length\n",
        "increases, body mass appears to increase. There is a clear pattern in\n",
        "the data, and though there are differences in the average value of\n",
        "flipper length and body mass when split by species, the species doesn’t\n",
        "appear to have a significant impact on the relationship between flipper\n",
        "length and body mass.\n",
        "\n",
        "We can use the same plot to visualise the association between bill\n",
        "length and bill depth."
      ],
      "id": "e7ef769a-23f7-4463-86b8-9e2867b5253f"
    },
    {
      "cell_type": "code",
      "execution_count": 4,
      "metadata": {},
      "outputs": [
        {
          "output_type": "display_data",
          "metadata": {},
          "data": {}
        }
      ],
      "source": [
        "# scatter of bill length vs. bill depth\n",
        "plt.figure(figsize=(8, 6))\n",
        "sns.scatterplot(\n",
        "    data=df,\n",
        "    x='bill_len',\n",
        "    y='bill_dep',\n",
        "    hue='species',\n",
        "    alpha=0.7\n",
        ")\n",
        "\n",
        "plt.xlabel('Bill Length (mm)')\n",
        "plt.ylabel('Bill Depth (mm)')\n",
        "plt.show()"
      ],
      "id": "cell-fig-bill-scatter-plot"
    },
    {
      "cell_type": "markdown",
      "metadata": {},
      "source": [
        "How does the pattern in\n",
        "<a href=\"#fig-bill-scatter-plot\" class=\"quarto-xref\">Figure 2</a> differ\n",
        "from <a href=\"#fig-flipper-mass-scatter-plot\"\n",
        "class=\"quarto-xref\">Figure 1</a>? What happens to bill depth when bill\n",
        "length changes, and how does species impact these changes?\n",
        "\n",
        "When you look at all the data in\n",
        "<a href=\"#fig-bill-scatter-plot\" class=\"quarto-xref\">Figure 2</a>\n",
        "without accounting for species, the relationship appears to be very\n",
        "noisy. However, when factoring in species differences, the association\n",
        "looks positive.\n",
        "\n",
        "We can also fit a regression line to our data, shown below in\n",
        "<a href=\"#fig-bill-regression-plot\" class=\"quarto-xref\">Figure 3</a>,\n",
        "which will show us the “line of best fit” through bill length and bill\n",
        "depth."
      ],
      "id": "ccda2d7a-8b68-4b80-9e9c-42e1b8cba4ce"
    },
    {
      "cell_type": "code",
      "execution_count": 5,
      "metadata": {},
      "outputs": [
        {
          "output_type": "display_data",
          "metadata": {},
          "data": {}
        }
      ],
      "source": [
        "# add linear fit line\n",
        "sns.regplot(\n",
        "    data=df,\n",
        "    x='bill_len',\n",
        "    y='bill_dep',\n",
        "    scatter=True,\n",
        "    ci=95\n",
        ")\n",
        "plt.xlabel('Bill Length (mm)')\n",
        "plt.ylabel('Bill Depth (mm)')\n",
        "plt.show()"
      ],
      "id": "cell-fig-bill-regression-plot"
    },
    {
      "cell_type": "markdown",
      "metadata": {},
      "source": [
        "It is clear that any relationship between bill length and bill depth is\n",
        "more complicated than the relationship between flipper length and body\n",
        "mass. Not only does ignoring species make the association between these\n",
        "variables appear a lot more noisy, it also suggests that bill length is\n",
        "negatively associated with bill depth, which is the opposite conclusion\n",
        "to the conclusion we draw from\n",
        "<a href=\"#fig-bill-scatter-plot\" class=\"quarto-xref\">Figure 2</a>.\n",
        "\n",
        "### Computing Correlations\n",
        "\n",
        "Visualising continuous variables using scatterplots can give us an\n",
        "indication of how two variables change together, but we are unable to\n",
        "quantify this association between two variables only using\n",
        "visualisations. We can put a number to what we are seeing in the plots\n",
        "by calculating the correlation between variables.\n",
        "\n",
        "#### Pairwise Correlation\n",
        "\n",
        "We can compute the correlation between two variables, using\n",
        "`scipy.stats`."
      ],
      "id": "f9e930e5-841e-4f9a-9cdb-2424d6f98eab"
    },
    {
      "cell_type": "code",
      "execution_count": 6,
      "metadata": {},
      "outputs": [
        {
          "output_type": "stream",
          "name": "stdout",
          "text": [
            "Correlation (r) = 0.87"
          ]
        }
      ],
      "source": [
        "from scipy.stats import pearsonr\n",
        "\n",
        "r, p = pearsonr(df['flipper_len'], df['body_mass'])\n",
        "print(f\"Correlation (r) = {r:.2f}\")"
      ],
      "id": "flipper-mass-correlation"
    },
    {
      "cell_type": "markdown",
      "metadata": {},
      "source": [
        "A correlation of 0.87 is very strong. There is clearly a very strong\n",
        "association between flipper length and body mass. However, we can’t\n",
        "claim that flipper length causes body mass just based off this.\n",
        "Correlation does not imply causation[1].\n",
        "\n",
        "When we visualised the relationship between bill length and bill depth,\n",
        "there appeared to be a grouping structure going on that complicated\n",
        "things, and the overall relationship appeared pretty noisy.\n",
        "\n",
        "[1] Correlation might not imply causation, but it is important to\n",
        "realise that the presence of correlation does not mean causation is\n",
        "*not* present. You just can’t conclude causation exists simply because\n",
        "you observe a correlation."
      ],
      "id": "ef3452b9-e2db-43ef-bbfb-330b1d1ebe64"
    },
    {
      "cell_type": "code",
      "execution_count": 7,
      "metadata": {},
      "outputs": [
        {
          "output_type": "stream",
          "name": "stdout",
          "text": [
            "Correlation (r) = -0.23"
          ]
        }
      ],
      "source": [
        "r, p = pearsonr(df['bill_len'], df['bill_dep'])\n",
        "print(f\"Correlation (r) = {r:.2f}\")"
      ],
      "id": "bill-correlation"
    },
    {
      "cell_type": "markdown",
      "metadata": {},
      "source": [
        "As a result, the correlation score is much lower. A correlation of -0.23\n",
        "tells us two things:\n",
        "\n",
        "-   The negative correlation means that when bill length increases, bill\n",
        "    depth tends to decrease.\n",
        "-   The weaker correlation suggests that this decrease is a lot noisier,\n",
        "    and it is much harder to estimate a penguin’s bill depth using their\n",
        "    bill length.\n",
        "\n",
        "A correlation of +/- ~0.2 doesn’t necessarily mean there is no\n",
        "relationship. There are lots of ways correlation can mislead, because it\n",
        "is a limited measure. Visualising the relationship between bill length\n",
        "and bill depth showed us that species is highly relevant, and not\n",
        "factoring this in limits what we can say about this relationship.\n",
        "\n",
        "#### Correlation Matrix\n",
        "\n",
        "We may be interested in the pairwise correlation between multiple\n",
        "variables. If so, computing each correlation between pairs of variables\n",
        "is very cumbersome. Instead, we can compute a correlation matrix."
      ],
      "id": "7f9a1408-cc13-4e2e-94a6-81ad306b8794"
    },
    {
      "cell_type": "code",
      "execution_count": 8,
      "metadata": {},
      "outputs": [
        {
          "output_type": "display_data",
          "metadata": {},
          "data": {
            "text/html": [
              "\n",
              "</div>"
            ]
          }
        }
      ],
      "source": [
        "# compute correlation matrix\n",
        "(\n",
        "    df.select_dtypes(include='number')\n",
        "    .corr()\n",
        "    .round(2)\n",
        ")"
      ],
      "id": "cell-correlation-matrix"
    },
    {
      "cell_type": "markdown",
      "metadata": {},
      "source": [
        "We can also visualise a correlation matrix, shown below in\n",
        "<a href=\"#fig-correlation-matrix-plot\" class=\"quarto-xref\">Figure 4</a>."
      ],
      "id": "c81a58a9-4935-466b-9006-60f02e3631e0"
    },
    {
      "cell_type": "code",
      "execution_count": 9,
      "metadata": {},
      "outputs": [
        {
          "output_type": "display_data",
          "metadata": {},
          "data": {}
        }
      ],
      "source": [
        "# add correlation matrix to summarise relationships\n",
        "corr_matrix = df.select_dtypes(include='number').corr()\n",
        "# plot heatmap\n",
        "plt.figure(figsize=(8, 6))\n",
        "sns.heatmap(corr_matrix, annot=True, cmap='coolwarm', vmin=-1, vmax=1)\n",
        "\n",
        "plt.show()"
      ],
      "id": "cell-fig-correlation-matrix-plot"
    },
    {
      "cell_type": "markdown",
      "metadata": {},
      "source": [
        "If you are concerned with a certain outcome and you want to quickly look\n",
        "at the correlation between all other continuous variables and the\n",
        "outcome, you can also compute this."
      ],
      "id": "dcbcc0d4-dd6d-4478-acc0-005496bf2e2a"
    },
    {
      "cell_type": "code",
      "execution_count": 10,
      "metadata": {},
      "outputs": [
        {
          "output_type": "display_data",
          "metadata": {},
          "data": {
            "text/plain": [
              "bill_len       0.59\n",
              "bill_dep      -0.47\n",
              "flipper_len    0.87\n",
              "year           0.02\n",
              "Name: body_mass, dtype: float64"
            ]
          }
        }
      ],
      "source": [
        "# correlations of all numeric variables with body mass\n",
        "(\n",
        "    df.select_dtypes(include='number')\n",
        "    .corr()['body_mass']\n",
        "    .drop('body_mass')\n",
        "    .round(2)\n",
        ")"
      ],
      "id": "cell-body-mass-correlations"
    },
    {
      "cell_type": "markdown",
      "metadata": {},
      "source": [
        "### Correlation’s Limitations\n",
        "\n",
        "Computing correlation can be very informative, but there are a lot of\n",
        "ways it is limited. The most common method for calculating correlation,\n",
        "Pearson’s $r$, assumes a linear pairwise relationship between variables.\n",
        "This means it is unable to capture certain relationships that do not\n",
        "meet these assumptions.\n",
        "\n",
        "#### Non-Linearity\n",
        "\n",
        "A correlation coefficient will miss strong non-linear relationships in\n",
        "data. We can demonstrate this by simulating a parabolic relationship (a\n",
        "u-shaped curve) between two variables, $x$ and $y$, where $y$ is a\n",
        "function of $x$."
      ],
      "id": "04ab1d35-bb13-4e33-bd7e-de22957106df"
    },
    {
      "cell_type": "code",
      "execution_count": 11,
      "metadata": {},
      "outputs": [],
      "source": [
        "import numpy as np\n",
        "\n",
        "# simulate a u‑shaped relationship example\n",
        "x_sim = np.linspace(-3, 3, 200)\n",
        "y_sim = x_sim**2 + np.random.normal(0, 1, 200)\n",
        "sim_data = pd.DataFrame({'x': x_sim, 'y': y_sim})"
      ],
      "id": "simulate-non-linear-relationship"
    },
    {
      "cell_type": "markdown",
      "metadata": {},
      "source": [
        "We know that the relationship between $x$ and $y$ is meaningful because\n",
        "we generated $y$ from $x$. However, when we calculate their correlation,\n",
        "it is tiny."
      ],
      "id": "d70f0fca-042a-4c93-acff-7d421f858f60"
    },
    {
      "cell_type": "code",
      "execution_count": 12,
      "metadata": {},
      "outputs": [
        {
          "output_type": "stream",
          "name": "stdout",
          "text": [
            "Correlation (r) = 0.01"
          ]
        }
      ],
      "source": [
        "r, p = pearsonr(sim_data['x'], sim_data['y'])\n",
        "print(f\"Correlation (r) = {r:.2f}\")"
      ],
      "id": "non-linear-correlation"
    },
    {
      "cell_type": "markdown",
      "metadata": {},
      "source": [
        "<a href=\"#fig-non-linear-relationship\" class=\"quarto-xref\">Figure 5</a>\n",
        "visualises the relationship between $x$ and $y$, demonstrating that\n",
        "there is clearly a relationship between the two variables."
      ],
      "id": "fc4f82e1-dce3-42e2-95ad-89707f1b89d1"
    },
    {
      "cell_type": "code",
      "execution_count": 13,
      "metadata": {},
      "outputs": [
        {
          "output_type": "display_data",
          "metadata": {},
          "data": {}
        }
      ],
      "source": [
        "sns.scatterplot(data=sim_data, x='x', y='y')\n",
        "\n",
        "plt.show()"
      ],
      "id": "cell-fig-non-linear-relationship"
    },
    {
      "cell_type": "markdown",
      "metadata": {},
      "source": [
        "While there are correlation measures that handle non-linearity (such as\n",
        "Spearman’s rank correlation and Kendall’s tau ($\\tau$)), they are much\n",
        "less common than Pearson’s $r$.\n",
        "\n",
        "#### Complexity\n",
        "\n",
        "While the linearity assumption can cause Pearson’s $r$ to miss strong\n",
        "non-linear relationships between variables, the biggest limiting factor\n",
        "with measuring correlations is the pairwise assumption. Correlation\n",
        "compares pairs of variables, which means treating the relationship\n",
        "between those pairs as independent, ignoring potential interactions with\n",
        "other variables. Very few relationships in the real world are strictly\n",
        "pairwise.\n",
        "\n",
        "We saw an example of this earlier with correlation missing the\n",
        "relationship between bill length and bill depth because it couldn’t\n",
        "account for the group-level species effect.\n",
        "\n",
        "We can account for grouping structures in our data visually, by plotting\n",
        "regression lines for each group.\n",
        "<a href=\"#fig-grouping-structures\" class=\"quarto-xref\">Figure 6</a>\n",
        "identifies the real story that correlation missed."
      ],
      "id": "48c55368-f858-4d17-94b2-3b529225a5be"
    },
    {
      "cell_type": "code",
      "execution_count": 14,
      "metadata": {},
      "outputs": [
        {
          "output_type": "display_data",
          "metadata": {},
          "data": {}
        }
      ],
      "source": [
        "sns.lmplot(data=df, x=\"bill_len\", y=\"bill_dep\", hue=\"species\", height=6, aspect=1.2)\n",
        "\n",
        "plt.xlabel('Bill Length (mm)')\n",
        "plt.ylabel('Bill Depth (mm)')\n",
        "plt.show()"
      ],
      "id": "cell-fig-grouping-structures"
    },
    {
      "cell_type": "markdown",
      "metadata": {},
      "source": [
        "> **Note**\n",
        ">\n",
        "> This also demonstrates why it is important to approach exploratory\n",
        "> data analysis in a few different ways. While a correlation coefficient\n",
        "> would have missed the relationship between bill length and bill depth,\n",
        "> <a href=\"#fig-bill-regression-plot\" class=\"quarto-xref\">Figure 3</a>\n",
        "> also would have suggested a negative relationship between two\n",
        "> variables that are actually positively associated (though it is\n",
        "> unclear if the relationship is causal). Meanwhile,\n",
        "> <a href=\"#fig-bill-scatter-plot\" class=\"quarto-xref\">Figure 2</a>\n",
        "> suggested that species has a moderating effect on the relationship\n",
        "> between the length of a penguin’s bill and its depth, and\n",
        "> <a href=\"#fig-grouping-structures\" class=\"quarto-xref\">Figure 6</a>\n",
        "> confirms the suspicions.\n",
        "\n",
        "Correlation will not account for grouping structures, but it will also\n",
        "miss any other way that other variables can complicate the relationship\n",
        "between a pair of variables. Outcomes in the real world are rarely as\n",
        "simple as a pairwise relationship. We need different tools to capture\n",
        "this complexity.\n",
        "\n",
        "## Summary\n",
        "\n",
        "Visualising continuous variables and calculating their correlations can\n",
        "tell us a lot. These methods let us move beyond simple group comparisons\n",
        "to examine continuous associations. However, both approaches have\n",
        "important limitations: they struggle with non-linear patterns, they\n",
        "struggle with complexity, and most importantly, they cannot tell us\n",
        "whether the relationship between variables is causal.\n",
        "\n",
        "Real-world relationships rarely exist in isolation, so we need methods\n",
        "that can handle the complexity that occurs in the wild. This is where we\n",
        "turn to regression. Regression can handle multiple variables, account\n",
        "for confounding factors, and provide a more complete picture of how\n",
        "variables relate to each other in complex systems."
      ],
      "id": "05c0914d-a3ff-4ee3-b666-51ca7a0212f3"
    }
  ],
  "nbformat": 4,
  "nbformat_minor": 5,
  "metadata": {
    "kernelspec": {
      "name": "python3",
      "display_name": "Python 3 (ipykernel)",
      "language": "python",
      "path": "c:.johnson-club.venv"
    },
    "language_info": {
      "name": "python",
      "codemirror_mode": {
        "name": "ipython",
        "version": "3"
      },
      "file_extension": ".py",
      "mimetype": "text/x-python",
      "nbconvert_exporter": "python",
      "pygments_lexer": "ipython3",
      "version": "3.12.5"
    }
  }
}