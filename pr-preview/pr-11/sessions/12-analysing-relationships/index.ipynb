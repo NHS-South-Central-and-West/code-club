{
  "cells": [
    {
      "cell_type": "markdown",
      "metadata": {},
      "source": [
        "# Analysing ~~Penguins~~ Relationships\n",
        "\n",
        "This is the second in our series of sessions that builds the regression\n",
        "foundations. Here we will look at how to explore relationships in data,\n",
        "using both quantitative measures such as correlation and a range of\n",
        "visualisations methods.\n",
        "\n",
        "This session discusses what it means to analyse relationships between\n",
        "variables, what is possible with different types of variables (and how\n",
        "this links to the previous session that looked at [comparing\n",
        "samples](../../sessions/11-comparing-samples)), and what these methods\n",
        "can and cannot tell us.\n",
        "\n",
        "We will use the [**Palmer\n",
        "Penguins**](https://github.com/rfordatascience/tidytuesday/blob/main/data/2025/2025-04-15/readme.md)\n",
        "dataset throughout this session, taken from the\n",
        "[TidyTuesday](https://github.com/rfordatascience/tidytuesday/) GitHub\n",
        "repository (originally from the\n",
        "[palmerpenguins](https://allisonhorst.github.io/palmerpenguins/) R\n",
        "package[1]). We will import the data directly from GitHub, but if you\n",
        "would prefer to download it instead, click\n",
        "<a href=\"https://raw.githubusercontent.com/rfordatascience/tidytuesday/main/data/2025/2025-04-15/penguins.csv\" download>here</a>.\n",
        "\n",
        "## Why Analyse Relationships?\n",
        "\n",
        "In the [first session](../../sessions/11-comparing-samples) in the\n",
        "regression foundations series we considered how to compare samples, and\n",
        "what comparisons between groups can tell us. The problem with comparing\n",
        "samples is that you can only really conclude that the samples are\n",
        "probably drawn from the same distribution or not. If they are not drawn\n",
        "from the same population distribution, what does this really tell us? It\n",
        "is possible to structure our analysis such that this could be quite\n",
        "meaningful, but in many cases it won’t be.\n",
        "\n",
        "This is why we need to take the next step, to analysing relationships.\n",
        "How do two variables move together? Strictly speaking, what we will be\n",
        "analysing today is less “relationships”, which implies causality, and\n",
        "more “associations”. We are unable to make claims about causality with\n",
        "the methods we are using, because we are only considering how variables\n",
        "vary together, and not directly estimating how one variable causes\n",
        "changes in another. Still, the methods we will discuss here get us one\n",
        "step closer to being able to measure effects and infer causality.\n",
        "\n",
        "In this session, we’ll explore the penguins dataset to see how body mass\n",
        "relates to flipper length, how bill length relates to bill depth, and\n",
        "how to identify relationships between continuous traits.\n",
        "\n",
        "## From Categorical to Continuous\n",
        "\n",
        "In our previous session, comparing samples, we were comparing the\n",
        "average value of a continuous variable by groups (categorical\n",
        "variables). Here we will compare two continuous variables, considering\n",
        "how one variable (the outcome) changes in response to changes in the\n",
        "other variable (the predictor).\n",
        "\n",
        "### Variable Types\n",
        "\n",
        "| Variable Type             | Example Values       | Typical Question        |\n",
        "|---------------------------|----------------------|-------------------------|\n",
        "| **Continuous**            | 5.2, 7.8, 102.3      | *How much?*             |\n",
        "| **Discrete**              | 1, 2, 3, 10          | *How many?*             |\n",
        "| **Categorical (Nominal)** | Red, Blue, Green     | *Which type?*           |\n",
        "| **Categorical (Ordinal)** | Low, Medium, High    | *Which level?*          |\n",
        "| **Binary (Dichotomous)**  | Yes/No, Pass/Fail    | *Yes or no?*            |\n",
        "| **Time/Date**             | 2025-06-10, 12:30 PM | *When?*                 |\n",
        "| **Identifier**            | ID12345, username987 | *Who or what? (unique)* |\n",
        "\n",
        "There is only a subtle difference between the idea of comparing samples\n",
        "and analysing relationships. You can frame a comparison between groups\n",
        "as analysing the relationship between the groups and the continuous\n",
        "variable, but you are still comparing the average value and dispersion\n",
        "for each group and inferring the relationship (or association) from\n",
        "this. When comparing two continuous variables, you can’t reduce either\n",
        "to their average, and are instead making statements about the way they\n",
        "vary together.\n",
        "\n",
        "## Penguins with Long Characteristics\n",
        "\n",
        "### Import & Process Data\n",
        "\n",
        "[1] And now a part of the Base R datasets package included as default in\n",
        "R installations (R \\>= 4.5.0)."
      ],
      "id": "6271da8a-f383-47cb-97b0-2156738d4db3"
    },
    {
      "cell_type": "code",
      "execution_count": 1,
      "metadata": {},
      "outputs": [
        {
          "output_type": "display_data",
          "metadata": {},
          "data": {
            "text/html": [
              "\n",
              "</div>"
            ]
          }
        }
      ],
      "source": [
        "import pandas as pd\n",
        "\n",
        "# load penguins data from TidyTuesday URL\n",
        "url = 'https://raw.githubusercontent.com/rfordatascience/tidytuesday/main/data/2025/2025-04-15/penguins.csv'\n",
        "penguins_raw = pd.read_csv(url)\n",
        "penguins_raw.head()"
      ],
      "id": "cell-import-data"
    },
    {
      "cell_type": "markdown",
      "metadata": {},
      "source": [
        "There are several missing values in this dataset. While we should\n",
        "generally be a little careful when discarding missing values, we will do\n",
        "so here just to simplify the process."
      ],
      "id": "4caf9ff7-3ec1-435b-b425-e419b0341d8f"
    },
    {
      "cell_type": "code",
      "execution_count": 2,
      "metadata": {},
      "outputs": [
        {
          "output_type": "display_data",
          "metadata": {},
          "data": {
            "text/plain": [
              "(333, 8)"
            ]
          }
        }
      ],
      "source": [
        "# drop missing values\n",
        "df = penguins_raw.dropna()\n",
        "df.shape"
      ],
      "id": "cell-clean-data"
    },
    {
      "cell_type": "markdown",
      "metadata": {},
      "source": [
        "### Visualing Relationships"
      ],
      "id": "d1f474ee-6620-45da-8a10-7916bb5c7a70"
    },
    {
      "cell_type": "code",
      "execution_count": 3,
      "metadata": {},
      "outputs": [
        {
          "output_type": "display_data",
          "metadata": {},
          "data": {}
        }
      ],
      "source": [
        "import matplotlib.pyplot as plt\n",
        "import seaborn as sns\n",
        "\n",
        "# scatter of flipper length vs. body mass\n",
        "plt.figure(figsize=(8, 6))\n",
        "sns.scatterplot(\n",
        "    data=df,\n",
        "    x='flipper_len',\n",
        "    y='body_mass',\n",
        "    hue='species',\n",
        "    alpha=0.7\n",
        ")\n",
        "plt.title('The Relationship Between Flipper Length & Body Mass')\n",
        "plt.xlabel('Flipper Length (mm)')\n",
        "plt.ylabel('Body Mass (g)')\n",
        "plt.show()"
      ],
      "id": "cell-fig-flipper-mass-scatter-plot"
    },
    {
      "cell_type": "markdown",
      "metadata": {},
      "source": [
        "**Questions:**\n",
        "\n",
        "-   What pattern do you see in <a href=\"#fig-flipper-mass-scatter-plot\"\n",
        "    class=\"quarto-xref\">Figure 1</a>?\n",
        "-   How does body mass change when flipper length increases, according\n",
        "    to this plot?\n",
        "-   Are there differences by species?"
      ],
      "id": "46d97fb8-be04-4f5c-b4bb-c1541c3d392c"
    },
    {
      "cell_type": "code",
      "execution_count": 4,
      "metadata": {},
      "outputs": [
        {
          "output_type": "display_data",
          "metadata": {},
          "data": {}
        }
      ],
      "source": [
        "# scatter of bill length vs. bill depth\n",
        "plt.figure(figsize=(8, 6))\n",
        "sns.scatterplot(\n",
        "    data=df,\n",
        "    x='bill_len',\n",
        "    y='bill_dep',\n",
        "    hue='species',\n",
        "    alpha=0.7\n",
        ")\n",
        "plt.title('The Relationship Between Bill Length & Bill Depth')\n",
        "plt.xlabel('Bill Length (mm)')\n",
        "plt.ylabel('Bill Depth (mm)')\n",
        "plt.show()"
      ],
      "id": "cell-fig-bill-scatter-plot"
    },
    {
      "cell_type": "markdown",
      "metadata": {},
      "source": [
        "**Questions:**\n",
        "\n",
        "-   What pattern do you see in\n",
        "    <a href=\"#fig-bill-scatter-plot\" class=\"quarto-xref\">Figure 2</a>?\n",
        "-   How does bill depth change when bill length increases, according to\n",
        "    this plot?\n",
        "-   Are there differences by species?\n",
        "\n",
        "### Computing Correlations\n",
        "\n",
        "#### Pairwise Correlation\n",
        "\n",
        "We can compute the correlation between two variables, using\n",
        "`scipy.stats`."
      ],
      "id": "e8dc9c6a-ae39-4fa9-a325-fe586512a622"
    },
    {
      "cell_type": "code",
      "execution_count": 5,
      "metadata": {},
      "outputs": [
        {
          "output_type": "stream",
          "name": "stdout",
          "text": [
            "Correlation (r) = 0.87"
          ]
        }
      ],
      "source": [
        "from scipy.stats import pearsonr\n",
        "\n",
        "r, p = pearsonr(df['flipper_len'], df['body_mass'])\n",
        "print(f\"Correlation (r) = {r:.2f}\")"
      ],
      "id": "flipper-mass-correlation"
    },
    {
      "cell_type": "markdown",
      "metadata": {},
      "source": [
        "A correlation of 0.87 is very strong. There is clearly a very strong\n",
        "association between flipper length and body mass. However, we can’t\n",
        "claim that flipper length causes body mass just based off this.\n",
        "Correlation does not imply causation[1].\n",
        "\n",
        "When we visualised the relationship between bill length and bill depth,\n",
        "there appeared to be a grouping structure going on that complicated\n",
        "things, and the overall relationship appeared pretty noisy.\n",
        "\n",
        "[1] Correlation might not imply causation, but it is important to\n",
        "realise that the presence of correlation does not mean causation is\n",
        "*not* present. You just can’t conclude causation exists simply because\n",
        "you observe a correlation."
      ],
      "id": "740eb758-5fae-478c-8bfd-4347831cf0e6"
    },
    {
      "cell_type": "code",
      "execution_count": 6,
      "metadata": {},
      "outputs": [
        {
          "output_type": "stream",
          "name": "stdout",
          "text": [
            "Correlation (r) = -0.23"
          ]
        }
      ],
      "source": [
        "r, p = pearsonr(df['bill_len'], df['bill_dep'])\n",
        "print(f\"Correlation (r) = {r:.2f}\")"
      ],
      "id": "bill-correlation"
    },
    {
      "cell_type": "markdown",
      "metadata": {},
      "source": [
        "As a result, the correlation score is much lower. A correlation of -0.23\n",
        "tells us two things:\n",
        "\n",
        "-   The negative correlation means that when bill length increases, bill\n",
        "    depth tends to decrease.\n",
        "-   The weaker correlation suggests that this decrease is a lot noisier,\n",
        "    and it is much harder to estimate a penguin’s bill depth using their\n",
        "    bill length.\n",
        "\n",
        "A correlation of +/- ~0.2 doesn’t necessarily mean there is no\n",
        "relationship. There are lots of ways correlation can mislead, because it\n",
        "is a limited measure. Visualising the relationship between bill length\n",
        "and bill depth showed us that species is highly relevant, and not\n",
        "factoring this in limits what we can say about this relationship.\n",
        "\n",
        "#### Correlation Matrix\n",
        "\n",
        "We may be interested in the pairwise correlation between multiple\n",
        "variables. If so, computing each correlation between pairs of variables\n",
        "is very cumbersome. Instead, we can compute a correlation matrix."
      ],
      "id": "1371787b-383a-4866-8da9-fdf271c9c916"
    },
    {
      "cell_type": "code",
      "execution_count": 7,
      "metadata": {},
      "outputs": [
        {
          "output_type": "display_data",
          "metadata": {},
          "data": {
            "text/html": [
              "\n",
              "</div>"
            ]
          }
        }
      ],
      "source": [
        "# compute correlation matrix\n",
        "(\n",
        "    df.select_dtypes(include='number')\n",
        "    .corr()\n",
        "    .round(2)\n",
        ")"
      ],
      "id": "cell-correlation-matrix"
    },
    {
      "cell_type": "markdown",
      "metadata": {},
      "source": [
        "We can also visualise a correlation matrix, shown below in\n",
        "<a href=\"#fig-correlation-matrix-plot\" class=\"quarto-xref\">Figure 3</a>."
      ],
      "id": "b980bbbf-eacd-417a-87b2-0c1074fbb422"
    },
    {
      "cell_type": "code",
      "execution_count": 8,
      "metadata": {},
      "outputs": [
        {
          "output_type": "display_data",
          "metadata": {},
          "data": {}
        }
      ],
      "source": [
        "# add correlation matrix to summarise relationships\n",
        "corr_matrix = df.select_dtypes(include='number').corr()\n",
        "# plot heatmap\n",
        "plt.figure(figsize=(8, 6))\n",
        "sns.heatmap(corr_matrix, annot=True, cmap='coolwarm', vmin=-1, vmax=1)\n",
        "plt.title(\"Correlation Matrix\")\n",
        "plt.show()"
      ],
      "id": "cell-fig-correlation-matrix-plot"
    },
    {
      "cell_type": "markdown",
      "metadata": {},
      "source": [
        "If you are concerned with a certain outcome and you want to quickly look\n",
        "at the correlation between all other continuous variables and the\n",
        "outcome, you can also compute this."
      ],
      "id": "cd597a09-74d8-4c82-a552-8e830e731fee"
    },
    {
      "cell_type": "code",
      "execution_count": 9,
      "metadata": {},
      "outputs": [
        {
          "output_type": "display_data",
          "metadata": {},
          "data": {
            "text/plain": [
              "bill_len       0.59\n",
              "bill_dep      -0.47\n",
              "flipper_len    0.87\n",
              "year           0.02\n",
              "Name: body_mass, dtype: float64"
            ]
          }
        }
      ],
      "source": [
        "# correlations of all numeric variables with body mass\n",
        "(\n",
        "    df.select_dtypes(include='number')\n",
        "    .corr()['body_mass']\n",
        "    .drop('body_mass')\n",
        "    .round(2)\n",
        ")"
      ],
      "id": "cell-body-mass-correlations"
    },
    {
      "cell_type": "markdown",
      "metadata": {},
      "source": [
        "### Correlation’s Limitations\n",
        "\n",
        "Computing correlation can be very informative, but there are a lot of\n",
        "ways it is limited. Correlation (at least the most common method for\n",
        "calculating correlation, Pearson’s *r*[1]) does not handle non-linearity\n",
        "well.\n",
        "\n",
        "[1] There are a number of other ways of calculating correlation,\n",
        "including methods that account for non-linearity, but more often than\n",
        "not you will encounter Pearson’s *r*. Any time correlation is mentioned\n",
        "without specifying the way it was calculated, you should assume it is\n",
        "using Pearson’s *r*."
      ],
      "id": "2b0f7c68-df6a-4590-846e-5629eb983f49"
    },
    {
      "cell_type": "code",
      "execution_count": 10,
      "metadata": {},
      "outputs": [
        {
          "output_type": "display_data",
          "metadata": {},
          "data": {}
        }
      ],
      "source": [
        "import numpy as np\n",
        "\n",
        "# simulate a u‑shaped relationship example\n",
        "x_sim = np.linspace(-3, 3, 200)\n",
        "y_sim = x_sim**2 + np.random.normal(0, 1, 200)\n",
        "sim = pd.DataFrame({'x': x_sim, 'y': y_sim})\n",
        "\n",
        "plt.figure(figsize=(6, 4))\n",
        "sns.scatterplot(data=sim, x='x', y='y')\n",
        "plt.title('u-shaped pattern')\n",
        "plt.show()"
      ],
      "id": "cell-fig-non-linear-relationships"
    },
    {
      "cell_type": "code",
      "execution_count": 11,
      "metadata": {},
      "outputs": [
        {
          "output_type": "stream",
          "name": "stdout",
          "text": [
            "Correlation (r) = -0.03"
          ]
        }
      ],
      "source": [
        "r, p = pearsonr(sim['x'], sim['y'])\n",
        "print(f\"Correlation (r) = {r:.2f}\")"
      ],
      "id": "non-linear-correlation"
    },
    {
      "cell_type": "markdown",
      "metadata": {},
      "source": [
        "**Takeaway:** Pearson’s *r* misses non-linear relationships\n",
        "\n",
        "### Visualising Linear Regressions"
      ],
      "id": "b95d1911-7afc-4b4b-8a26-ca76028124ea"
    },
    {
      "cell_type": "code",
      "execution_count": 12,
      "metadata": {},
      "outputs": [
        {
          "output_type": "display_data",
          "metadata": {},
          "data": {}
        }
      ],
      "source": [
        "# add linear fit line\n",
        "sns.regplot(\n",
        "    data=df,\n",
        "    x='flipper_len',\n",
        "    y='body_mass',\n",
        "    scatter=True,\n",
        "    ci=95\n",
        ")\n",
        "plt.title('Adding a Regression Line')\n",
        "plt.xlabel('Flipper Length (mm)')\n",
        "plt.ylabel('Body Mass (g)')\n",
        "plt.show()"
      ],
      "id": "cell-fig-flipper-mass-regression-plot"
    },
    {
      "cell_type": "code",
      "execution_count": 13,
      "metadata": {},
      "outputs": [
        {
          "output_type": "display_data",
          "metadata": {},
          "data": {}
        }
      ],
      "source": [
        "# add linear fit line\n",
        "sns.regplot(\n",
        "    data=df,\n",
        "    x='bill_len',\n",
        "    y='bill_dep',\n",
        "    scatter=True,\n",
        "    ci=95\n",
        ")\n",
        "plt.title('Adding a Regression Line')\n",
        "plt.xlabel('Bill Length (mm)')\n",
        "plt.ylabel('Bill Depth (mm)')\n",
        "plt.show()"
      ],
      "id": "cell-fig-bill-regression-plot"
    },
    {
      "cell_type": "markdown",
      "metadata": {},
      "source": [
        "### Visualisation Limitations\n",
        "\n",
        "Visualising relationships has many of the same issues that computing\n",
        "correlation does, but fundamentally the biggest issue is that it is\n",
        "pairwise, and few relationships are strictly pairwise in the real world.\n",
        "\n",
        "<a href=\"#fig-bill-regression-plot\" class=\"quarto-xref\">Figure 6</a>\n",
        "points to another limitation with Pearson’s *r* that also applies to\n",
        "regression plots. Grouping structures!"
      ],
      "id": "9001b887-fcf4-4b13-a6fe-b28f6805db29"
    },
    {
      "cell_type": "code",
      "execution_count": 14,
      "metadata": {},
      "outputs": [
        {
          "output_type": "display_data",
          "metadata": {},
          "data": {}
        }
      ],
      "source": [
        "sns.lmplot(data=df, x=\"bill_len\", y=\"bill_dep\", hue=\"species\")\n",
        "\n",
        "plt.title('Accounting for groups')\n",
        "plt.xlabel('Bill Length (mm)')\n",
        "plt.ylabel('Bill Depth (mm)')\n",
        "plt.show()"
      ],
      "id": "cell-fig-grouping-structures"
    },
    {
      "cell_type": "markdown",
      "metadata": {},
      "source": [
        "<a href=\"#fig-grouping-structures\" class=\"quarto-xref\">Figure 7</a>\n",
        "shows how pairwise examination of relationships can miss so much.\n",
        "\n",
        "Drawing a straight line through data is strictly linear, but unlike\n",
        "correlation coefficients, you will be able to *see* when this is\n",
        "inappropriate. A linear regression plot will not handle the non-linear\n",
        "pattern above any better than a correlation coefficient, but you will be\n",
        "able to see the problem for yourself.\n",
        "\n",
        "Visualising data helps you to get a sense of how two variables are\n",
        "related, but where you are seeking to understand the relationship\n",
        "between variables, or even explain what causes a certain outcome, you\n",
        "have to go further.\n",
        "\n",
        "## Summary\n",
        "\n",
        "-   Visualising data can help intuit how variables are related.\n",
        "-   Correlations can tell us a lot, but typical methods for calculating\n",
        "    correlation will miss non-linearity.\n",
        "-   Correlation does not imply causation (but does not *not* imply\n",
        "    causation, either).\n",
        "-   Both of these approaches are generally only able to handle pairwise\n",
        "    relationships."
      ],
      "id": "1714a115-8506-40d1-8ac3-b759b4a4983a"
    }
  ],
  "nbformat": 4,
  "nbformat_minor": 5,
  "metadata": {
    "kernelspec": {
      "name": "python3",
      "display_name": "Python 3 (ipykernel)",
      "language": "python",
      "path": "c:.johnson-club.venv"
    }
  }
}