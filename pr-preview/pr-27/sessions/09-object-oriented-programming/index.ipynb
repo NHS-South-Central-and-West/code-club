{
  "cells": [
    {
      "cell_type": "markdown",
      "metadata": {},
      "source": [
        "# An Introduction to Object-Oriented Programming\n",
        "\n",
        "This session is the last in our series on fundamental programming\n",
        "concepts. It is an introduction to the programming paradigm that\n",
        "underpins Python, making it flexible and comparatively accessible to\n",
        "people starting out with coding.\n",
        "\n",
        "While the concepts discussed can feel a little abstract at times, they\n",
        "will make ever more sense the more practical experience you have with\n",
        "Python. This will help you understand how the packages you use function\n",
        "and will hopefully lead you one day to create some sophisticated\n",
        "programs yourself!\n",
        "\n",
        "If you want to download the Jupyter notebook so that you can run the\n",
        "code yourself, modify it, and generally have a play, you can download it\n",
        "by clicking on the “Jupyter” link under “Other Formats” over on the\n",
        "right-hand side below the page contents.\n",
        "\n",
        "## Session Slides\n",
        "\n",
        "Use the left ⬅️ and right ➡️ arrow keys to navigate through the slides\n",
        "below. To view in a separate tab/window,\n",
        "<a href=\"slides.html\" target=\"_blank\">follow this link</a>."
      ],
      "id": "6132c5a2-9dea-4ac6-ae1b-1a0e20432360"
    },
    {
      "cell_type": "raw",
      "metadata": {
        "raw_mimetype": "text/html"
      },
      "source": [
        "<iframe src=\"slides.html\" height=\"500\" width=\"100%\">"
      ],
      "id": "32572570-de1a-4aba-aff2-c5321be55d55"
    },
    {
      "cell_type": "raw",
      "metadata": {
        "raw_mimetype": "text/html"
      },
      "source": [
        "</iframe>"
      ],
      "id": "14270050-77e8-4178-b1be-91f901e2c012"
    },
    {
      "cell_type": "markdown",
      "metadata": {},
      "source": [
        "## A closer look at some of the basics\n",
        "\n",
        "Here is a simple demonstration of how everything, down to individual\n",
        "integers, is treated as an object. When we run the dir() function on an\n",
        "integer and print the results, we can see all of the object attributes\n",
        "and methods associated with it."
      ],
      "id": "f420690d-54be-452d-91eb-016921be13e2"
    },
    {
      "cell_type": "code",
      "execution_count": 1,
      "metadata": {},
      "outputs": [
        {
          "output_type": "stream",
          "name": "stdout",
          "text": [
            "['__abs__', '__add__', '__and__', '__bool__', '__ceil__', '__class__', '__delattr__', '__dir__', '__divmod__', '__doc__', '__eq__', '__float__', '__floor__', '__floordiv__', '__format__', '__ge__', '__getattribute__', '__getnewargs__', '__getstate__', '__gt__', '__hash__', '__index__', '__init__', '__init_subclass__', '__int__', '__invert__', '__le__', '__lshift__', '__lt__', '__mod__', '__mul__', '__ne__', '__neg__', '__new__', '__or__', '__pos__', '__pow__', '__radd__', '__rand__', '__rdivmod__', '__reduce__', '__reduce_ex__', '__repr__', '__rfloordiv__', '__rlshift__', '__rmod__', '__rmul__', '__ror__', '__round__', '__rpow__', '__rrshift__', '__rshift__', '__rsub__', '__rtruediv__', '__rxor__', '__setattr__', '__sizeof__', '__str__', '__sub__', '__subclasshook__', '__truediv__', '__trunc__', '__xor__', 'as_integer_ratio', 'bit_count', 'bit_length', 'conjugate', 'denominator', 'from_bytes', 'imag', 'is_integer', 'numerator', 'real', 'to_bytes']"
          ]
        }
      ],
      "source": [
        "my_int = 5\n",
        "\n",
        "print(dir(my_int))"
      ],
      "id": "dir-demo"
    },
    {
      "cell_type": "markdown",
      "metadata": {},
      "source": [
        "To see which are attributes and which are methods, you can run the\n",
        "following code. We won’t run it here, because it produces quite a long\n",
        "list!"
      ],
      "id": "d3e2224f-4817-4ae1-9cf8-d42792ace3b1"
    },
    {
      "cell_type": "code",
      "execution_count": 2,
      "metadata": {},
      "outputs": [],
      "source": [
        "for name in dir(my_int):\n",
        "    item = getattr(my_int, name)\n",
        "    if callable(item):  # if an item is callable, i.e. you can \"do\" something with it, it is a method\n",
        "        print(f\"{name} -> method\")\n",
        "    else:\n",
        "        print(f\"{name} -> attribute\") # otherwise, it is an attribute"
      ],
      "id": "meth-attr-demo"
    },
    {
      "cell_type": "markdown",
      "metadata": {},
      "source": [
        "Methods and attributes that are surrounded by double underscores are\n",
        "ones that are used “behind the scenes” to help objects behave in a\n",
        "certain way (this exhibits the principle of Abstraction mentioned in the\n",
        "presentation). The ones without are the ones that you would call\n",
        "directly when working with the objects.\n",
        "\n",
        "### Using methods\n",
        "\n",
        "By now, you are likely to have come across operations that can be used\n",
        "to transform your data by tacking them onto the end of your variable\n",
        "name. These are *methods* belonging to that variable’s object."
      ],
      "id": "fdc849e7-4fe1-4924-bf77-b07af0d91809"
    },
    {
      "cell_type": "code",
      "execution_count": 3,
      "metadata": {},
      "outputs": [
        {
          "output_type": "stream",
          "name": "stdout",
          "text": [
            "['QRL', 'QNQ', 'QU9', 'QSL', 'QNX']"
          ]
        }
      ],
      "source": [
        "# Here we are calling the \"append\" method of the list class.\n",
        "\n",
        "icb_list = ['QRL','QNQ','QU9','QSL'] # a list object\n",
        "\n",
        "icb_list.append('QNX') # calling the method and passing a parameter\n",
        "\n",
        "print(icb_list)"
      ],
      "id": "list-demo"
    },
    {
      "cell_type": "markdown",
      "metadata": {},
      "source": [
        "If we apply the function dir() to our variable `icb_list`, we can see\n",
        "that “append” is one of the methods belonging to the list class."
      ],
      "id": "478b7f94-a09a-4b0f-8740-0f81719f28c8"
    },
    {
      "cell_type": "code",
      "execution_count": 4,
      "metadata": {},
      "outputs": [
        {
          "output_type": "stream",
          "name": "stdout",
          "text": [
            "['__add__', '__class__', '__class_getitem__', '__contains__', '__delattr__', '__delitem__', '__dir__', '__doc__', '__eq__', '__format__', '__ge__', '__getattribute__', '__getitem__', '__getstate__', '__gt__', '__hash__', '__iadd__', '__imul__', '__init__', '__init_subclass__', '__iter__', '__le__', '__len__', '__lt__', '__mul__', '__ne__', '__new__', '__reduce__', '__reduce_ex__', '__repr__', '__reversed__', '__rmul__', '__setattr__', '__setitem__', '__sizeof__', '__str__', '__subclasshook__', 'append', 'clear', 'copy', 'count', 'extend', 'index', 'insert', 'pop', 'remove', 'reverse', 'sort']"
          ]
        }
      ],
      "source": [
        "print(dir(icb_list))"
      ],
      "id": "dir-list-demo"
    },
    {
      "cell_type": "markdown",
      "metadata": {},
      "source": [
        "> **Remember**\n",
        ">\n",
        "> Functions precede the variable `function(my_variable)`, whereas\n",
        "> methods are the ones that come after the variable\n",
        "> `my_variable.method()`.\n",
        "\n",
        "Functions are not tied to a particular object class (for example,\n",
        "`print()` can be applied to most things), while methods are bound up\n",
        "with particular object classes (for example, the method `pop` is\n",
        "associated with lists, but not with integers).\n",
        "\n",
        "The brackets that come after methods will often contain parameters that\n",
        "determine *how* the method is applied to the variable. This can be as\n",
        "simple as saying what we want to append to a list, as in the above\n",
        "example, or they can be as complex as the hyperparameters used to\n",
        "fine-tune a machine learning model.\n",
        "\n",
        "### Accessing attributes\n",
        "\n",
        "To access an *attribute*, you simply write `my_variable.attribute`.\n",
        "Below is an example of accessing the “numerator” and “denominator”\n",
        "attributes of an integer. In Python, integers have these to enable\n",
        "consistency when working with rational numbers, i.e. fractions."
      ],
      "id": "8396bda1-cd37-4889-9b9f-cb5a0dfc4d26"
    },
    {
      "cell_type": "code",
      "execution_count": 5,
      "metadata": {},
      "outputs": [
        {
          "output_type": "stream",
          "name": "stdout",
          "text": [
            "5\n",
            "1"
          ]
        }
      ],
      "source": [
        "print(my_int.numerator)\n",
        "print(my_int.denominator)"
      ],
      "id": "attr-demo"
    },
    {
      "cell_type": "markdown",
      "metadata": {},
      "source": [
        "$\\frac{5}{1} = 5$\n",
        "\n",
        "When you start working with machine learning models in Python, you will\n",
        "often want to access attributes such as `coef_` (regression) and\n",
        "`feature_importances_` (decision tree algorithms).\n",
        "\n",
        "Now let’s move onto how we create our own classes.\n",
        "\n",
        "## The Anatomy of a Class\n",
        "\n",
        "Let us first of all look at a simple class to see how it is structured\n",
        "as a whole. Then we will look at each element in turn."
      ],
      "id": "527868ad-202f-40aa-964f-2a8be80093a6"
    },
    {
      "cell_type": "code",
      "execution_count": 6,
      "metadata": {},
      "outputs": [],
      "source": [
        "class HealthProfessional:\n",
        "\n",
        "  daily_capacity = 7.5\n",
        "\n",
        "  def __init__(self, assignment_number, division, department):\n",
        "    self.assignment_number = assignment_number                 \n",
        "    self.division = division              \n",
        "    self.department = department                              \n",
        "\n",
        "  def treat_patient(self,patient_name):\n",
        "    print(f'Health professional {self.assignment_number} treated patient {patient_name}')"
      ],
      "id": "create-class-demo"
    },
    {
      "cell_type": "markdown",
      "metadata": {},
      "source": [
        "### Definition\n",
        "\n",
        "The line begins the definition of the class. It starts with the `class`\n",
        "keyword, followed by the class name and a colon. By convention, classes\n",
        "in Python begin with a capital letter."
      ],
      "id": "7fc28c1e-8db1-47ec-8967-32b62c91f322"
    },
    {
      "cell_type": "code",
      "execution_count": 7,
      "metadata": {},
      "outputs": [],
      "source": [
        "class HealthProfessional:"
      ],
      "id": "class-definition-demo"
    },
    {
      "cell_type": "markdown",
      "metadata": {},
      "source": [
        "### Class attribute\n",
        "\n",
        "The next element is a *class attribute*, that is to say an attribute\n",
        "where the value will initially be the same for all objects created from\n",
        "that class. All of my health professionals have a default\n",
        "`daily_capacity` of 7.5 working hours per day. Class attributes sit just\n",
        "below the class name with one indent. Class attributes are **optional**."
      ],
      "id": "1e632e29-4822-403d-8715-20906882176b"
    },
    {
      "cell_type": "code",
      "execution_count": 8,
      "metadata": {},
      "outputs": [],
      "source": [
        "class HealthProfessional:\n",
        "  \n",
        "  daily_capacity = 7.5"
      ],
      "id": "class-attr-demo"
    },
    {
      "cell_type": "markdown",
      "metadata": {},
      "source": [
        "### Constructor method\n",
        "\n",
        "Next comes the *constructor* method, which goes by the name of\n",
        "`__init__`. The double underscores (a so-called “dunder” method)\n",
        "indicate that it is a method that remains internal to the object i.e. it\n",
        "is not something that is accessed by the end user.\n",
        "\n",
        "The constructor method defines what happens when an object instance is\n",
        "created (instantiated). It determines which attributes require values to\n",
        "be passed to the object at instantiation and can also trigger some\n",
        "methods to be execute automatically.\n",
        "\n",
        "It is written much in the same way as defining a function, starting with\n",
        "the keyword `def`. The first argument of the function is *always* `self`\n",
        "and is followed by arguments representing each of the object attributes.\n",
        "\n",
        "Below that, each object attribute is bound to `self` with the\n",
        "`self.attribute` syntax and the `= attribute` syntax means that the\n",
        "corresponding value that gets passed to the object at instantiation will\n",
        "be assigned to that attribute."
      ],
      "id": "0a668763-0f59-4d58-8d44-1aa0ee164a9f"
    },
    {
      "cell_type": "code",
      "execution_count": 9,
      "metadata": {},
      "outputs": [],
      "source": [
        "  def __init__(self, assignment_number, division, department):\n",
        "    self.assignment_number = assignment_number                 \n",
        "    self.division = division              \n",
        "    self.department = department    "
      ],
      "id": "constructor-demo"
    },
    {
      "cell_type": "markdown",
      "metadata": {},
      "source": [
        "#### Some quick notes on `self`\n",
        "\n",
        "-   `self` stores the instance of each object within the computer’s\n",
        "    memory.\n",
        "-   whenever we define a class method, we include `self` because we want\n",
        "    to run this method *in relation to this instance* when we call it.\n",
        "-   whenever we define an object attribute, we include `self` because we\n",
        "    want to be able access the attribute value that *belongs to this\n",
        "    instance*.\n",
        "\n",
        "### Class method\n",
        "\n",
        "Now, returning to the definition of a class, we come to the *class\n",
        "method*.\n",
        "\n",
        "It is again defined just like a normal function, and this time we can\n",
        "give it whatever name we like. The first argument is *always* `self`,\n",
        "which is followed by any other arguments relevant to the method. In our\n",
        "example, we want to pass a `patient_name` to the HealthProfessional\n",
        "object so that it knows which patient it is being asked to treat."
      ],
      "id": "7eac7627-2f73-400e-a776-dd9bd45bde53"
    },
    {
      "cell_type": "code",
      "execution_count": 10,
      "metadata": {},
      "outputs": [],
      "source": [
        "  def treat_patient(self,patient_name):\n",
        "    print(f'Health professional {self.assignment_number} treated patient {patient_name}')"
      ],
      "id": "method-demo"
    },
    {
      "cell_type": "markdown",
      "metadata": {},
      "source": [
        "### Our class in action\n",
        "\n",
        "Now we can have a look at our HealthProfessional class in action.\n",
        "\n",
        "First of all, we need to instantiate a HealthProfessional object. We\n",
        "need to assign it to a variable name so that we can easily refer to the\n",
        "object later on."
      ],
      "id": "1888ee27-e7a8-4926-94f3-fa92a697c00c"
    },
    {
      "cell_type": "code",
      "execution_count": 11,
      "metadata": {},
      "outputs": [],
      "source": [
        "doctor_duggee = HealthProfessional(\n",
        "  assignment_number = 12345,          # writing out the argument names is optional\n",
        "  division = \"A\",\n",
        "  department= \"Surgery\"\n",
        ")"
      ],
      "id": "instantiation-demo"
    },
    {
      "cell_type": "markdown",
      "metadata": {},
      "source": [
        "We can use the `.treat_patient` method:"
      ],
      "id": "5f93fcf8-036b-4c9f-9fc9-ee8d0cd53e84"
    },
    {
      "cell_type": "code",
      "execution_count": 12,
      "metadata": {},
      "outputs": [
        {
          "output_type": "stream",
          "name": "stdout",
          "text": [
            "Health professional 12345 treated patient Betty"
          ]
        }
      ],
      "source": [
        "doctor_duggee.treat_patient(\"Betty\")"
      ],
      "id": "method-use-demo"
    },
    {
      "cell_type": "markdown",
      "metadata": {},
      "source": [
        "We can access the object’s object attributes:"
      ],
      "id": "483104a0-1612-4491-8cde-30f8f8e083fc"
    },
    {
      "cell_type": "code",
      "execution_count": 13,
      "metadata": {},
      "outputs": [
        {
          "output_type": "stream",
          "name": "stdout",
          "text": [
            "Health Professional 12345 works in the Surgery department"
          ]
        }
      ],
      "source": [
        "print(f'Health Professional {doctor_duggee.assignment_number} works in the {doctor_duggee.department} department')"
      ],
      "id": "attr-use-demo"
    },
    {
      "cell_type": "markdown",
      "metadata": {},
      "source": [
        "And we can access the class attribute:"
      ],
      "id": "ff890619-c3b4-4791-9b9c-fd00194994f7"
    },
    {
      "cell_type": "code",
      "execution_count": 14,
      "metadata": {},
      "outputs": [
        {
          "output_type": "display_data",
          "metadata": {},
          "data": {
            "text/plain": [
              "7.5"
            ]
          }
        }
      ],
      "source": [
        "doctor_duggee.daily_capacity"
      ],
      "id": "cell-access-attr-demo"
    },
    {
      "cell_type": "markdown",
      "metadata": {},
      "source": [
        "It is also very easy to update an object’s attribute values. Compare\n",
        "this with updating the values in a `dict`, which can be quite\n",
        "[fiddly](https://www.geeksforgeeks.org/python-replace-dictionary-value-from-other-dictionary/)."
      ],
      "id": "4a5063d5-1f07-42c3-8e05-c5843a1f05bf"
    },
    {
      "cell_type": "code",
      "execution_count": 15,
      "metadata": {},
      "outputs": [
        {
          "output_type": "stream",
          "name": "stdout",
          "text": [
            "Health Professional 12345 works in the Medicine for Older Persons department in Division C"
          ]
        }
      ],
      "source": [
        "doctor_duggee.department = 'Medicine for Older Persons'\n",
        "doctor_duggee.division = 'C'\n",
        "\n",
        "print(f'Health Professional {doctor_duggee.assignment_number} works in the {doctor_duggee.department} department in Division {doctor_duggee.division}')"
      ],
      "id": "update-attr-demo"
    },
    {
      "cell_type": "markdown",
      "metadata": {},
      "source": [
        "Class attribute values can be updated at object level in the same way.\n",
        "This change won’t affect new objects created from the class. Think of\n",
        "class attributes as holding a common *default* value."
      ],
      "id": "7c041e2d-51ab-4f59-8782-32d6ed3205cc"
    },
    {
      "cell_type": "code",
      "execution_count": 16,
      "metadata": {},
      "outputs": [
        {
          "output_type": "stream",
          "name": "stdout",
          "text": [
            "Duggee's daily capacity: 8 hours."
          ]
        }
      ],
      "source": [
        "doctor_duggee.daily_capacity = 8\n",
        "print(f'Duggee\\'s daily capacity: {doctor_duggee.daily_capacity} hours.')"
      ],
      "id": "update-class-attr-demo"
    },
    {
      "cell_type": "markdown",
      "metadata": {},
      "source": [
        "## Inheritance\n",
        "\n",
        "One of the main strengths of object-oriented programming is the ability\n",
        "to create *child* classes from other classes (the original, *parent*\n",
        "classes). This allows us to create classes that modify or extend the\n",
        "data (attributes) and behaviours (methods) of the parent class, without\n",
        "altering the parent class itself. Multiple child classes can be created\n",
        "which share the attributes and methods *consistently*, but extend or\n",
        "modify them in their own way.\n",
        "\n",
        "Let us have a look at how a child class gets created from the parent\n",
        "class. Again, we will start off with the child class written out in full\n",
        "so that you can see how it would look. Then we will go through it line\n",
        "by line.\n",
        "\n",
        "We are going to create “Doctor” and “Nurse” child classes of the\n",
        "`HealthProfessional` parent class. They will inherit the attributes and\n",
        "methods of the `HealthProfessional` class, but extend them in their own\n",
        "way."
      ],
      "id": "6ccd716c-b1e3-4d3d-871f-525b65507f00"
    },
    {
      "cell_type": "code",
      "execution_count": 17,
      "metadata": {},
      "outputs": [],
      "source": [
        "class Doctor(HealthProfessional):\n",
        "    def __init__(self,assignment_number,division,department,seniority):\n",
        "        self.seniority = seniority\n",
        "        super().__init__(assignment_number,division,department)\n",
        "\n",
        "    def discharge_patient(self,patient_name):\n",
        "        print(f'Doctor {self.assignment_number} discharged patient {patient_name}')"
      ],
      "id": "create-child--demo"
    },
    {
      "cell_type": "markdown",
      "metadata": {},
      "source": [
        "### Child class definition\n",
        "\n",
        "First of all, when defining a child class, we start off with the keyword\n",
        "`class` followed by the name of the child class, followed by the name of\n",
        "the parent class in brackets, ending with a colon."
      ],
      "id": "c8b571f8-ef88-4960-b7e7-1a392ed1d65a"
    },
    {
      "cell_type": "code",
      "execution_count": 18,
      "metadata": {},
      "outputs": [],
      "source": [
        "class Doctor(HealthProfessional):"
      ],
      "id": "child-definition-demo"
    },
    {
      "cell_type": "markdown",
      "metadata": {},
      "source": [
        "### Child class constructor method and child attributes\n",
        "\n",
        "Then, with one indentation, we write the constructor method, just as we\n",
        "did with the parent class. Remember, we must always enter `self` as the\n",
        "first argument. Then we need to enter the names of the attributes that\n",
        "the child class will inherit from the parent, followed by any new object\n",
        "attributes. In the second line, the any new object attributes are bound\n",
        "to `self`."
      ],
      "id": "3d9f8d71-7e05-444f-881b-d280501185ae"
    },
    {
      "cell_type": "code",
      "execution_count": 19,
      "metadata": {},
      "outputs": [],
      "source": [
        "    def __init__(self,assignment_number,division,department,seniority):\n",
        "        self.seniority = seniority"
      ],
      "id": "child-constructor-demo"
    },
    {
      "cell_type": "markdown",
      "metadata": {},
      "source": [
        "### The super(). function\n",
        "\n",
        "Below any new attributes, we enter a line that draws down any methods\n",
        "and attributes from the parent class. `super()` is a function that calls\n",
        "the constructor function from the parent class."
      ],
      "id": "f2442b52-fcf9-409c-ba48-544c1a2abbc4"
    },
    {
      "cell_type": "code",
      "execution_count": 20,
      "metadata": {},
      "outputs": [],
      "source": [
        "        super().__init__(assignment_number,division,department)"
      ],
      "id": "super-demo"
    },
    {
      "cell_type": "markdown",
      "metadata": {},
      "source": [
        "Note that you do not need to refer to any methods or *class* attributes\n",
        "here. They automatically get replicated by the super() method. The only\n",
        "elements that you need to explicitly mention are the *object* attributes\n",
        "defined in the parent class.\n",
        "\n",
        "> **Remember**\n",
        ">\n",
        "> **Class** attributes are the ones that have “default” values that are\n",
        "> common to all objects created from a class. In our\n",
        "> `HealthProfessional` example, this was `daily_capacity`. They are\n",
        "> written just under the class name and are not bound to `self`.\n",
        "> **Object** attributes receive their values when an object is\n",
        "> instantiated and are specific to that object. They are bound to\n",
        "> `self`.\n",
        "\n",
        "### Child-specific methods\n",
        "\n",
        "Last in our example is the definition of any new methods that are\n",
        "specific to the *child* class. `Doctor` objects will be able to treat\n",
        "patients with the inherited `.treat_patient()` method, but we are also\n",
        "going to give them the ability to discharge patients with the\n",
        "`.discharge_patient()` method.\n",
        "\n",
        "As with the `.treat_patient()` method in the parent class, we use the\n",
        "`def` keyword, followed by the name of the method for the child class,\n",
        "`self` as the first argument, and the name of any variable that we want\n",
        "to pass to the method, in this case the name of the patient we want to\n",
        "discharge."
      ],
      "id": "5b1d1ae9-db2a-4b06-a718-5637008a0070"
    },
    {
      "cell_type": "code",
      "execution_count": 21,
      "metadata": {},
      "outputs": [],
      "source": [
        "    def discharge_patient(self,patient_name):\n",
        "        print(f'Doctor {self.assignment_number} discharged patient {patient_name}')"
      ],
      "id": "child-method-demo"
    },
    {
      "cell_type": "markdown",
      "metadata": {},
      "source": [
        "### Our child class in action\n",
        "\n",
        "Let’s create an object instance of the `Doctor` class and try out the\n",
        "methods and attributes."
      ],
      "id": "1b0e0b6e-d48d-4cd3-a72c-b084fcdb6caf"
    },
    {
      "cell_type": "code",
      "execution_count": 22,
      "metadata": {},
      "outputs": [],
      "source": [
        "doctor_peppa = Doctor(\n",
        "  999999,\n",
        "  \"B\",\n",
        "  \"Ophthalmology\",\n",
        "  \"Consultant\"\n",
        ")"
      ],
      "id": "child-instantiation-demo"
    },
    {
      "cell_type": "code",
      "execution_count": 23,
      "metadata": {},
      "outputs": [
        {
          "output_type": "stream",
          "name": "stdout",
          "text": [
            "Assignment number: 999999\n",
            "Division: B\n",
            "Department: Ophthalmology\n",
            "Seniority: Consultant"
          ]
        }
      ],
      "source": [
        "print(f'Assignment number: {doctor_peppa.assignment_number}')\n",
        "print(f'Division: {doctor_peppa.division}')\n",
        "print(f'Department: {doctor_peppa.department}')\n",
        "print(f'Seniority: {doctor_peppa.seniority}')"
      ],
      "id": "child-attr-demo"
    },
    {
      "cell_type": "markdown",
      "metadata": {},
      "source": [
        "Note that we can still retrieve the `daily_capacity` attribute, which\n",
        "was defined in the parent class `HealthProfessional`"
      ],
      "id": "6769689a-b694-4ed1-bff5-8dba316da4a3"
    },
    {
      "cell_type": "code",
      "execution_count": 24,
      "metadata": {},
      "outputs": [
        {
          "output_type": "display_data",
          "metadata": {},
          "data": {
            "text/plain": [
              "7.5"
            ]
          }
        }
      ],
      "source": [
        "doctor_peppa.daily_capacity"
      ],
      "id": "cell-child-class-attr-demo"
    },
    {
      "cell_type": "markdown",
      "metadata": {},
      "source": [
        "However, we can prove that Doctor Peppa is a `Doctor` object and not a\n",
        "`HealthProfessional` object by using Python’s type() function"
      ],
      "id": "4bed6417-72c4-4bb4-98bb-8213611fa93c"
    },
    {
      "cell_type": "code",
      "execution_count": 25,
      "metadata": {},
      "outputs": [
        {
          "output_type": "display_data",
          "metadata": {},
          "data": {
            "text/plain": [
              "__main__.Doctor"
            ]
          }
        }
      ],
      "source": [
        "type(doctor_peppa)"
      ],
      "id": "cell-type-demo"
    },
    {
      "cell_type": "markdown",
      "metadata": {},
      "source": [
        "We can also test Doctor Peppa’s methods:"
      ],
      "id": "8fb59c9c-481a-483d-a0b4-b367d51e9966"
    },
    {
      "cell_type": "code",
      "execution_count": 26,
      "metadata": {},
      "outputs": [
        {
          "output_type": "stream",
          "name": "stdout",
          "text": [
            "Health professional 999999 treated patient Suzy Sheep"
          ]
        }
      ],
      "source": [
        "doctor_peppa.treat_patient(\"Suzy Sheep\")"
      ],
      "id": "inherited-method-use-demo"
    },
    {
      "cell_type": "markdown",
      "metadata": {},
      "source": [
        "> **Interesting…**\n",
        ">\n",
        "> Did you notice how it said “Health professional”? This was actually\n",
        "> unintentional, but it neatly demonstrates how the `.treat_patient()`\n",
        "> method has been inherited from the parent class (because the text of\n",
        "> the statement wasn’t amended when the child class was created)."
      ],
      "id": "35ff3860-4fd4-4355-ba78-069896f15f37"
    },
    {
      "cell_type": "code",
      "execution_count": 27,
      "metadata": {},
      "outputs": [
        {
          "output_type": "stream",
          "name": "stdout",
          "text": [
            "Doctor 999999 discharged patient Suzy Sheep"
          ]
        }
      ],
      "source": [
        "doctor_peppa.discharge_patient(\"Suzy Sheep\")"
      ],
      "id": "child-method-use-demo"
    },
    {
      "cell_type": "markdown",
      "metadata": {},
      "source": [
        "What happens if Doctor Duggee tries to discharge a patient? Try\n",
        "uncommenting the Python below and running the cell."
      ],
      "id": "c4348c94-03c2-462d-a2ef-bb7f9384c950"
    },
    {
      "cell_type": "code",
      "execution_count": 28,
      "metadata": {},
      "outputs": [],
      "source": [
        "# doctor_duggee.discharge_patient(\"Happy\")"
      ],
      "id": "unavailable-method-demo"
    },
    {
      "cell_type": "markdown",
      "metadata": {},
      "source": [
        "We get an error, because `doctor_duggee` is a `HealthProfessional`\n",
        "object, which does not contain the `.discharge_patient()` method.\n",
        "\n",
        "If you want to turn `doctor_duggee` into a `Doctor` object, you need to\n",
        "instantiate him as such."
      ],
      "id": "8c893cd1-8258-42c1-a178-50fde8dedec1"
    },
    {
      "cell_type": "code",
      "execution_count": 29,
      "metadata": {},
      "outputs": [
        {
          "output_type": "display_data",
          "metadata": {},
          "data": {
            "text/plain": [
              "__main__.Doctor"
            ]
          }
        }
      ],
      "source": [
        "doctor_duggee = Doctor(\n",
        "  assignment_number = 12345,\n",
        "  division = \"A\",\n",
        "  department= \"Surgery\",\n",
        "  seniority=\"Resident\"\n",
        ")\n",
        "\n",
        "type(doctor_duggee)"
      ],
      "id": "cell-reinstantiate-demo"
    },
    {
      "cell_type": "markdown",
      "metadata": {},
      "source": [
        "### Defining a second child class\n",
        "\n",
        "Let’s quickly define the `Nurse` child class of `HealthProfessional` to\n",
        "demonstrate how different child classes can share the same inherited\n",
        "characteristics, but still have their own.\n",
        "\n",
        "Instead of `seniority`, `Nurse` objects will have `band` and `role`\n",
        "attributes, and instead of `.discharge_patient()` the method\n",
        "`.take_readings()`."
      ],
      "id": "b0e4d65c-1660-41bb-b435-6ec3e3269908"
    },
    {
      "cell_type": "code",
      "execution_count": 30,
      "metadata": {},
      "outputs": [],
      "source": [
        "class Nurse(HealthProfessional):\n",
        "    def __init__(self,assignment_number,division,department,band,role):\n",
        "        self.band = band\n",
        "        self.role = role\n",
        "        super().__init__(assignment_number,division,department)\n",
        "\n",
        "  # Adding a new method to the child class\n",
        "    def take_readings(self,patient_name):\n",
        "        print(f'Nurse {self.assignment_number} took the vital signs readings of {patient_name}')"
      ],
      "id": "second-child-demo"
    },
    {
      "cell_type": "code",
      "execution_count": 31,
      "metadata": {},
      "outputs": [
        {
          "output_type": "stream",
          "name": "stdout",
          "text": [
            "Assignment number:  10101\n",
            "Division: A\n",
            "Department: Cancer Care\n",
            "AfC Band: 5\n",
            "Role: Staff Nurse\n",
            "Daily Capacity: 7.5\n",
            "Nurse 10101 took the vital signs readings of Roly"
          ]
        }
      ],
      "source": [
        "nurse_tag = Nurse(\n",
        "  assignment_number = 10101,\n",
        "  division = \"A\",\n",
        "  department = \"Cancer Care\",\n",
        "  band = \"5\",\n",
        "  role = \"Staff Nurse\"\n",
        ")\n",
        "\n",
        "print(f'Assignment number:  {nurse_tag.assignment_number}')\n",
        "print(f'Division: {nurse_tag.division}')\n",
        "print(f'Department: {nurse_tag.department}')\n",
        "print(f'AfC Band: {nurse_tag.band}')\n",
        "print(f'Role: {nurse_tag.role}')\n",
        "print(f'Daily Capacity: {nurse_tag.daily_capacity}')\n",
        "\n",
        "nurse_tag.take_readings(\"Roly\")"
      ],
      "id": "instantiate-second-child-demo"
    },
    {
      "cell_type": "markdown",
      "metadata": {},
      "source": [
        "### The isinstance() function\n",
        "\n",
        "There is also a function that can check whether an object belongs to a\n",
        "specified class. (This is particularly useful for checking data types\n",
        "when a specific type needs to be enforced, given that every variable is\n",
        "treated as an object belonging to a particular class. This data type\n",
        "enforcement doesn’t happen by default in Python since it is a\n",
        "dynamically-typed language. Leaving this up to Python could lead to a\n",
        "mismatch of data types, which could lead to errors further down the\n",
        "line)."
      ],
      "id": "9a4dd7d5-a12a-406f-a6f2-8a80311a698a"
    },
    {
      "cell_type": "code",
      "execution_count": 32,
      "metadata": {},
      "outputs": [
        {
          "output_type": "display_data",
          "metadata": {},
          "data": {
            "text/plain": [
              "True"
            ]
          }
        }
      ],
      "source": [
        "isinstance(nurse_tag,Nurse)"
      ],
      "id": "cell-isinstance-demo"
    },
    {
      "cell_type": "code",
      "execution_count": 33,
      "metadata": {},
      "outputs": [
        {
          "output_type": "stream",
          "name": "stdout",
          "text": [
            "Invalid input: this field only accepts text strings"
          ]
        }
      ],
      "source": [
        "# Imagine we wanted to ensure that AfC bands always get stored as strings\n",
        "# for consistency since they can include alphanumeric values (e.g. \"8a\") as\n",
        "# well as purely numeric values (e.g. \"6\")\n",
        "\n",
        "my_input = 7 # this will be interpreted as an integer\n",
        "\n",
        "if isinstance(my_input,str):\n",
        "  print('Valid input')\n",
        "else:\n",
        "  print('Invalid input: this field only accepts text strings')"
      ],
      "id": "isinstance-check-demo"
    },
    {
      "cell_type": "markdown",
      "metadata": {},
      "source": [
        "Those are the fundamentals of how to create classes and objects. Let’s\n",
        "have a look at something a *bit* more advanced to give you an idea of\n",
        "something you might want to create for a team of analysts.\n",
        "\n",
        "## A practical example\n",
        "\n",
        "Below is an example of how we might create an standard SCW chart\n",
        "template for different kinds of charts using a class. **The string and\n",
        "Boolean values in the constructor method are default values that can be\n",
        "overwritten by any values passed to the object at instantiation.**"
      ],
      "id": "58001669-7b70-4a0d-97b7-bc3abb533f3d"
    },
    {
      "cell_type": "code",
      "execution_count": 34,
      "metadata": {},
      "outputs": [],
      "source": [
        "import matplotlib.pyplot as plt\n",
        "\n",
        "class SCWPlot:\n",
        "  def __init__(self, x_data, y_data, title=\"SCW Plot\", xlabel=\"X-axis\", ylabel=\"Y-axis\", grid=False):\n",
        "    self.x_data = x_data\n",
        "    self.y_data = y_data\n",
        "    self.title = title\n",
        "    self.xlabel = xlabel\n",
        "    self.ylabel = ylabel\n",
        "    self.grid = grid\n",
        "    # Colour palette based on SCW colours\n",
        "    self.palette = ['#1C355E','#005EB8','#00A9CE','#330072','#78BE20']\n",
        "\n",
        "  # This part is a method internal to the class. It is not accessed by users, but helps to standardise\n",
        "  # the methods relating to each type of chart. By convention, these internal methods begin with an underscore.\n",
        "  def _setup_plot(self):\n",
        "    plt.figure(figsize=(8, 5))\n",
        "    plt.title(self.title)\n",
        "    plt.xlabel(self.xlabel)\n",
        "    plt.ylabel(self.ylabel)\n",
        "    plt.grid(visible=True,which='major',axis='both')\n",
        "    plt.tight_layout()\n",
        "\n",
        "  # The two methods below are each for a different kind of chart that the user can plot. They both make use of\n",
        "  # the ._setup_plot() to determine certain shared, consistent characteristics.\n",
        "  def plot_line(self, linestyle='-', marker='o'):\n",
        "    self._setup_plot()            # use the common structure defined above\n",
        "    plt.plot(                     # plot a line chart with the data passed to the object\n",
        "        self.x_data, \n",
        "        self.y_data, \n",
        "        color=self.palette[0],    # use the first value in the palette list\n",
        "        linestyle=linestyle, \n",
        "        marker=marker\n",
        "    )\n",
        "    plt.show()                    # display the chart\n",
        "\n",
        "  def plot_bar(self):\n",
        "    self._setup_plot()            # use the common structure defined above\n",
        "    plt.bar(                      # plot a bar chart with data passed to the object\n",
        "      self.x_data, \n",
        "      self.y_data, \n",
        "      color=self.palette\n",
        "    ) \n",
        "    plt.show()                    # display the chart"
      ],
      "id": "practical-example-demo"
    },
    {
      "cell_type": "markdown",
      "metadata": {},
      "source": [
        "Then we will create a very simple dataset to use for testing the use of\n",
        "our class."
      ],
      "id": "9a4e271a-c0f6-4faf-9c4e-c45ca67b9d55"
    },
    {
      "cell_type": "code",
      "execution_count": 35,
      "metadata": {},
      "outputs": [],
      "source": [
        "x = ['A', 'B', 'C', 'D', 'E']\n",
        "y = [5, 7, 3, 8, 6]"
      ],
      "id": "create-chart-data-demo"
    },
    {
      "cell_type": "markdown",
      "metadata": {},
      "source": [
        "Now we can instantiate an `SCWPlot` object and call the two chart type\n",
        "methods to produce charts."
      ],
      "id": "d0ee16f4-c343-414b-b32d-64366be24d89"
    },
    {
      "cell_type": "code",
      "execution_count": 36,
      "metadata": {},
      "outputs": [
        {
          "output_type": "display_data",
          "metadata": {},
          "data": {
            "image/png": "[encoded data removed]"
          }
        }
      ],
      "source": [
        "plot = SCWPlot(x, y, title=\"SCW-Branded Plot\", xlabel=\"Category\", ylabel=\"Value\")\n",
        "\n",
        "plot.plot_line()"
      ],
      "id": "cell-instantiate-chart-demo"
    },
    {
      "cell_type": "code",
      "execution_count": 37,
      "metadata": {},
      "outputs": [
        {
          "output_type": "display_data",
          "metadata": {},
          "data": {
            "image/png": "[encoded data removed]"
          }
        }
      ],
      "source": [
        "plot.plot_bar()"
      ],
      "id": "cell-second-chart-demo"
    },
    {
      "cell_type": "markdown",
      "metadata": {},
      "source": [
        "As you can see, it becomes easy for the user to switch between different\n",
        "kinds of plots while maintaining a standard colour scheme and chart\n",
        "size.\n",
        "\n",
        "In reality, you would not have all of the implementation code (i.e. the\n",
        "code written to create the class) in your script or notebook. This would\n",
        "stored in a separate Python file and the class would be imported into\n",
        "the script. In a future session we will talk about this and creating our\n",
        "own packages.\n",
        "\n",
        "#### Simple maintenance and extensibility\n",
        "\n",
        "Creating standardised functions as methods of a class helps to simplify\n",
        "maintaining and extending functionality. In the example above, things\n",
        "like the colour palette and figure size are defined once and these get\n",
        "cascaded to the methods relating to individual chart types, so they only\n",
        "need to be edited once. Furthermore, it is easy for a colleague to add\n",
        "another chart type (e.g. horizontal bar) with four lines of code,\n",
        "without necessarily having to understand in detail how the rest of the\n",
        "class has been constructed. This example produces relatively simple\n",
        "charts, but there is the potential to create a class that consistently\n",
        "produces timeseries charts with a preferred x-axis layout (something\n",
        "that can be quite fiddly to perfect!).\n",
        "\n",
        "While this class can be extended by adding more chart type methods, can\n",
        "you think of a possible reason for creating a child class from it?\n",
        "\n",
        "## Exercises\n",
        "\n",
        "1.  How do you check what class a variable is?\n",
        "\n",
        "> **Solution**\n",
        ">\n",
        "> ``` python\n",
        "> my_variable = 5\n",
        ">\n",
        "> type(my_variable)\n",
        "> ```\n",
        ">\n",
        ">     int\n",
        "\n",
        "1.  How would you check whether the value of the variable in the\n",
        "    previous solution is an integer?\n",
        "\n",
        "> **Solution**\n",
        ">\n",
        "> ``` python\n",
        "> isinstance(my_variable,int)\n",
        "> ```\n",
        ">\n",
        ">     True\n",
        "\n",
        "1.  Which function can be used to display all of the methods and\n",
        "    attributes belonging to an object?\n",
        "\n",
        "> **Solution**\n",
        ">\n",
        "> ``` python\n",
        "> dir(my_variable)\n",
        "> ```\n",
        ">\n",
        ">     ['__abs__',\n",
        ">      '__add__',\n",
        ">      '__and__',\n",
        ">      '__bool__',\n",
        ">      '__ceil__',\n",
        ">      '__class__',\n",
        ">      '__delattr__',\n",
        ">      '__dir__',\n",
        ">      '__divmod__',\n",
        ">      '__doc__',\n",
        ">      '__eq__',\n",
        ">      '__float__',\n",
        ">      '__floor__',\n",
        ">      '__floordiv__',\n",
        ">      '__format__',\n",
        ">      '__ge__',\n",
        ">      '__getattribute__',\n",
        ">      '__getnewargs__',\n",
        ">      '__getstate__',\n",
        ">      '__gt__',\n",
        ">      '__hash__',\n",
        ">      '__index__',\n",
        ">      '__init__',\n",
        ">      '__init_subclass__',\n",
        ">      '__int__',\n",
        ">      '__invert__',\n",
        ">      '__le__',\n",
        ">      '__lshift__',\n",
        ">      '__lt__',\n",
        ">      '__mod__',\n",
        ">      '__mul__',\n",
        ">      '__ne__',\n",
        ">      '__neg__',\n",
        ">      '__new__',\n",
        ">      '__or__',\n",
        ">      '__pos__',\n",
        ">      '__pow__',\n",
        ">      '__radd__',\n",
        ">      '__rand__',\n",
        ">      '__rdivmod__',\n",
        ">      '__reduce__',\n",
        ">      '__reduce_ex__',\n",
        ">      '__repr__',\n",
        ">      '__rfloordiv__',\n",
        ">      '__rlshift__',\n",
        ">      '__rmod__',\n",
        ">      '__rmul__',\n",
        ">      '__ror__',\n",
        ">      '__round__',\n",
        ">      '__rpow__',\n",
        ">      '__rrshift__',\n",
        ">      '__rshift__',\n",
        ">      '__rsub__',\n",
        ">      '__rtruediv__',\n",
        ">      '__rxor__',\n",
        ">      '__setattr__',\n",
        ">      '__sizeof__',\n",
        ">      '__str__',\n",
        ">      '__sub__',\n",
        ">      '__subclasshook__',\n",
        ">      '__truediv__',\n",
        ">      '__trunc__',\n",
        ">      '__xor__',\n",
        ">      'as_integer_ratio',\n",
        ">      'bit_count',\n",
        ">      'bit_length',\n",
        ">      'conjugate',\n",
        ">      'denominator',\n",
        ">      'from_bytes',\n",
        ">      'imag',\n",
        ">      'is_integer',\n",
        ">      'numerator',\n",
        ">      'real',\n",
        ">      'to_bytes']\n",
        "\n",
        "1.  How do you access an object’s attributes? What is the syntax?\n",
        "\n",
        "> **Solution**\n",
        ">\n",
        "> `object.attribute`\n",
        ">\n",
        "> ``` python\n",
        "> my_variable.numerator\n",
        "> ```\n",
        ">\n",
        ">     5\n",
        "\n",
        "1.  How do you call an object’s methods? What is the syntax?\n",
        "\n",
        "> **Solution**\n",
        ">\n",
        "> `object.method()`\n",
        ">\n",
        "> ``` python\n",
        "> my_variable.is_integer()\n",
        "> ```\n",
        ">\n",
        ">     True\n",
        "\n",
        "1.  Create a class called “Patient” with the characteristics below. You\n",
        "    may wish to refer back to previous sessions on core programming\n",
        "    concepts for guidance.\n",
        "\n",
        "-   A class attribute called “bed_space” and assign it the value 1\n",
        "-   Object attributes for “patient_number” and “diagnosis”, values for\n",
        "    which will be assigned at instantiation, and “cured” which has the\n",
        "    default value of `False` as well as “admitted” with the default\n",
        "    value of `True`\n",
        "-   A method called “get_well” which updates the “cured” attribute to\n",
        "    `True` and prints a statement that returns the “patient_number” and\n",
        "    the “diagnosis” that the patient has been cured of. (Hint: you will\n",
        "    need to use an f-string with the attributes embedded in the\n",
        "    statement).\n",
        "-   A method called “get_discharged” which checks whether the patient\n",
        "    has been cured and if this is `True`, prints a statement to say that\n",
        "    the patient has been discharged and sets “admitted” to `False`.\n",
        "    Othwerwise, it prints a statement to say that the patient is not\n",
        "    ready to be discharged.\n",
        "\n",
        "> **Solution**\n",
        ">\n",
        "> ``` python\n",
        "> class Patient:\n",
        ">\n",
        ">   bed_space = 1\n",
        ">\n",
        ">   def __init__(self,patient_number,diagnosis):\n",
        ">     self.patient_number = patient_number\n",
        ">     self.diagnosis = diagnosis\n",
        ">     self.cured = False\n",
        ">     self.admitted = True\n",
        ">\n",
        ">   def get_well(self):\n",
        ">     self.cured = True\n",
        ">     print(f'Patient {self.patient_number} has been cured of {self.diagnosis}')\n",
        ">   \n",
        ">   def get_discharged(self):\n",
        ">     if self.cured == True:\n",
        ">       print(f'Patient {self.patient_number} has been discharged')\n",
        ">       self.admitted = False\n",
        ">     else:\n",
        ">       print(f'Patient {self.patient_number} is not ready to be discharged')\n",
        "> ```\n",
        "\n",
        "1.  Instantiate a Patient object with a “patient_number” and\n",
        "    “diagnosis”. Try discharging the patient before they have been\n",
        "    cured, then call the `get_well` method and try discharging the\n",
        "    patient again.\n",
        "\n",
        "> **Solution**\n",
        ">\n",
        "> ``` python\n",
        "> my_patient = Patient(patient_number='12345',diagnosis='acute tummy ache')\n",
        ">\n",
        "> my_patient.get_discharged()\n",
        ">\n",
        "> my_patient.get_well()\n",
        ">\n",
        "> my_patient.get_discharged()\n",
        "> ```\n",
        ">\n",
        ">     Patient 12345 is not ready to be discharged\n",
        ">     Patient 12345 has been cured of acute tummy ache\n",
        ">     Patient 12345 has been discharged\n",
        "\n",
        "1.  With the Patient object you created, how would you access the\n",
        "    “admitted” attribute to check whether they are still an inpatient?\n",
        "\n",
        "> **Solution**\n",
        ">\n",
        "> ``` python\n",
        "> my_patient.admitted\n",
        "> ```\n",
        ">\n",
        ">     False\n",
        "\n",
        "1.  Create a child class called “SurgeryPatient” that inherits the\n",
        "    methods and attributes from `Patient`. Add an attribute called\n",
        "    “theatre” to store the name of the operating theatre that gets\n",
        "    assigned when the object is created and a method that checks whether\n",
        "    the patient has been cured or not. When `False`, the method prints a\n",
        "    message requesting that the patient be transferred to the `theatre`,\n",
        "    when `True` the method prints a message to say that the patient can\n",
        "    proceed to discharge.\n",
        "\n",
        "> **Solution**\n",
        ">\n",
        "> ``` python\n",
        "> class SurgeryPatient(Patient):\n",
        ">   def __init__(self, patient_number, diagnosis, theatre):\n",
        ">     self.theatre = theatre\n",
        ">     super().__init__(patient_number, diagnosis)\n",
        ">\n",
        ">   def theatre_call(self):\n",
        ">     if self.cured == False:\n",
        ">       print(f'Please transfer patient {self.patient_number} to theatre {self.theatre}')\n",
        ">     else:\n",
        ">       print(f'Patient {self.patient_number} is now ready for discharge')\n",
        "> ```\n",
        "\n",
        "1.  Instantiate a `SurgeryPatient` object, test whether the attributes\n",
        "    and methods have been inherited from the `Patient` class, and test\n",
        "    the `.theatre_call()` method. Your solution doesn’t have to match\n",
        "    exactly. Just be sure that you are able to test each element of the\n",
        "    class.\n",
        "\n",
        "> **Solution**\n",
        ">\n",
        "> ``` python\n",
        "> my_surgery_patient = SurgeryPatient(patient_number=54321,diagnosis='a broken leg',theatre='11F')\n",
        ">\n",
        "> print(f'This patient occupies {my_surgery_patient.bed_space} bed')\n",
        ">\n",
        "> my_surgery_patient.get_discharged()\n",
        ">\n",
        "> my_surgery_patient.theatre_call()\n",
        ">\n",
        "> my_surgery_patient.get_well()\n",
        ">\n",
        "> my_surgery_patient.theatre_call()\n",
        ">\n",
        "> my_surgery_patient.get_discharged()\n",
        ">\n",
        "> print(f'Is this patient still on our inpatient ward? {my_surgery_patient.admitted}')\n",
        "> ```\n",
        ">\n",
        ">     This patient occupies 1 bed\n",
        ">     Patient 54321 is not ready to be discharged\n",
        ">     Please transfer patient 54321 to theatre 11F\n",
        ">     Patient 54321 has been cured of a broken leg\n",
        ">     Patient 54321 is now ready for discharge\n",
        ">     Patient 54321 has been discharged\n",
        ">     Is this patient still on our inpatient ward? False\n",
        "\n",
        "## Bonus challenge\n",
        "\n",
        "> **Note**\n",
        ">\n",
        "> We haven’t provided a suggested solution for this one, but do feel\n",
        "> free to discuss potential answers in the Code Club channels.\n",
        "\n",
        "Instantiate a smallish number of Patient objects (no need to spend too\n",
        "much time on this, but you do need more than one!). Can you work out a\n",
        "way to total the amount of bed space occupied by your patients by\n",
        "summing together the `bed_space` class attribute values? Try using a\n",
        "loop."
      ],
      "id": "e6698bd2-6871-4637-b955-32251a167584"
    }
  ],
  "nbformat": 4,
  "nbformat_minor": 5,
  "metadata": {
    "kernelspec": {
      "name": "python3",
      "display_name": "Python 3 (ipykernel)",
      "language": "python",
      "path": "C:.chick- NHS_dev_club_webpage.venv"
    },
    "language_info": {
      "name": "python",
      "codemirror_mode": {
        "name": "ipython",
        "version": "3"
      },
      "file_extension": ".py",
      "mimetype": "text/x-python",
      "nbconvert_exporter": "python",
      "pygments_lexer": "ipython3",
      "version": "3.12.7"
    }
  }
}